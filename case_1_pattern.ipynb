{
  "nbformat": 4,
  "nbformat_minor": 0,
  "metadata": {
    "colab": {
      "provenance": [],
      "authorship_tag": "ABX9TyOGCC+GSr6w8JQsnCbWkiwv",
      "include_colab_link": true
    },
    "kernelspec": {
      "name": "python3",
      "display_name": "Python 3"
    },
    "language_info": {
      "name": "python"
    }
  },
  "cells": [
    {
      "cell_type": "markdown",
      "metadata": {
        "id": "view-in-github",
        "colab_type": "text"
      },
      "source": [
        "<a href=\"https://colab.research.google.com/github/junting-huang/data_storytelling/blob/main/case_1_pattern.ipynb\" target=\"_parent\"><img src=\"https://colab.research.google.com/assets/colab-badge.svg\" alt=\"Open In Colab\"/></a>"
      ]
    },
    {
      "cell_type": "markdown",
      "source": [
        "# case_1. pattern\n"
      ],
      "metadata": {
        "id": "JUrLBPV3Qdpt"
      }
    },
    {
      "cell_type": "markdown",
      "source": [
        "## 1.1 installation"
      ],
      "metadata": {
        "id": "iPkq74HLWLvm"
      }
    },
    {
      "cell_type": "code",
      "source": [
        "! pip install textblob"
      ],
      "metadata": {
        "id": "3tqDxERkWnEC",
        "colab": {
          "base_uri": "https://localhost:8080/"
        },
        "outputId": "64339b4b-475a-41d7-b9e8-d14830689eb4"
      },
      "execution_count": 6,
      "outputs": [
        {
          "output_type": "stream",
          "name": "stdout",
          "text": [
            "Requirement already satisfied: textblob in /usr/local/lib/python3.10/dist-packages (0.17.1)\n",
            "Requirement already satisfied: nltk>=3.1 in /usr/local/lib/python3.10/dist-packages (from textblob) (3.8.1)\n",
            "Requirement already satisfied: click in /usr/local/lib/python3.10/dist-packages (from nltk>=3.1->textblob) (8.1.7)\n",
            "Requirement already satisfied: joblib in /usr/local/lib/python3.10/dist-packages (from nltk>=3.1->textblob) (1.3.2)\n",
            "Requirement already satisfied: regex>=2021.8.3 in /usr/local/lib/python3.10/dist-packages (from nltk>=3.1->textblob) (2023.6.3)\n",
            "Requirement already satisfied: tqdm in /usr/local/lib/python3.10/dist-packages (from nltk>=3.1->textblob) (4.66.1)\n"
          ]
        }
      ]
    },
    {
      "cell_type": "code",
      "source": [
        "! python -m textblob.download_corpora"
      ],
      "metadata": {
        "id": "Bd1UgyKtbbhc",
        "colab": {
          "base_uri": "https://localhost:8080/"
        },
        "outputId": "4434dd16-260e-40bc-cafc-fe62ba030339"
      },
      "execution_count": 7,
      "outputs": [
        {
          "output_type": "stream",
          "name": "stdout",
          "text": [
            "[nltk_data] Downloading package brown to /root/nltk_data...\n",
            "[nltk_data]   Unzipping corpora/brown.zip.\n",
            "[nltk_data] Downloading package punkt to /root/nltk_data...\n",
            "[nltk_data]   Unzipping tokenizers/punkt.zip.\n",
            "[nltk_data] Downloading package wordnet to /root/nltk_data...\n",
            "[nltk_data] Downloading package averaged_perceptron_tagger to\n",
            "[nltk_data]     /root/nltk_data...\n",
            "[nltk_data]   Unzipping taggers/averaged_perceptron_tagger.zip.\n",
            "[nltk_data] Downloading package conll2000 to /root/nltk_data...\n",
            "[nltk_data]   Unzipping corpora/conll2000.zip.\n",
            "[nltk_data] Downloading package movie_reviews to /root/nltk_data...\n",
            "[nltk_data]   Unzipping corpora/movie_reviews.zip.\n",
            "Finished.\n"
          ]
        }
      ]
    },
    {
      "cell_type": "markdown",
      "source": [
        "## 1.2 basic usage"
      ],
      "metadata": {
        "id": "wwUyLnQYV3qI"
      }
    },
    {
      "cell_type": "code",
      "source": [
        "from textblob import TextBlob"
      ],
      "metadata": {
        "id": "FhMDu1yhXNzc"
      },
      "execution_count": 8,
      "outputs": []
    },
    {
      "cell_type": "code",
      "source": [
        "blob = TextBlob(\"When I wrote the following pages, or rather the bulk of them, I lived alone, in the woods, a mile from any neighbor, in a house which I had built myself, on the shore of Walden Pond, in Concord, Massachusetts, and earned my living by the labor of my hands only. \")"
      ],
      "metadata": {
        "id": "YK1Mt16rX4Hg"
      },
      "execution_count": 26,
      "outputs": []
    },
    {
      "cell_type": "code",
      "source": [
        "print(blob.tags)"
      ],
      "metadata": {
        "id": "XtCAIT5GX-5U",
        "colab": {
          "base_uri": "https://localhost:8080/"
        },
        "outputId": "5e971046-cb5b-4dd2-91bb-87d3a76876b6"
      },
      "execution_count": 27,
      "outputs": [
        {
          "output_type": "stream",
          "name": "stdout",
          "text": [
            "[('When', 'WRB'), ('I', 'PRP'), ('wrote', 'VBD'), ('the', 'DT'), ('following', 'JJ'), ('pages', 'NNS'), ('or', 'CC'), ('rather', 'RB'), ('the', 'DT'), ('bulk', 'NN'), ('of', 'IN'), ('them', 'PRP'), ('I', 'PRP'), ('lived', 'VBD'), ('alone', 'RB'), ('in', 'IN'), ('the', 'DT'), ('woods', 'NNS'), ('a', 'DT'), ('mile', 'NN'), ('from', 'IN'), ('any', 'DT'), ('neighbor', 'NN'), ('in', 'IN'), ('a', 'DT'), ('house', 'NN'), ('which', 'WDT'), ('I', 'PRP'), ('had', 'VBD'), ('built', 'VBN'), ('myself', 'PRP'), ('on', 'IN'), ('the', 'DT'), ('shore', 'NN'), ('of', 'IN'), ('Walden', 'NNP'), ('Pond', 'NNP'), ('in', 'IN'), ('Concord', 'NNP'), ('Massachusetts', 'NNP'), ('and', 'CC'), ('earned', 'VBD'), ('my', 'PRP$'), ('living', 'NN'), ('by', 'IN'), ('the', 'DT'), ('labor', 'NN'), ('of', 'IN'), ('my', 'PRP$'), ('hands', 'NNS'), ('only', 'RB')]\n"
          ]
        }
      ]
    },
    {
      "cell_type": "code",
      "source": [
        "print(blob.words)"
      ],
      "metadata": {
        "colab": {
          "base_uri": "https://localhost:8080/"
        },
        "id": "eNqSvklTX8YP",
        "outputId": "448ce2d0-9b68-403b-ab2b-18efa7d40050"
      },
      "execution_count": 30,
      "outputs": [
        {
          "output_type": "stream",
          "name": "stdout",
          "text": [
            "['When', 'I', 'wrote', 'the', 'following', 'pages', 'or', 'rather', 'the', 'bulk', 'of', 'them', 'I', 'lived', 'alone', 'in', 'the', 'woods', 'a', 'mile', 'from', 'any', 'neighbor', 'in', 'a', 'house', 'which', 'I', 'had', 'built', 'myself', 'on', 'the', 'shore', 'of', 'Walden', 'Pond', 'in', 'Concord', 'Massachusetts', 'and', 'earned', 'my', 'living', 'by', 'the', 'labor', 'of', 'my', 'hands', 'only']\n"
          ]
        }
      ]
    },
    {
      "cell_type": "code",
      "source": [
        "print(blob.noun_phrases)"
      ],
      "metadata": {
        "id": "4pCvZ6vzYCk1",
        "outputId": "81ad6dd9-2828-4264-ce83-cccaa9b39b32",
        "colab": {
          "base_uri": "https://localhost:8080/"
        }
      },
      "execution_count": 28,
      "outputs": [
        {
          "output_type": "stream",
          "name": "stdout",
          "text": [
            "['walden pond', 'concord', 'massachusetts']\n"
          ]
        }
      ]
    },
    {
      "cell_type": "code",
      "source": [
        "print(blob.words[5].singularize())"
      ],
      "metadata": {
        "colab": {
          "base_uri": "https://localhost:8080/"
        },
        "id": "LuJnBpl9TgNn",
        "outputId": "c2065290-adde-47cd-9f39-53343516a2f4"
      },
      "execution_count": 29,
      "outputs": [
        {
          "output_type": "stream",
          "name": "stdout",
          "text": [
            "page\n"
          ]
        }
      ]
    },
    {
      "cell_type": "code",
      "source": [
        "print(blob.words[2].lemmatize('v'))"
      ],
      "metadata": {
        "colab": {
          "base_uri": "https://localhost:8080/"
        },
        "id": "1QWWCCw1YHLq",
        "outputId": "d9c2ce43-1f1a-4c44-c3d5-c250703c6d37"
      },
      "execution_count": 37,
      "outputs": [
        {
          "output_type": "stream",
          "name": "stdout",
          "text": [
            "write\n"
          ]
        }
      ]
    },
    {
      "cell_type": "code",
      "source": [
        "print(blob.words[4].stem())"
      ],
      "metadata": {
        "colab": {
          "base_uri": "https://localhost:8080/"
        },
        "id": "Q_i9HM9vadpE",
        "outputId": "270d1fb2-b2bf-49f9-8645-6b669a5cd2d6"
      },
      "execution_count": 38,
      "outputs": [
        {
          "output_type": "stream",
          "name": "stdout",
          "text": [
            "follow\n"
          ]
        }
      ]
    },
    {
      "cell_type": "markdown",
      "source": [
        "## 1.3 rule-based text generation"
      ],
      "metadata": {
        "id": "n1GJBJQrYUCB"
      }
    },
    {
      "cell_type": "code",
      "source": [
        "import random"
      ],
      "metadata": {
        "id": "VX-ZPXfqQuGU"
      },
      "execution_count": null,
      "outputs": []
    },
    {
      "cell_type": "code",
      "source": [
        "# Dictionary of words for each part of speech\n",
        "word_dict = {\n",
        "    'adjectives': ['bright', 'dark', 'colorful', 'dreary', 'vibrant', 'lifeless'],\n",
        "    'nouns': ['sun', 'moon', 'forest', 'desert', 'sky', 'ocean'],\n",
        "    'verbs': ['shines', 'sings', 'whispers', 'screams', 'glistens', 'cries'],\n",
        "    'adverbs': ['loudly', 'softly', 'brightly', 'painfully', 'carefully', 'joyfully']\n",
        "}"
      ],
      "metadata": {
        "id": "2QwUChT5Oal4"
      },
      "execution_count": null,
      "outputs": []
    },
    {
      "cell_type": "code",
      "source": [
        "# Sentence structures that the program can choose from\n",
        "sentence_structures = [\n",
        "    ['The', 'adjectives', 'nouns', 'verbs', 'adverbs'],\n",
        "    ['adjectives', 'nouns', 'verbs', 'adverbs', 'in the', 'adjectives', 'nouns'],\n",
        "    ['The', 'nouns', 'verbs', 'adverbs', 'under the', 'adjectives', 'nouns']\n",
        "]"
      ],
      "metadata": {
        "id": "LmH4_CHIOhxx"
      },
      "execution_count": null,
      "outputs": []
    },
    {
      "cell_type": "code",
      "source": [
        "# Returns a random word of the given part of speech\n",
        "def get_word(part_of_speech):\n",
        "    return random.choice(word_dict[part_of_speech])"
      ],
      "metadata": {
        "id": "zvQRPyvxPliA"
      },
      "execution_count": null,
      "outputs": []
    },
    {
      "cell_type": "code",
      "source": [
        "# Returns a sentence generated according to a random sentence structure\n",
        "def get_sentence():\n",
        "    sentence_structure = random.choice(sentence_structures)\n",
        "    sentence = ' '.join(get_word(part_of_speech) if part_of_speech in word_dict else part_of_speech for part_of_speech in sentence_structure)\n",
        "    return sentence.capitalize() + '.'"
      ],
      "metadata": {
        "id": "cYtZC_kdQZO8"
      },
      "execution_count": null,
      "outputs": []
    },
    {
      "cell_type": "code",
      "source": [
        "# Generates a 4-line poem\n",
        "def generate_poem():\n",
        "    for _ in range(4):\n",
        "        print(get_sentence())"
      ],
      "metadata": {
        "id": "rOBmnEVUQzr6"
      },
      "execution_count": null,
      "outputs": []
    },
    {
      "cell_type": "code",
      "source": [
        "generate_poem()"
      ],
      "metadata": {
        "id": "lmhDGIveQ-qN"
      },
      "execution_count": null,
      "outputs": []
    },
    {
      "cell_type": "markdown",
      "source": [
        "## 1.4 regulated verse generation"
      ],
      "metadata": {
        "id": "apa7nXDZPmGb"
      }
    },
    {
      "cell_type": "code",
      "source": [
        "from textblob import Word\n",
        "import random\n",
        "import requests\n",
        "\n",
        "seed_words = ['love', 'moon', 'star', 'dream']\n",
        "adjectives = ['bright', 'dark', 'sweet', 'silent']\n",
        "nouns = ['night', 'sky', 'heart', 'light']\n",
        "\n",
        "def generate_line(seed_word):\n",
        "    adjective = random.choice(adjectives)\n",
        "    noun = random.choice(nouns)\n",
        "    return f\"The {adjective} {seed_word} of {noun}\"\n",
        "\n",
        "def find_rhyme(word, pos):\n",
        "    url = f\"https://api.datamuse.com/words?rel_rhy={word}&tags={pos}\"\n",
        "    response = requests.get(url)\n",
        "    if response.status_code == 200:\n",
        "        words = response.json()\n",
        "        if words:\n",
        "            return words[0]['word']\n",
        "    return word  # return the original word if no rhyme is found\n",
        "\n",
        "def generate_poem():\n",
        "    poem = []\n",
        "    for i in range(4):  # Generate 4 lines\n",
        "        seed_word = random.choice(seed_words)\n",
        "        line = generate_line(seed_word)\n",
        "        if i % 2 != 0:  # For every second line, find a rhyme for the last word of the previous line\n",
        "            last_word = poem[i - 1].split()[-1]\n",
        "            rhyme_word = find_rhyme(last_word, 'nn')  # Find a noun that rhymes\n",
        "            line = line.rsplit(' ', 1)[0] + ' ' + rhyme_word  # Replace the last word with the rhyming word\n",
        "        poem.append(line)\n",
        "    return '\\n'.join(poem)\n",
        "\n",
        "# Generate and print the poem\n",
        "print(generate_poem())"
      ],
      "metadata": {
        "colab": {
          "base_uri": "https://localhost:8080/",
          "height": 35
        },
        "id": "WUXTiyCRR0br",
        "outputId": "cb7cffbd-8c08-4511-b1f9-553a6e4be5a5"
      },
      "execution_count": 4,
      "outputs": [
        {
          "output_type": "execute_result",
          "data": {
            "text/plain": [
              "'The dark love of night\\nThe sweet dream of light\\nThe dark dream of night\\nThe sweet star of light'"
            ],
            "application/vnd.google.colaboratory.intrinsic+json": {
              "type": "string"
            }
          },
          "metadata": {},
          "execution_count": 4
        }
      ]
    }
  ]
}