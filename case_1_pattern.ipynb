{
  "nbformat": 4,
  "nbformat_minor": 0,
  "metadata": {
    "colab": {
      "provenance": [],
      "authorship_tag": "ABX9TyOGjo96qeDcRjopKiunzdMs",
      "include_colab_link": true
    },
    "kernelspec": {
      "name": "python3",
      "display_name": "Python 3"
    },
    "language_info": {
      "name": "python"
    }
  },
  "cells": [
    {
      "cell_type": "markdown",
      "metadata": {
        "id": "view-in-github",
        "colab_type": "text"
      },
      "source": [
        "<a href=\"https://colab.research.google.com/github/junting-huang/data_storytelling/blob/main/case_1_pattern.ipynb\" target=\"_parent\"><img src=\"https://colab.research.google.com/assets/colab-badge.svg\" alt=\"Open In Colab\"/></a>"
      ]
    },
    {
      "cell_type": "markdown",
      "source": [
        "## pattern\n",
        " - let us build a poetry generator\n",
        " - the history of poetry generation\n",
        " - identify patterns and use the right pattern to tell right stories\n",
        "\n",
        "### first example (rule-based model)\n",
        "  - import neccessary module\n",
        "  - create a dictionary\n",
        "  - create sentence structures\n",
        "  - create a function to fill in words\n",
        "  - generate the poem\n",
        "\n",
        "exercise 1.1 replace words & structure\n",
        "\n",
        "### a real example\n",
        "[nick montfort's taroko gorge](https://nickm.com/taroko_gorge/)\n",
        "\n",
        "### second example (statistics-based model)\n",
        "  - import existing corpus\n",
        "  - creat markov chain\n",
        "  - generate the poem\n",
        "\n",
        "exercise 1.2 replace the text corpus\n",
        "\n",
        "### third example (advanced cases)\n",
        " - other genres\n",
        " - other languages\n",
        "\n",
        "### assignment\n",
        "save your code and post one of the poems\n"
      ],
      "metadata": {
        "id": "0oZlel5mZYlw"
      }
    },
    {
      "cell_type": "code",
      "source": [
        "import random\n",
        "\n",
        "# Dictionary of words for each part of speech\n",
        "word_dict = {\n",
        "    'adjectives': ['bright', 'dark', 'colorful', 'dreary', 'vibrant', 'lifeless'],\n",
        "    'nouns': ['sun', 'moon', 'forest', 'desert', 'sky', 'ocean'],\n",
        "    'verbs': ['shines', 'sings', 'whispers', 'screams', 'glistens', 'cries'],\n",
        "    'adverbs': ['loudly', 'softly', 'brightly', 'painfully', 'carefully', 'joyfully']\n",
        "}\n",
        "\n",
        "# Sentence structures that the program can choose from\n",
        "sentence_structures = [\n",
        "    ['The', 'adjectives', 'nouns', 'verbs', 'adverbs'],\n",
        "    ['adjectives', 'nouns', 'verbs', 'adverbs', 'in the', 'adjectives', 'nouns'],\n",
        "    ['The', 'nouns', 'verbs', 'adverbs', 'under the', 'adjectives', 'nouns']\n",
        "]\n",
        "\n",
        "def get_word(part_of_speech):\n",
        "    \"\"\"Returns a random word of the given part of speech\"\"\"\n",
        "    return random.choice(word_dict[part_of_speech])\n",
        "\n",
        "def get_sentence():\n",
        "    \"\"\"Returns a sentence generated according to a random sentence structure\"\"\"\n",
        "    sentence_structure = random.choice(sentence_structures)\n",
        "    sentence = ' '.join(get_word(part_of_speech) if part_of_speech in word_dict else part_of_speech for part_of_speech in sentence_structure)\n",
        "    return sentence.capitalize() + '.'\n",
        "\n",
        "def generate_poem():\n",
        "    \"\"\"Generates a 4-line poem\"\"\"\n",
        "    for _ in range(4):\n",
        "        print(get_sentence())\n",
        "\n",
        "generate_poem()"
      ],
      "metadata": {
        "colab": {
          "base_uri": "https://localhost:8080/"
        },
        "id": "uqbgygiLaGHm",
        "outputId": "f837ba71-8fa6-4c58-98ae-9abc192a54a6"
      },
      "execution_count": null,
      "outputs": [
        {
          "output_type": "stream",
          "name": "stdout",
          "text": [
            "The dark moon sings carefully.\n",
            "Colorful desert screams loudly in the dark sky.\n",
            "The moon sings softly under the dark sky.\n",
            "The moon screams carefully under the vibrant forest.\n"
          ]
        }
      ]
    },
    {
      "cell_type": "code",
      "source": [
        "import random\n",
        "import re\n",
        "\n",
        "class MarkovChain:\n",
        "    def __init__(self):\n",
        "        self.lookup_dict = {}\n",
        "\n",
        "    def _get_words(self, text):\n",
        "        word_list = re.sub(r'\\W+', ' ', text).split()\n",
        "        return word_list\n",
        "\n",
        "    def add_string(self, text):\n",
        "        words = self._get_words(text)\n",
        "        for i in range(0, len(words)-2):\n",
        "            key = (words[i], words[i + 1])\n",
        "            if key in self.lookup_dict:\n",
        "                self.lookup_dict[key].append(words[i + 2])\n",
        "            else:\n",
        "                self.lookup_dict[key] = [words[i + 2]]\n",
        "\n",
        "    def generate_text(self, max_length=50):\n",
        "        key = random.choice(list(self.lookup_dict.keys()))\n",
        "        gen_words = []\n",
        "        gen_words.append(key[0])\n",
        "        gen_words.append(key[1])\n",
        "        while len(gen_words) < max_length:\n",
        "            key = tuple(gen_words[-2:])\n",
        "            if key in self.lookup_dict:\n",
        "                gen_words.append(random.choice(self.lookup_dict[key]))\n",
        "            else:\n",
        "                break\n",
        "        return ' '.join(gen_words)\n",
        "\n",
        "# import sample text\n",
        "with open('walden.txt', 'r') as file:\n",
        "    text = file.read().replace('\\n', '')\n",
        "\n",
        "markov_chain = MarkovChain()\n",
        "markov_chain.add_string(text)\n",
        "\n",
        "generated_text = markov_chain.generate_text(max_length=20)  # Adjust max_length as needed\n",
        "words = generated_text.split(' ')\n",
        "\n",
        "# Generate a 4-line poem\n",
        "lines = 4\n",
        "words_per_line = len(words) // lines\n",
        "\n",
        "for i in range(lines):\n",
        "    print(' '.join(words[i*words_per_line:(i+1)*words_per_line]))"
      ],
      "metadata": {
        "colab": {
          "base_uri": "https://localhost:8080/"
        },
        "id": "Pth1OxAzd3cI",
        "outputId": "89e85987-7c35-46eb-8377-b4e5f29f1fb6"
      },
      "execution_count": null,
      "outputs": [
        {
          "output_type": "stream",
          "name": "stdout",
          "text": [
            "as refined as solidly done\n",
            "and I lost all my\n",
            "village friends I rambled through\n",
            "the meadows on the surface\n"
          ]
        }
      ]
    },
    {
      "cell_type": "code",
      "source": [
        "import random\n",
        "\n",
        "class MarkovChain:\n",
        "    def __init__(self):\n",
        "        self.lookup_dict = {}\n",
        "\n",
        "    def add_string(self, text):\n",
        "        words = list(text.replace(\" \", \"\").replace(\"\\n\", \"\"))\n",
        "        for i in range(0, len(words)-2):\n",
        "            key = (words[i], words[i + 1])\n",
        "            if key in self.lookup_dict:\n",
        "                self.lookup_dict[key].append(words[i + 2])\n",
        "            else:\n",
        "                self.lookup_dict[key] = [words[i + 2]]\n",
        "\n",
        "    def generate_text(self, max_length=50):\n",
        "        key = random.choice(list(self.lookup_dict.keys()))\n",
        "        gen_words = []\n",
        "        gen_words.append(key[0])\n",
        "        gen_words.append(key[1])\n",
        "        while len(gen_words) < max_length:\n",
        "            key = tuple(gen_words[-2:])\n",
        "            if key in self.lookup_dict:\n",
        "                gen_words.append(random.choice(self.lookup_dict[key]))\n",
        "            else:\n",
        "                break\n",
        "        return ''.join(gen_words)\n",
        "\n",
        "# Usage example\n",
        "with open('海子.txt', 'r', encoding='utf-8') as file:\n",
        "    text = file.read()\n",
        "\n",
        "markov_chain = MarkovChain()\n",
        "markov_chain.add_string(text)\n",
        "\n",
        "generated_text = markov_chain.generate_text(max_length=20)  # Adjust max_length as needed\n",
        "chars_per_line = len(generated_text) // 4\n",
        "\n",
        "for i in range(4):\n",
        "    print(generated_text[i*chars_per_line:(i+1)*chars_per_line])"
      ],
      "metadata": {
        "colab": {
          "base_uri": "https://localhost:8080/"
        },
        "id": "TFB07LXi540M",
        "outputId": "ab5a4bb1-0b30-4e6f-8675-418d1ce779ab"
      },
      "execution_count": null,
      "outputs": [
        {
          "output_type": "stream",
          "name": "stdout",
          "text": [
            "他比我更早\n",
            "睡去　　我\n",
            "的泪水和盐\n",
            "的嘴唇　　\n"
          ]
        }
      ]
    },
    {
      "cell_type": "code",
      "source": [],
      "metadata": {
        "id": "ijHin4mQ9wHL"
      },
      "execution_count": null,
      "outputs": []
    }
  ]
}