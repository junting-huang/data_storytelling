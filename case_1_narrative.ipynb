{
  "cells": [
    {
      "cell_type": "markdown",
      "metadata": {
        "colab_type": "text",
        "id": "view-in-github"
      },
      "source": [
        "<a href=\"https://colab.research.google.com/github/junting-huang/data_storytelling/blob/main/case_1_narrative.ipynb\" target=\"_parent\"><img src=\"https://colab.research.google.com/assets/colab-badge.svg\" alt=\"Open In Colab\"/></a>"
      ]
    },
    {
      "cell_type": "markdown",
      "metadata": {
        "id": "JUrLBPV3Qdpt"
      },
      "source": [
        "# case_1. narrative\n"
      ]
    },
    {
      "cell_type": "markdown",
      "metadata": {},
      "source": [
        "TextBlob is a Python (2 and 3) library for processing textual data. It provides a simple API for diving into common natural language processing (NLP) tasks such as part-of-speech tagging, noun phrase extraction, sentiment analysis, classification, translation, and more. More information can be found: https://textblob.readthedocs.io/en/dev/. This tutorial serves as a quick introduction to the python TextBlob package."
      ]
    },
    {
      "cell_type": "markdown",
      "metadata": {
        "id": "iPkq74HLWLvm"
      },
      "source": [
        "## 1.1 installation"
      ]
    },
    {
      "cell_type": "code",
      "execution_count": null,
      "metadata": {
        "colab": {
          "base_uri": "https://localhost:8080/"
        },
        "id": "3tqDxERkWnEC",
        "outputId": "61aa3161-19b7-4c7a-d401-33d54ad2f674"
      },
      "outputs": [],
      "source": [
        "! pip install textblob"
      ]
    },
    {
      "cell_type": "code",
      "execution_count": null,
      "metadata": {
        "colab": {
          "base_uri": "https://localhost:8080/"
        },
        "id": "Bd1UgyKtbbhc",
        "outputId": "76afdddf-7885-4495-f572-fe46e449e1f5"
      },
      "outputs": [],
      "source": [
        "! python -m textblob.download_corpora"
      ]
    },
    {
      "cell_type": "markdown",
      "metadata": {
        "id": "wwUyLnQYV3qI"
      },
      "source": [
        "## 1.2 basic usage"
      ]
    },
    {
      "cell_type": "markdown",
      "metadata": {},
      "source": [
        "TextBlob aims to provide access to common text-processing operations through a familiar interface. You can treat TextBlob objects as if they were Python strings that learned how to do Natural Language Processing."
      ]
    },
    {
      "cell_type": "markdown",
      "metadata": {},
      "source": [
        "First, the import."
      ]
    },
    {
      "cell_type": "code",
      "execution_count": 1,
      "metadata": {
        "id": "FhMDu1yhXNzc"
      },
      "outputs": [],
      "source": [
        "from textblob import TextBlob"
      ]
    },
    {
      "cell_type": "markdown",
      "metadata": {},
      "source": [
        "Let’s create our first TextBlob."
      ]
    },
    {
      "cell_type": "code",
      "execution_count": 2,
      "metadata": {
        "id": "YK1Mt16rX4Hg"
      },
      "outputs": [],
      "source": [
        "blob = TextBlob(\"When I wrote the following pages, or rather the bulk of them, I lived alone, in the woods, a mile from any neighbor, in a house which I had built myself, on the shore of Walden Pond, in Concord, Massachusetts, and earned my living by the labor of my hands only. \")"
      ]
    },
    {
      "cell_type": "markdown",
      "metadata": {},
      "source": [
        "### Part-of-speech Tagging\n",
        "\n",
        "Part-of-speech tagging is a natural language processing task that involves assigning a grammatical category (such as noun, verb, adjective, etc.) to each word in a text. This process is essential for several reasons:\n",
        "\n",
        "* Syntax Analysis: Part-of-speech tagging helps in understanding the syntactic structure of a sentence. Identifying the part of speech of each word allows for the analysis of how words relate to each other in a grammatical sense.\n",
        "\n",
        "* Semantic Analysis: It aids in understanding the meaning of words in context. Different parts of speech convey different semantic roles, and knowing the part of speech can provide insights into the intended meaning of a word.\n",
        "\n",
        "* Information Retrieval: Part-of-speech tagging is crucial in information retrieval systems. It enables more accurate and relevant searches by considering the grammatical roles of words in queries and documents.\n",
        "\n",
        "\n",
        "Part-of-speech tags can be accessed through the tags property."
      ]
    },
    {
      "cell_type": "code",
      "execution_count": 3,
      "metadata": {
        "colab": {
          "base_uri": "https://localhost:8080/"
        },
        "id": "XtCAIT5GX-5U",
        "outputId": "ec76fb9f-4fc0-4aaf-a5ee-827b54faafa9"
      },
      "outputs": [
        {
          "name": "stdout",
          "output_type": "stream",
          "text": [
            "[('When', 'WRB'), ('I', 'PRP'), ('wrote', 'VBD'), ('the', 'DT'), ('following', 'JJ'), ('pages', 'NNS'), ('or', 'CC'), ('rather', 'RB'), ('the', 'DT'), ('bulk', 'NN'), ('of', 'IN'), ('them', 'PRP'), ('I', 'PRP'), ('lived', 'VBD'), ('alone', 'RB'), ('in', 'IN'), ('the', 'DT'), ('woods', 'NNS'), ('a', 'DT'), ('mile', 'NN'), ('from', 'IN'), ('any', 'DT'), ('neighbor', 'NN'), ('in', 'IN'), ('a', 'DT'), ('house', 'NN'), ('which', 'WDT'), ('I', 'PRP'), ('had', 'VBD'), ('built', 'VBN'), ('myself', 'PRP'), ('on', 'IN'), ('the', 'DT'), ('shore', 'NN'), ('of', 'IN'), ('Walden', 'NNP'), ('Pond', 'NNP'), ('in', 'IN'), ('Concord', 'NNP'), ('Massachusetts', 'NNP'), ('and', 'CC'), ('earned', 'VBD'), ('my', 'PRP$'), ('living', 'NN'), ('by', 'IN'), ('the', 'DT'), ('labor', 'NN'), ('of', 'IN'), ('my', 'PRP$'), ('hands', 'NNS'), ('only', 'RB')]\n"
          ]
        }
      ],
      "source": [
        "print(blob.tags)"
      ]
    },
    {
      "cell_type": "markdown",
      "metadata": {},
      "source": [
        "### Noun Phrase Extraction\n",
        "\n",
        "Noun phrase extraction is a natural language processing (NLP) task that involves identifying and extracting noun phrases from a given text. A noun phrase is a group of words that function as a unit and includes a noun (the head) along with its modifiers. The process of noun phrase extraction serves several important purposes:\n",
        "\n",
        "* Semantic Analysis: Noun phrases often represent meaningful units of information in a sentence. Extracting them helps in understanding the key entities and concepts discussed in the text, contributing to semantic analysis.\n",
        "\n",
        "* Information Retrieval: Noun phrases play a crucial role in information retrieval systems. By extracting relevant noun phrases from documents, search engines can improve the accuracy of search results and help users find information more effectively.\n",
        "\n",
        "* Named Entity Recognition (NER): Noun phrase extraction is closely related to named entity recognition. Many named entities, such as people, organizations, and locations, are often part of noun phrases. Extracting noun phrases can be a preliminary step in identifying and categorizing named entities.\n",
        "\n",
        "\n",
        "Similarly, noun phrases are accessed through the noun_phrases property."
      ]
    },
    {
      "cell_type": "code",
      "execution_count": 4,
      "metadata": {
        "colab": {
          "base_uri": "https://localhost:8080/"
        },
        "id": "4pCvZ6vzYCk1",
        "outputId": "4dcbc315-3e47-43d4-fd30-26348910ed02"
      },
      "outputs": [
        {
          "name": "stdout",
          "output_type": "stream",
          "text": [
            "['walden pond', 'concord', 'massachusetts']\n"
          ]
        }
      ],
      "source": [
        "print(blob.noun_phrases)"
      ]
    },
    {
      "cell_type": "markdown",
      "metadata": {},
      "source": [
        "### Tokenization\n",
        "\n",
        "You can break TextBlobs into words or sentences. Sentence objects have the same properties and methods as TextBlobs. For more advanced tokenization, see the Advanced Usage guide: https://textblob.readthedocs.io/en/dev/advanced_usage.html#advanced."
      ]
    },
    {
      "cell_type": "code",
      "execution_count": 5,
      "metadata": {},
      "outputs": [
        {
          "data": {
            "text/plain": [
              "WordList(['When', 'I', 'wrote', 'the', 'following', 'pages', 'or', 'rather', 'the', 'bulk', 'of', 'them', 'I', 'lived', 'alone', 'in', 'the', 'woods', 'a', 'mile', 'from', 'any', 'neighbor', 'in', 'a', 'house', 'which', 'I', 'had', 'built', 'myself', 'on', 'the', 'shore', 'of', 'Walden', 'Pond', 'in', 'Concord', 'Massachusetts', 'and', 'earned', 'my', 'living', 'by', 'the', 'labor', 'of', 'my', 'hands', 'only'])"
            ]
          },
          "execution_count": 5,
          "metadata": {},
          "output_type": "execute_result"
        }
      ],
      "source": [
        "blob.words"
      ]
    },
    {
      "cell_type": "code",
      "execution_count": 6,
      "metadata": {},
      "outputs": [
        {
          "data": {
            "text/plain": [
              "[Sentence(\"When I wrote the following pages, or rather the bulk of them, I lived alone, in the woods, a mile from any neighbor, in a house which I had built myself, on the shore of Walden Pond, in Concord, Massachusetts, and earned my living by the labor of my hands only.\")]"
            ]
          },
          "execution_count": 6,
          "metadata": {},
          "output_type": "execute_result"
        }
      ],
      "source": [
        "blob.sentences"
      ]
    },
    {
      "cell_type": "markdown",
      "metadata": {},
      "source": [
        "### Words Inflection and Lemmatization\n",
        "\n",
        "Each word in TextBlob.words or Sentence.words is a Word object (a subclass of unicode) with useful methods, e.g. for word inflection."
      ]
    },
    {
      "cell_type": "code",
      "execution_count": 7,
      "metadata": {},
      "outputs": [
        {
          "name": "stdout",
          "output_type": "stream",
          "text": [
            "pages\n"
          ]
        }
      ],
      "source": [
        "print(blob.words[5])"
      ]
    },
    {
      "cell_type": "code",
      "execution_count": 8,
      "metadata": {},
      "outputs": [
        {
          "name": "stdout",
          "output_type": "stream",
          "text": [
            "page\n"
          ]
        }
      ],
      "source": [
        "print(blob.words[5].singularize())"
      ]
    },
    {
      "cell_type": "code",
      "execution_count": 9,
      "metadata": {},
      "outputs": [
        {
          "name": "stdout",
          "output_type": "stream",
          "text": [
            "mile\n"
          ]
        }
      ],
      "source": [
        "print(blob.words[19])"
      ]
    },
    {
      "cell_type": "code",
      "execution_count": 10,
      "metadata": {},
      "outputs": [
        {
          "name": "stdout",
          "output_type": "stream",
          "text": [
            "miles\n"
          ]
        }
      ],
      "source": [
        "print(blob.words[19].pluralize())"
      ]
    },
    {
      "cell_type": "markdown",
      "metadata": {},
      "source": [
        "Words can be lemmatized by calling the lemmatize method."
      ]
    },
    {
      "cell_type": "code",
      "execution_count": 11,
      "metadata": {},
      "outputs": [
        {
          "name": "stdout",
          "output_type": "stream",
          "text": [
            "wrote\n"
          ]
        }
      ],
      "source": [
        "print(blob.words[2])"
      ]
    },
    {
      "cell_type": "code",
      "execution_count": 12,
      "metadata": {
        "colab": {
          "base_uri": "https://localhost:8080/"
        },
        "id": "1QWWCCw1YHLq",
        "outputId": "50464016-f3b7-433a-d8af-442735a11321"
      },
      "outputs": [
        {
          "name": "stdout",
          "output_type": "stream",
          "text": [
            "write\n"
          ]
        }
      ],
      "source": [
        "print(blob.words[2].lemmatize('v'))"
      ]
    },
    {
      "cell_type": "code",
      "execution_count": 13,
      "metadata": {},
      "outputs": [
        {
          "name": "stdout",
          "output_type": "stream",
          "text": [
            "following\n"
          ]
        }
      ],
      "source": [
        "print(blob.words[4])"
      ]
    },
    {
      "cell_type": "code",
      "execution_count": 14,
      "metadata": {
        "colab": {
          "base_uri": "https://localhost:8080/"
        },
        "id": "Q_i9HM9vadpE",
        "outputId": "ec6939fe-d9c0-49e9-9da3-4d8213923c7d"
      },
      "outputs": [
        {
          "name": "stdout",
          "output_type": "stream",
          "text": [
            "follow\n"
          ]
        }
      ],
      "source": [
        "print(blob.words[4].stem())"
      ]
    },
    {
      "cell_type": "markdown",
      "metadata": {},
      "source": [
        "A complete tutorial from TextBlob official website can be found here: https://textblob.readthedocs.io/en/dev/quickstart.html#quickstart."
      ]
    },
    {
      "cell_type": "markdown",
      "metadata": {},
      "source": [
        "## 1.3 labeling agent/action"
      ]
    },
    {
      "cell_type": "code",
      "execution_count": null,
      "metadata": {},
      "outputs": [],
      "source": []
    }
  ],
  "metadata": {
    "colab": {
      "include_colab_link": true,
      "provenance": []
    },
    "kernelspec": {
      "display_name": "Python 3",
      "name": "python3"
    },
    "language_info": {
      "codemirror_mode": {
        "name": "ipython",
        "version": 3
      },
      "file_extension": ".py",
      "mimetype": "text/x-python",
      "name": "python",
      "nbconvert_exporter": "python",
      "pygments_lexer": "ipython3",
      "version": "3.8.17"
    }
  },
  "nbformat": 4,
  "nbformat_minor": 0
}
