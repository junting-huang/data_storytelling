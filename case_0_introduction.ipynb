{
  "cells": [
    {
      "cell_type": "markdown",
      "metadata": {
        "id": "_gAz_re9_1ai"
      },
      "source": [
        "## Description\n",
        "\n",
        "This notebook serves as an introduction to coding in Python for class COMPLIT 280X. We'll begin by presenting the outcome of today's session. After that, we'll delve into some fundamental concepts that will lead us to that final outcome.\n",
        "\n",
        "## Learning Goals\n",
        "\n",
        "    To understand the basics syntax (\"grammar\" of the Python language)\n",
        "    To grasp fundamental concepts of IPython Notebooks.\n",
        "    To demonstrate that even a complex goal can be achieved step by step.\n",
        "\n",
        "By the end of this workshop, students should be able to comprehend the structure of a basic Python script and conduct rudimentary data analysis. They should also gain confidence in coding.\n",
        "\n",
        "## Requirements\n",
        "\n",
        "To participate in this workshop, you'll need a computer and a Google account (to access Colab). There's no need to install Python or any other software.\n",
        "\n",
        "Note: This course is tailored for literature majors. We simplify Python terminology and omit more advanced concepts to facilitate easier understanding. As a result, this workshop might differ significantly from typical introductory Python workshops. Students from STEM backgrounds might find it less comprehensive or detailed."
      ]
    },
    {
      "cell_type": "markdown",
      "metadata": {
        "id": "1grZwMsnuwp3"
      },
      "source": [
        "Acknowledgement and reference: This notebook is based on [Introduction to Python workshop](https://hbctraining.github.io/Training-modules/Python/) by [hbctraining](https://github.com/hbctraining)"
      ]
    },
    {
      "cell_type": "markdown",
      "metadata": {
        "id": "dBzuS8vBFMkZ"
      },
      "source": [
        "-----\n",
        "# Section 1: Colab interface"
      ]
    },
    {
      "cell_type": "markdown",
      "metadata": {
        "id": "zOeEDU5YyywP"
      },
      "source": [
        "---\n",
        "Please follow the instructions below to set up for this workshop:\n",
        "**Create your own copy of this python notebook (the workshop materials)**: Click \"File\" at the menu bar -> Click \"Save a copy in Drive\". This notebook will be automatically named \"Copy of case0_intro_to_python\" and copied in your Google Drive. You can rename it if you want.\n",
        "\n",
        "The platform that we will use during this workshop is Google Colab. Colab is a free cloud service platform based on the [Jupyter notebook](https://jupyter.org/) environment. It does not require users to install python locally, and the code is run entirely on the cloud server."
      ]
    },
    {
      "cell_type": "markdown",
      "metadata": {
        "id": "11H_hRS8F89Q"
      },
      "source": [
        "### Vocabulary"
      ]
    },
    {
      "cell_type": "markdown",
      "metadata": {
        "id": "zoORx2UOFXJL"
      },
      "source": [
        "| Term                       | Description                                                                                     | How to do in Google Colab                  |\n",
        "|----------------------------|-------------------------------------------------------------------------------------------------|--------------------------------------------|\n",
        "| Code Cell                  | A section in an IPython notebook where you can write and execute programming code.               | Click the `+ Code` button to add.          |\n",
        "| Text Cell                  | A section in an IPython notebook used for writing descriptive text, explanations, or notes.      | Click the `+ Text` button to add.          |\n",
        "| Creating and Deleting Cell | The process of adding a new cell to an IPython notebook or removing an existing one.            | Use `+ Code` or `+ Text` to add; hover over the cell and click the trash bin icon to delete.|\n",
        "| Saving the Document        | Storing the current state of an IPython notebook so that changes are preserved for later access.| Click on `File` > `Save`, or use `Ctrl + S`.|\n",
        "\n",
        "---"
      ]
    },
    {
      "cell_type": "markdown",
      "metadata": {
        "id": "Sr_JK_t9FgsN"
      },
      "source": [
        "### Exercise"
      ]
    },
    {
      "cell_type": "markdown",
      "metadata": {
        "id": "8CR-aBOwGDiT"
      },
      "source": [
        "Exercise 1: Document Your Day\n",
        "\n",
        "\n",
        "    Task: Create a new text cell and briefly describe your learning objective"
      ]
    },
    {
      "cell_type": "markdown",
      "metadata": {
        "id": "7sF1-udHy9hn"
      },
      "source": [
        "---\n",
        "\n",
        "# Section 2: Basic Python terminologies (20 min)"
      ]
    },
    {
      "cell_type": "markdown",
      "metadata": {
        "id": "KUW0Nigd2diu"
      },
      "source": [
        "## Python Variables\n",
        "A variable serves as a modifiable storage location for data values in your program. To assign a value to a variable, Python uses the `=` sign. Variable names in Python must comply with specific rules:\n",
        "- Initiation of a variable name must be with a letter or an underscore (_).\n",
        "- Only alphanumeric characters and underscores (A-z, 0-9, _) are allowed within the variable name.\n",
        "- The name must not coincide with any of Python's reserved keywords, a full list is available [here](https://docs.python.org/3.8/reference/lexical_analysis.html#keywords).\n",
        "- Variables are case-sensitive, which means `Year` and `year` would be recognized as two separate variables.\n"
      ]
    },
    {
      "cell_type": "markdown",
      "metadata": {
        "id": "R1r1csSf2rN_"
      },
      "source": [
        "## Example of Valid and Invalid Variable Names  \n",
        "| Valid Variable Names                  | Invalid Variable Names           | Reasons for Invalidity                                    |\n",
        "|---------------------------------------|----------------------------------|------------------------------------------------------------|\n",
        "| `volumes_InSearchOfLostTime`          | `7volumesOfLostTime`             | Starts with a number, not allowed.                         |\n",
        "| `averageRating_Ulysses`               | `average-rating`                 | Hyphens are not allowed, should be an underscore.          |\n",
        "| `title_Raven`                         | `\"TheRaven\"`                     | Quotes are not allowed in variable names.                   |\n",
        "| `nobelPrizeWinner_ToniMorrison`       | `nobelPrizeWinner Toni Morrison` | Spaces are not allowed in variable names.                   |\n",
        "\n"
      ]
    },
    {
      "cell_type": "markdown",
      "metadata": {
        "id": "pAerbpRxX_cP"
      },
      "source": []
    },
    {
      "cell_type": "markdown",
      "metadata": {
        "id": "63BaOVc4PMoB"
      },
      "source": [
        "## Data Types in Python\n",
        "\n",
        "Data in Python can be of various types. For instance, consider the variables `volumes_InSearchOfLostTime` and `averageRating_Ulysses`, which are both numeric. The variable `volumes_InSearchOfLostTime` is a whole number representing the count of volumes in Proust's \"In Search of Lost Time,\" making it an `int`, short for \"integer.\" In contrast, `averageRating_Ulysses` refers to the average rating of a novel and includes decimal places, which classifies it as a `float`.\n",
        "\n",
        "Additionally, we have `title_Raven`, which is a sequence of characters, and thus, it is a `str` for \"string,\" and `nobelPrizeWinner_ToniMorrison`, which is a `bool` for \"Boolean\" indicating a true or false state, in this case, whether Toni Morrison has won a Nobel Prize.\n",
        "\n",
        "> These concepts are analogous to the \"integer\" and \"numeric\" (for `float`) data types in R.\n",
        "\n",
        "To determine the data type of any variable in Python, the `type()` function can be employed. Here are some examples of how to use this function with the variables we've discussed:\n"
      ]
    },
    {
      "cell_type": "code",
      "execution_count": 5,
      "metadata": {
        "id": "NOcd75XHX_C-"
      },
      "outputs": [],
      "source": [
        "# Number of volumes in Proust's \"In Search of Lost Time\"\n",
        "volumes_InSearchOfLostTime = 7\n",
        "\n",
        "# Average rating of a critically acclaimed novel out of 10\n",
        "averageRating_Ulysses = 9.3\n",
        "\n",
        "# Title of a famous poem\n",
        "title_Raven = \"The Raven\"\n",
        "\n",
        "# Flag to check if the author is a recipient of the Nobel Prize in Literature\n",
        "nobelPrizeWinner_ToniMorrison = True\n"
      ]
    },
    {
      "cell_type": "code",
      "execution_count": 6,
      "metadata": {
        "id": "JDKPk7l6PMoB"
      },
      "outputs": [],
      "source": [
        "# Check the data type for 'volumes_InSearchOfLostTime' and 'title_Raven'\n"
      ]
    },
    {
      "cell_type": "markdown",
      "metadata": {
        "id": "VzVEyOL52ycZ"
      },
      "source": [
        "## Assigning Values and Inspecting Variables\n",
        "\n",
        "Variables such as `volumes_InSearchOfLostTime`, `averageRating_Ulysses`, `title_Raven`, and `nobelPrizeWinner_ToniMorrison` are now stored within the current Python computing environment. To observe these variables, you can locate them in the variable inspector pane, typically found on the left side of the screen in various Python IDEs.\n",
        "\n",
        "To display the values of these variables, the `print()` function can be utilized. This is particularly useful for printing out the values to the console. For instance, you could execute `print(volumes_InSearchOfLostTime)` to see the number of volumes in Proust's \"In Search of Lost Time.\"\n",
        "\n",
        "In interactive environments, like Jupyter notebooks, simply typing the variable name and executing the cell will display the value of that variable. For example:\n"
      ]
    },
    {
      "cell_type": "code",
      "execution_count": 7,
      "metadata": {},
      "outputs": [
        {
          "name": "stdout",
          "output_type": "stream",
          "text": [
            "7\n"
          ]
        }
      ],
      "source": [
        "print(volumes_InSearchOfLostTime)"
      ]
    },
    {
      "cell_type": "code",
      "execution_count": 8,
      "metadata": {
        "colab": {
          "base_uri": "https://localhost:8080/"
        },
        "id": "hKYVTY2V23q4",
        "outputId": "55b50f0f-538d-4180-9256-5e8ccc2a3612"
      },
      "outputs": [
        {
          "data": {
            "text/plain": [
              "7"
            ]
          },
          "execution_count": 8,
          "metadata": {},
          "output_type": "execute_result"
        }
      ],
      "source": [
        "volumes_InSearchOfLostTime"
      ]
    },
    {
      "cell_type": "markdown",
      "metadata": {
        "id": "ruzRZaI6aFdi"
      },
      "source": [
        "## Exercise 1: Variable Assignment and Correction\n",
        "\n",
        "Objective: Create valid variable names and assign appropriate values of different data types, then correct the provided invalid variable names.\n",
        "\n",
        "Valid Assignment:\n",
        "        Assign an integer value to a variable named century_FirstNovelPublished that represents the century when the first novel is believed to have been published.\n",
        "        Assign a floating-point value to averageWordCount_ShakespeareSonnet representing the average word count in a Shakespearean sonnet.\n",
        "        Assign a string to theme_CommonLitFiction that holds a common theme found in literature fiction.\n",
        "        Assign a boolean to isEpic_Gilgamesh indicating whether \"The Epic of Gilgamesh\" is considered an epic.\n",
        "\n",
        "    Write your Python code for the above tasks here:\n",
        "\n",
        "\n",
        "Invalid Correction:\n",
        "Below are some incorrectly named variables. Correct each variable name and assign a suitable value related to comparative literature.\n",
        "\n",
        "    19CenturyGenres = ?\n",
        "    total#Pages = ?\n",
        "    author-Name = ?\n",
        "    fiction Or Nonfiction = ?\n",
        "\n",
        "Write your corrected variable names and assignments here:"
      ]
    },
    {
      "cell_type": "markdown",
      "metadata": {
        "id": "y_QWjIpJaRs3"
      },
      "source": []
    },
    {
      "cell_type": "markdown",
      "metadata": {
        "id": "eXAv5w3UPMoJ"
      },
      "source": [
        "## Recap\n",
        "\n",
        "In our exploration of Python basics, we've covered several fundamental concepts. We've learned **how to assign variables** and the syntax rules that govern their naming. This knowledge was applied to the realm of comparative literature, where we created meaningful variable names like `volumes_InSearchOfLostTime` and `nobelPrizeWinner_ToniMorrison`.\n",
        "\n",
        "Additionally, we delved into key **data types** in Python, namely `int`, `float`, `str`, and `bool`, and provided relevant examples:\n",
        "\n",
        "| **Data type** | **Examples in Comparative Literature**        |\n",
        "| :------------:| :--------------------------------------------:|\n",
        "| int (numeric) | `volumes_InSearchOfLostTime = 7`               |\n",
        "| float (numeric) | `averageRating_Ulysses = 9.3`                  |\n",
        "| str           | `title_Raven = \"The Raven\"`                   |\n",
        "| bool          | `nobelPrizeWinner_ToniMorrison = True`        |\n",
        "\n",
        "We hope you've found this introduction both informative and engaging!\n",
        "\n",
        "Moving forward, we will delve into an essential and versatile data structure: **Python lists**. Lists are a fundamental part of Python programming and are incredibly useful for managing collections of items, such as book titles, author names, or literary genres. Get ready to learn how to organize and manipulate your literary data effectively!\n"
      ]
    },
    {
      "cell_type": "markdown",
      "metadata": {
        "id": "HE7482PePMoK"
      },
      "source": [
        "---\n",
        "\n",
        "# Section 3: Data Structures in Python (40 min)"
      ]
    },
    {
      "cell_type": "markdown",
      "metadata": {
        "id": "BsBcL_stfya4"
      },
      "source": [
        "## Understanding Data Structures\n",
        "When dealing with data in Python, it's crucial to understand that it can be organized in various ways, referred to as \"data structures.\" These structures can range from unstructured to structured forms, with semi-structured data falling somewhere in between.\n",
        "\n",
        "Unstructured data is like a plain text of a novel with no inherent format or organization, while structured data is analogous to a database or a CSV file where each element is clearly delineated, often by commas or other delimiters. Semi-structured data, such as a JSON file, may not have the rigid structure of CSV but still contains tags or markers to separate semantic elements.\n",
        "\n",
        "> Note: While we focus on lists in this workshop, it's worth noting other Python data structures such as tuple, dictionary, and sets. They have their unique features and use-cases. For further reading, check out this [website](https://thomas-cokelaer.info/tutorials/python/data_structures.html)"
      ]
    },
    {
      "cell_type": "markdown",
      "metadata": {},
      "source": [
        "## Literature Examples\n",
        "### Unstructured Data\n",
        "Imagine a manuscript of Shakespeare's 'Hamlet' without any character names or dialogue indicators – just continuous text. This would be an example of unstructured data.\n",
        "\n",
        "### Semi-Structured Data\n",
        "Consider a JSON object containing a collection of poems where each poem is separated by curly braces {} and has a title and author field. It’s not as structured as a table but more organized than plain text.\n",
        "\n",
        "### Structured Data\n",
        "A CSV file where each row represents a book, with columns for title, author, genre, and publication date, is a clear example of structured data."
      ]
    },
    {
      "cell_type": "markdown",
      "metadata": {},
      "source": [
        "## Working with Lists\n",
        "\n",
        "Now, let's dive into a commonly used structured data type in Python - the list. A list is a collection of items defined by square brackets [] and can contain various types of data.\n",
        "\n",
        "Here's how we can apply lists to organize literary data:"
      ]
    },
    {
      "cell_type": "code",
      "execution_count": 9,
      "metadata": {
        "id": "t6gedZQUPMoK"
      },
      "outputs": [],
      "source": [
        "# Create an empty list called 'empty'\n",
        "empty = []"
      ]
    },
    {
      "cell_type": "code",
      "execution_count": 10,
      "metadata": {
        "id": "GWhrsGlxPMoM"
      },
      "outputs": [],
      "source": [
        "# Create a list called 'literaryForms', containing three strings: novel, poetry, play.\n",
        "literaryForms = [\"novel\", \"poetry\", \"play\"]\n"
      ]
    },
    {
      "cell_type": "code",
      "execution_count": 11,
      "metadata": {
        "id": "fnBRFSXMPMoP"
      },
      "outputs": [],
      "source": [
        "# Create a list called 'wordCounts', containing three numeric values that correspond to average word counts: 60000, 300, 20000\n",
        "wordCounts = [60000, 300, 20000]\n"
      ]
    },
    {
      "cell_type": "code",
      "execution_count": 12,
      "metadata": {
        "id": "UOlOW86_PMoR"
      },
      "outputs": [],
      "source": [
        "# Create a list called 'combined', containing all three literary forms and corresponding average word counts as pairs.\n",
        "combined = [\"novel\", 60000, \"poetry\", 300, \"play\", 20000]\n"
      ]
    },
    {
      "cell_type": "code",
      "execution_count": 13,
      "metadata": {
        "id": "jfm-2lHjPMoT"
      },
      "outputs": [
        {
          "name": "stdout",
          "output_type": "stream",
          "text": [
            "[['novel', 60000], ['poetry', 300], ['play', 20000]]\n"
          ]
        }
      ],
      "source": [
        "# Create a list called 'combined2', with each literary form and average word count pair as a sublist.\n",
        "combined2 = [[\"novel\", 60000], [\"poetry\", 300], [\"play\", 20000]]\n",
        "print(combined2)\n"
      ]
    },
    {
      "cell_type": "markdown",
      "metadata": {
        "id": "2hQbwlbNPMoV"
      },
      "source": [
        "## Subsetting a single element from a list\n",
        "Now that we created a list, how do we access the data from it?\n",
        "\n",
        "We can do so by specifying the \"index\" number - the location of the data within the list. **Python index starts from 0** (it is not intuitive, we know! Please just bear with it).\n",
        "\n",
        "The first element of a list is `list[0]`. Alternatively, we can also use `-` to access the data starting from the last element. The last element of a list is `list[-1]`. The image below illustrates the index for each elements.\n",
        "\n",
        "\n"
      ]
    },
    {
      "cell_type": "markdown",
      "metadata": {},
      "source": [
        "| List     | \"novel\" | 60000   | \"poetry\" | 300     | \"play\"  | 20000   |\n",
        "|----------|---------|---------|----------|---------|---------|---------|\n",
        "| Index    | 0       | 1       | 2        | 3       | 4       | 5       |\n",
        "| Negative Index | -6      | -5      | -4       | -3      | -2      | -1      |"
      ]
    },
    {
      "cell_type": "code",
      "execution_count": 14,
      "metadata": {
        "id": "Jcx6ADYdPMoV"
      },
      "outputs": [
        {
          "data": {
            "text/plain": [
              "'poetry'"
            ]
          },
          "execution_count": 14,
          "metadata": {},
          "output_type": "execute_result"
        }
      ],
      "source": [
        "# Get the 3rd element from list 'combined'\n",
        "combined[2]"
      ]
    },
    {
      "cell_type": "code",
      "execution_count": 15,
      "metadata": {
        "id": "sqrK7FRwPMoX"
      },
      "outputs": [
        {
          "data": {
            "text/plain": [
              "['play', 20000]"
            ]
          },
          "execution_count": 15,
          "metadata": {},
          "output_type": "execute_result"
        }
      ],
      "source": [
        "# Get the 3rd element from list 'combined2'. Notice that the result is a sublist!\n",
        "combined2[2]"
      ]
    },
    {
      "cell_type": "code",
      "execution_count": 16,
      "metadata": {
        "id": "i4PoJ2WVPMoZ"
      },
      "outputs": [],
      "source": [
        "# Get the 3rd from the last element from the list 'combined'\n"
      ]
    },
    {
      "cell_type": "markdown",
      "metadata": {
        "id": "_Xdxp8HJPMob"
      },
      "source": [
        "## Subsetting multiple elements from a list\n",
        "Now, what if we want to access multiple elements in a list?\n",
        "\n",
        "Here we introduce the slicing `:` operator. The syntax of \"slicing\" is `[start:stop:step]`. *start* refers to the starting index of the slice. *stop* refers to the index of the first element just **after** the finish of our \"slice\". *step* refers to step value of the slice.\n",
        "> Note: You don't have to specify all slicing elements; when it is not specified, Python will use default value - **by default, it will start from the first element, stop at the last element, and use step of 1**.\n",
        "\n",
        "\n",
        "<iframe width=\"768\" height=\"432\" src=\"https://miro.com/app/embed/uXjVNOZuKC4=/?pres=1&frameId=3458764570176646476&embedId=812664691487\" frameborder=\"0\" scrolling=\"no\" allow=\"fullscreen; clipboard-read; clipboard-write\" allowfullscreen></iframe>"
      ]
    },
    {
      "cell_type": "code",
      "execution_count": 17,
      "metadata": {
        "id": "Z7NvuwFIPMob"
      },
      "outputs": [
        {
          "data": {
            "text/plain": [
              "['novel', 60000]"
            ]
          },
          "execution_count": 17,
          "metadata": {},
          "output_type": "execute_result"
        }
      ],
      "source": [
        "# Get the first two elements from the list 'combined' - method 1: specify both start and stop position\n",
        "combined[0:2]"
      ]
    },
    {
      "cell_type": "code",
      "execution_count": 18,
      "metadata": {
        "id": "L73ZL1GPPMod"
      },
      "outputs": [
        {
          "data": {
            "text/plain": [
              "['novel', 60000]"
            ]
          },
          "execution_count": 18,
          "metadata": {},
          "output_type": "execute_result"
        }
      ],
      "source": [
        "# Get the first two elements from the list 'combined' - method 2: specify only stop position\n",
        "combined[:2]"
      ]
    },
    {
      "cell_type": "code",
      "execution_count": 19,
      "metadata": {
        "id": "PikkO1r0PMof"
      },
      "outputs": [
        {
          "data": {
            "text/plain": [
              "['play', 20000]"
            ]
          },
          "execution_count": 19,
          "metadata": {},
          "output_type": "execute_result"
        }
      ],
      "source": [
        "# Get the last two elements from the list 'combined' - method 1: use normal index\n",
        "combined[4:]"
      ]
    },
    {
      "cell_type": "code",
      "execution_count": 20,
      "metadata": {
        "id": "wqZPi-ZAPMog"
      },
      "outputs": [
        {
          "data": {
            "text/plain": [
              "['play', 20000]"
            ]
          },
          "execution_count": 20,
          "metadata": {},
          "output_type": "execute_result"
        }
      ],
      "source": [
        "# Get the last two elements from the list 'combined' - method 2: use negative index\n",
        "combined[-2:]\n"
      ]
    },
    {
      "cell_type": "code",
      "execution_count": 21,
      "metadata": {
        "id": "U9JBRP8KPMoi"
      },
      "outputs": [
        {
          "data": {
            "text/plain": [
              "['novel', 'poetry', 'play']"
            ]
          },
          "execution_count": 21,
          "metadata": {},
          "output_type": "execute_result"
        }
      ],
      "source": [
        "# Get every other element from the list 'combined'\n",
        "combined[::2]"
      ]
    },
    {
      "cell_type": "markdown",
      "metadata": {},
      "source": [
        "## Exploring Beyond Lists\n",
        "\n",
        "While lists are incredibly versatile in Python, there are other data structures that serve different purposes and offer different properties. Let's briefly touch upon tuples, dictionaries, and sets, and understand how they compare to lists.\n",
        "### Tuples\n",
        "\n",
        "A tuple is like a list because it can contain multiple items. However, tuples are immutable, meaning they cannot be changed after creation. This property makes them useful in situations where a constant set of values is needed."
      ]
    },
    {
      "cell_type": "code",
      "execution_count": 2,
      "metadata": {},
      "outputs": [],
      "source": [
        "# Creating a tuple of literary genres\n",
        "literary_genres = (\"novel\", \"poetry\", \"drama\")"
      ]
    },
    {
      "cell_type": "markdown",
      "metadata": {},
      "source": [
        "### Dictionaries\n",
        "\n",
        "Dictionaries are key-value pairs. Unlike lists, which are indexed by a range of numbers, dictionaries are indexed by keys, which can be any immutable type. Dictionaries are mutable and dynamic, allowing values to be updated."
      ]
    },
    {
      "cell_type": "code",
      "execution_count": 3,
      "metadata": {},
      "outputs": [],
      "source": [
        "# Creating a dictionary with word counts for different literary forms\n",
        "literary_word_counts = {\"novel\": 60000, \"poetry\": 300, \"drama\": 20000}\n"
      ]
    },
    {
      "cell_type": "markdown",
      "metadata": {
        "id": "z5pYjZcDPMo7"
      },
      "source": [
        "## Recap\n",
        "In this section, we introduced **what is a list** and **how to create a list in Python**. We learned **how to access and manipulate one or more elements in a list**. Sometimes there are multiple ways to achieve this goal. Each of the data structures has its use-cases and choosing between them depends on the specific needs of your program. Lists offer ordered, mutable collections of items, tuples provide an immutable version of lists, dictionaries give you a way to associate keys with values, and sets ensure that only unique items are stored.\n",
        "\n",
        "In the next section, we are going to introduce tools that make Python programming truly powerful - functions."
      ]
    },
    {
      "cell_type": "markdown",
      "metadata": {
        "id": "SecRBV8EPMo7"
      },
      "source": [
        "---\n",
        "\n",
        "# Section 4: Functions (20 min)"
      ]
    },
    {
      "cell_type": "markdown",
      "metadata": {},
      "source": [
        "As we transition from data structures, which are fundamental to organizing data, we now enter the realm of functions. Functions, together with data structures, form the bedrock of all programming in Python. They are the building blocks of algorithms, allowing us to encapsulate operations as reusable units of logic. This encapsulation enables us to create efficient, modular, and scalable algorithms that are vital to solving complex problems and performing tasks in Python."
      ]
    },
    {
      "cell_type": "markdown",
      "metadata": {
        "id": "tl03J5Kw6BpS"
      },
      "source": [
        "## Built-in function\n",
        "A function is a collection of reusable code that performs a particular task. Python has a set of built-in [functions](https://docs.python.org/3/library/functions.html). For example, `max()` returns the maximum value of a list consisting of numeric numbers."
      ]
    },
    {
      "cell_type": "code",
      "execution_count": 22,
      "metadata": {
        "id": "cMQ-ZQUzPMo7"
      },
      "outputs": [
        {
          "data": {
            "text/plain": [
              "60000"
            ]
          },
          "execution_count": 22,
          "metadata": {},
          "output_type": "execute_result"
        }
      ],
      "source": [
        "# Use the max() function to return maximum value of the list 'wordCounts'\n",
        "max(wordCounts)"
      ]
    },
    {
      "cell_type": "markdown",
      "metadata": {
        "id": "Y0d2MRuBPMo9"
      },
      "source": [
        "Let's take another example - `round()` - this function rounds a numeric value to a certain decimal point. By default, the output will be a whole number."
      ]
    },
    {
      "cell_type": "code",
      "execution_count": 23,
      "metadata": {
        "id": "E6QGrRxWPMo-"
      },
      "outputs": [
        {
          "data": {
            "text/plain": [
              "3"
            ]
          },
          "execution_count": 23,
          "metadata": {},
          "output_type": "execute_result"
        }
      ],
      "source": [
        "# define a variable with the value of pi, and then output the corresponding whole number using the round() function\n",
        "pi = 3.1415\n",
        "round(pi)"
      ]
    },
    {
      "cell_type": "markdown",
      "metadata": {},
      "source": [
        "What if we want to round the value to specific number of decimal places? In that case, we would have to use additional *arguments* when using the function.\n",
        "\n",
        "In Python, an argument is a value that you pass to a function or method when you call it. Arguments are used to give functions the information they need to perform their tasks. They are specified after the function name and within parentheses. You can pass as many arguments as are required by the function's definition.\n",
        "\n",
        "Understanding Arguments in Python: When you call a function, the values you pass to it are known as arguments. These are the pieces of data that you want the function to process. For example, in round(3.14159, 2), the number 3.14159 is the first argument and 2 is the second argument. The first argument is the number you want to round, and the second specifies the number of decimal places you want in the rounded result."
      ]
    },
    {
      "cell_type": "code",
      "execution_count": 24,
      "metadata": {
        "id": "PaeNiNP5PMpC"
      },
      "outputs": [
        {
          "data": {
            "text/plain": [
              "3.14"
            ]
          },
          "execution_count": 24,
          "metadata": {},
          "output_type": "execute_result"
        }
      ],
      "source": [
        "# round the value of pi to 2 decimal places\n",
        "round(pi, ndigits=2)"
      ]
    },
    {
      "cell_type": "markdown",
      "metadata": {
        "id": "Dey3soYxPMpA"
      },
      "source": [
        "\n",
        "\n",
        "Using Arguments\n",
        "\n",
        "To use arguments effectively, you should understand the function's signature - the number and type of arguments it expects. You can usually find this in the function's documentation. For instance, the round() function takes the following arguments:\n",
        "\n",
        "    The number you want to round (required).\n",
        "    The number of decimal places to round to (optional).\n",
        "\n",
        "If you provide only the number, round() will return the nearest integer. If you also provide the number of decimal places, round() will return the number rounded to that many decimal places.\n",
        "\n",
        "To check the available arguments and usage information for a function, we would recommend that you search the web for the function you want to use. Type in Google: \"round python function argument\"\n",
        "\n",
        "For instance, [this webpage](https://www.programiz.com/python-programming/methods/built-in/round) shows some nice examples for the `round()` function. You can easily find similar resources online for most other functions.\n"
      ]
    },
    {
      "cell_type": "markdown",
      "metadata": {
        "id": "c0LMXbMHPMpE"
      },
      "source": [
        "### Exercise\n",
        "Another useful base function is `sorted()` - it sorts the elements of a given list in a specific order. Use this function to reorder the `literaryForms` list in **descending** order. Check [here](https://www.programiz.com/python-programming/methods/built-in/sorted) if you are not sure what argument to use."
      ]
    },
    {
      "cell_type": "code",
      "execution_count": 25,
      "metadata": {
        "id": "LXjGBA1iPMpE"
      },
      "outputs": [
        {
          "data": {
            "text/plain": [
              "['poetry', 'play', 'novel']"
            ]
          },
          "execution_count": 25,
          "metadata": {},
          "output_type": "execute_result"
        }
      ],
      "source": [
        "# Sort the literaryForms list in descending order\n",
        "#### Insert your code below ####\n",
        "sorted(literaryForms, reverse=True)"
      ]
    },
    {
      "cell_type": "markdown",
      "metadata": {
        "id": "zoQz1NUQPMpG"
      },
      "source": [
        "## Object-Specific Functions in Literary Analysis\n",
        "\n",
        "Python's versatility extends to its rich library of object-specific functions. Remember the various data types and structures, like strings and lists, that we've discussed? These are all examples of Python objects, and many of them come with a set of functions that are specific to that object type, allowing you to perform tasks that are more specialized.\n",
        "A Literary Example with count\n",
        "\n",
        "To illustrate this with a literary example, consider a scenario where we have a text from a play, and we want to determine how many times a character's name appears. This is a perfect case for the count function on a string object.\n",
        "\n",
        "Suppose we have the following line from a Shakespearean play:"
      ]
    },
    {
      "cell_type": "code",
      "execution_count": 26,
      "metadata": {
        "id": "HsVClRHLPMpG"
      },
      "outputs": [],
      "source": [
        "line_from_play = \"All the world's a stage, and all the men and women merely players;\"\n"
      ]
    },
    {
      "cell_type": "markdown",
      "metadata": {},
      "source": [
        "If we want to know how many times the word \"all\" is used, we can use the count function:"
      ]
    },
    {
      "cell_type": "code",
      "execution_count": 27,
      "metadata": {},
      "outputs": [
        {
          "name": "stdout",
          "output_type": "stream",
          "text": [
            "1\n"
          ]
        }
      ],
      "source": [
        "word_occurrences = line_from_play.count('all')\n",
        "print(word_occurrences)\n"
      ]
    },
    {
      "cell_type": "markdown",
      "metadata": {},
      "source": [
        "In this example, line_from_play is a string object, and .count('all') is an object-specific function that counts occurrences of the substring 'all'. The function is called by appending .count to the object with the substring passed as an argument.\n",
        "\n",
        "This functionality becomes incredibly useful when analyzing texts. For instance, it can be used to quantify the recurrence of themes by counting specific words, analyze the frequency of a character's appearance in dialogue, or even to study patterns in poetic structure.\n",
        "\n",
        "By leveraging Python's object-specific functions, you can conduct a wide range of textual analyses within the field of literature, enhancing both the depth and efficiency of your study.\n"
      ]
    },
    {
      "cell_type": "markdown",
      "metadata": {
        "id": "h7fTU9VqPMpK"
      },
      "source": [
        "Pretty handy, right? We have just touched the tip of the iceberg so far. There are many more [functions](https://docs.python.org/3/library/stdtypes.html#string-methods) for strings in Python. Below we list a few more functions that you will likely see or may use.\n",
        "\n",
        "| **Function** | **Description** | **Example** | **Output** |\n",
        "| :---: | :---: | :---: | :---: |\n",
        "| capitalize | Converts the first character to upper case | 'hamlet'.capitalize() | 'Hamlet' |\n",
        "| count | Returns the number of times a specified value occurs in a string | 'To be or not to be'.count('to') | 2 |\n",
        "| islower | Returns True if all characters in the string are lower case | 'shakespeare'.islower() | True |\n",
        "| join | Joins the elements of an iterable to the end of the string | ' '.join(['To', 'be', 'or', 'not', 'to', 'be']) | 'To be or not to be' |\n",
        "| replace | Returns a string where an old value is replaced with a new value | 'comedy of errors'.replace('comedy', 'tragedy') | 'tragedy of errors' |\n",
        "| split | Splits the string at the specified separator, and returns a list | 'star-crossed lovers'.split('-') | ['star', 'crossed lovers'] |\n"
      ]
    },
    {
      "cell_type": "markdown",
      "metadata": {
        "id": "cqpM19zK7yqo"
      },
      "source": [
        "---\n",
        "\n",
        "# Section 5: Packages (10 min)"
      ]
    },
    {
      "cell_type": "markdown",
      "metadata": {
        "id": "igpx5q9R76X5"
      },
      "source": [
        "A Python package contains a collection of pre-defined scripts for specific tasks. It allows us to directly use these scripts to accomplish a task of interest, without having to write everything from scratch.\n",
        "\n"
      ]
    },
    {
      "cell_type": "markdown",
      "metadata": {
        "id": "auNikmCnn44z"
      },
      "source": [
        "\n",
        "All major Python libraries are already installed on Colab, so we do not need to install any packages for now. However, we need to `import` a package before we could use it - this import step is required everytime we initiate a new Python environment. As a result, we usually place these `import` codes at the beginning of a script.\n",
        "\n",
        "Sometimes, we name an alias for a package, using the `import package_name as alias` syntax. This way, we just need to use the alias when citing a function from the package, which is convenient if we use the package often. For some popular packages, people set some conventions on what alias to use."
      ]
    },
    {
      "cell_type": "code",
      "execution_count": 28,
      "metadata": {
        "id": "IjBXl5Du-03j"
      },
      "outputs": [
        {
          "ename": "NameError",
          "evalue": "name 'numpy' is not defined",
          "output_type": "error",
          "traceback": [
            "\u001b[0;31m---------------------------------------------------------------------------\u001b[0m",
            "\u001b[0;31mNameError\u001b[0m                                 Traceback (most recent call last)",
            "\u001b[1;32m/Users/xmeng/Dropbox (Harvard University)/Xiang_Junting/data_storytelling/case0_intro_to_python.ipynb Cell 60\u001b[0m line \u001b[0;36m<cell line: 2>\u001b[0;34m()\u001b[0m\n\u001b[1;32m      <a href='vscode-notebook-cell:/Users/xmeng/Dropbox%20%28Harvard%20University%29/Xiang_Junting/data_storytelling/case0_intro_to_python.ipynb#Y113sZmlsZQ%3D%3D?line=0'>1</a>\u001b[0m \u001b[39m# error when using numpy package without importing first\u001b[39;00m\n\u001b[0;32m----> <a href='vscode-notebook-cell:/Users/xmeng/Dropbox%20%28Harvard%20University%29/Xiang_Junting/data_storytelling/case0_intro_to_python.ipynb#Y113sZmlsZQ%3D%3D?line=1'>2</a>\u001b[0m numpy\u001b[39m.\u001b[39marray([\u001b[39m2\u001b[39m, \u001b[39m3\u001b[39m, \u001b[39m4\u001b[39m, \u001b[39m5\u001b[39m]) \u001b[39m+\u001b[39m numpy\u001b[39m.\u001b[39marray([\u001b[39m1\u001b[39m, \u001b[39m10\u001b[39m, \u001b[39m100\u001b[39m, \u001b[39m1000\u001b[39m])\n",
            "\u001b[0;31mNameError\u001b[0m: name 'numpy' is not defined"
          ]
        }
      ],
      "source": [
        "# error when using numpy package without importing first\n",
        "numpy.array([2, 3, 4, 5]) + numpy.array([1, 10, 100, 1000])"
      ]
    },
    {
      "cell_type": "code",
      "execution_count": 29,
      "metadata": {
        "id": "FnvVgzki8x23"
      },
      "outputs": [],
      "source": [
        "# import numpy library, and name it as np\n",
        "import numpy as np"
      ]
    },
    {
      "cell_type": "markdown",
      "metadata": {
        "id": "ahSfgB6ooD46"
      },
      "source": [
        "How would you re-write the code from above (the one that caused an error)? Give it a try below."
      ]
    },
    {
      "cell_type": "code",
      "execution_count": 30,
      "metadata": {},
      "outputs": [
        {
          "data": {
            "text/plain": [
              "array([   3,   13,  104, 1005])"
            ]
          },
          "execution_count": 30,
          "metadata": {},
          "output_type": "execute_result"
        }
      ],
      "source": [
        "# error when using numpy package without importing first\n",
        "np.array([2, 3, 4, 5]) + np.array([1, 10, 100, 1000])"
      ]
    },
    {
      "cell_type": "markdown",
      "metadata": {
        "id": "iWLYnevVodka"
      },
      "source": [
        "Python is unique in how you use functions from a specific package and also on specific data, it has a very specific syntax for anything that you bring into the Python environment that is not available by default."
      ]
    },
    {
      "cell_type": "code",
      "execution_count": null,
      "metadata": {
        "id": "axUh-WgF318m"
      },
      "outputs": [],
      "source": []
    }
  ],
  "metadata": {
    "colab": {
      "provenance": []
    },
    "kernelspec": {
      "display_name": "Python 3",
      "name": "python3"
    },
    "language_info": {
      "codemirror_mode": {
        "name": "ipython",
        "version": 3
      },
      "file_extension": ".py",
      "mimetype": "text/x-python",
      "name": "python",
      "nbconvert_exporter": "python",
      "pygments_lexer": "ipython3",
      "version": "3.8.17"
    }
  },
  "nbformat": 4,
  "nbformat_minor": 0
}
