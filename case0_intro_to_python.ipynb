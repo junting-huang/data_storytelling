{
  "nbformat": 4,
  "nbformat_minor": 0,
  "metadata": {
    "colab": {
      "provenance": [],
      "authorship_tag": "ABX9TyMtu6Z+Nt+Mgne4Ucn1pn6m",
      "include_colab_link": true
    },
    "kernelspec": {
      "name": "python3",
      "display_name": "Python 3"
    },
    "language_info": {
      "name": "python"
    }
  },
  "cells": [
    {
      "cell_type": "markdown",
      "metadata": {
        "id": "view-in-github",
        "colab_type": "text"
      },
      "source": [
        "<a href=\"https://colab.research.google.com/github/junting-huang/data_storytelling/blob/main/case0_intro_to_python.ipynb\" target=\"_parent\"><img src=\"https://colab.research.google.com/assets/colab-badge.svg\" alt=\"Open In Colab\"/></a>"
      ]
    },
    {
      "cell_type": "markdown",
      "source": [
        "## Description\n",
        "\n",
        "This notebook serves as an introduction to coding in Python for class xxxx. We'll begin by presenting the outcome of today's session. After that, we'll delve into some fundamental concepts that will lead us to that final outcome.\n",
        "\n",
        "## Learning Goals\n",
        "\n",
        "    To understand the basics of Python \"grammar\".\n",
        "    To grasp fundamental concepts of IPython Notebooks.\n",
        "    To demonstrate that even a complex goal can be achieved step by step.\n",
        "\n",
        "By the end of this workshop, students should be able to comprehend the structure of a basic Python script and conduct rudimentary data analysis. They should also gain confidence in coding.\n",
        "\n",
        "## Requirements\n",
        "\n",
        "To participate in this workshop, you'll need a computer and a Google account (to access Colab). There's no need to install Python or any other software.\n",
        "\n",
        "Note: This course is tailored for literature majors. We simplify Python terminology and omit more advanced concepts to facilitate easier understanding. As a result, this workshop might differ significantly from typical introductory Python workshops. Students from STEM backgrounds might find it less comprehensive or detailed."
      ],
      "metadata": {
        "id": "_gAz_re9_1ai"
      }
    },
    {
      "cell_type": "markdown",
      "source": [
        "Acknowledgement and reference: This notebook is based on [Introduction to Python workshop](https://hbctraining.github.io/Training-modules/Python/) by [hbctraining](https://github.com/hbctraining)"
      ],
      "metadata": {
        "id": "1grZwMsnuwp3"
      }
    },
    {
      "cell_type": "markdown",
      "source": [
        "-----\n",
        "# Section 1: Colab interface"
      ],
      "metadata": {
        "id": "dBzuS8vBFMkZ"
      }
    },
    {
      "cell_type": "markdown",
      "source": [
        "---\n",
        "Please follow the instructions below to set up for this workshop:\n",
        "**Create your own copy of this python notebook (the workshop materials)**: Click \"File\" at the menu bar -> Click \"Save a copy in Drive\". This notebook will be automatically named \"Copy of case0_intro_to_python\" and copied in your Google Drive. You can rename it if you want.\n",
        "\n",
        "The platform that we will use during this workshop is Google Colab. Colab is a free cloud service platform based on the [Jupyter notebook](https://jupyter.org/) environment. It does not require users to install python locally, and the code is run entirely on the cloud server."
      ],
      "metadata": {
        "id": "zOeEDU5YyywP"
      }
    },
    {
      "cell_type": "markdown",
      "source": [
        "### Vocabulary"
      ],
      "metadata": {
        "id": "11H_hRS8F89Q"
      }
    },
    {
      "cell_type": "markdown",
      "source": [
        "| Term                       | Description                                                                                     | How to do in Google Colab                  |\n",
        "|----------------------------|-------------------------------------------------------------------------------------------------|--------------------------------------------|\n",
        "| Code Cell                  | A section in an IPython notebook where you can write and execute programming code.               | Click the `+ Code` button to add.          |\n",
        "| Text Cell                  | A section in an IPython notebook used for writing descriptive text, explanations, or notes.      | Click the `+ Text` button to add.          |\n",
        "| Creating and Deleting Cell | The process of adding a new cell to an IPython notebook or removing an existing one.            | Use `+ Code` or `+ Text` to add; hover over the cell and click the trash bin icon to delete.|\n",
        "| Saving the Document        | Storing the current state of an IPython notebook so that changes are preserved for later access.| Click on `File` > `Save`, or use `Ctrl + S`.|\n",
        "\n",
        "---"
      ],
      "metadata": {
        "id": "zoORx2UOFXJL"
      }
    },
    {
      "cell_type": "markdown",
      "source": [
        "### Exercise"
      ],
      "metadata": {
        "id": "Sr_JK_t9FgsN"
      }
    },
    {
      "cell_type": "markdown",
      "source": [
        "Exercise 1: Document Your Day\n",
        "\n",
        "\n",
        "    Task: Create a new text cell and briefly describe your learning objective"
      ],
      "metadata": {
        "id": "8CR-aBOwGDiT"
      }
    },
    {
      "cell_type": "markdown",
      "source": [
        "---\n",
        "\n",
        "# Section 2: Basic Python terminologies (20 min)"
      ],
      "metadata": {
        "id": "7sF1-udHy9hn"
      }
    },
    {
      "cell_type": "markdown",
      "source": [
        "## Python Variables\n",
        "A variable serves as a modifiable storage location for data values in your program. To assign a value to a variable, Python uses the `=` sign. Variable names in Python must comply with specific rules:\n",
        "- Initiation of a variable name must be with a letter or an underscore (_).\n",
        "- Only alphanumeric characters and underscores (A-z, 0-9, _) are allowed within the variable name.\n",
        "- The name must not coincide with any of Python's reserved keywords, a full list is available [here](https://docs.python.org/3.8/reference/lexical_analysis.html#keywords).\n",
        "- Variables are case-sensitive, which means `Year` and `year` would be recognized as two separate variables.\n"
      ],
      "metadata": {
        "id": "KUW0Nigd2diu"
      }
    },
    {
      "cell_type": "markdown",
      "source": [
        "## Example of Valid and Invalid Variable Names  \n",
        "| Valid Variable Names                  | Invalid Variable Names           | Reasons for Invalidity                                    |\n",
        "|---------------------------------------|----------------------------------|------------------------------------------------------------|\n",
        "| `volumes_InSearchOfLostTime`          | `7volumesOfLostTime`             | Starts with a number, not allowed.                         |\n",
        "| `averageRating_Ulysses`               | `average-rating`                 | Hyphens are not allowed, should be an underscore.          |\n",
        "| `title_Raven`                         | `\"TheRaven\"`                     | Quotes are not allowed in variable names.                   |\n",
        "| `nobelPrizeWinner_ToniMorrison`       | `nobelPrizeWinner Toni Morrison` | Spaces are not allowed in variable names.                   |\n",
        "\n"
      ],
      "metadata": {
        "id": "R1r1csSf2rN_"
      }
    },
    {
      "cell_type": "markdown",
      "source": [],
      "metadata": {
        "id": "pAerbpRxX_cP"
      }
    },
    {
      "cell_type": "code",
      "source": [
        "# Number of volumes in Proust's \"In Search of Lost Time\"\n",
        "volumes_InSearchOfLostTime = 7\n",
        "\n",
        "# Average rating of a critically acclaimed novel out of 10\n",
        "averageRating_Ulysses = 9.3\n",
        "\n",
        "# Title of a famous poem\n",
        "title_Raven = \"The Raven\"\n",
        "\n",
        "# Flag to check if the author is a recipient of the Nobel Prize in Literature\n",
        "nobelPrizeWinner_ToniMorrison = True\n"
      ],
      "metadata": {
        "id": "NOcd75XHX_C-"
      },
      "execution_count": 6,
      "outputs": []
    },
    {
      "cell_type": "markdown",
      "source": [
        "## Assigning Values and Inspecting Variables\n",
        "\n",
        "Variables such as `volumes_InSearchOfLostTime`, `averageRating_Ulysses`, `title_Raven`, and `nobelPrizeWinner_ToniMorrison` are now stored within the current Python computing environment. To observe these variables, you can locate them in the variable inspector pane, typically found on the left side of the screen in various Python IDEs.\n",
        "\n",
        "To display the values of these variables, the `print()` function can be utilized. This is particularly useful for printing out the values to the console. For instance, you could execute `print(volumes_InSearchOfLostTime)` to see the number of volumes in Proust's \"In Search of Lost Time.\"\n",
        "\n",
        "In interactive environments, like Jupyter notebooks, simply typing the variable name and executing the cell will display the value of that variable. For example:\n"
      ],
      "metadata": {
        "id": "VzVEyOL52ycZ"
      }
    },
    {
      "cell_type": "code",
      "source": [
        "volumes_InSearchOfLostTime"
      ],
      "metadata": {
        "colab": {
          "base_uri": "https://localhost:8080/"
        },
        "id": "hKYVTY2V23q4",
        "outputId": "55b50f0f-538d-4180-9256-5e8ccc2a3612"
      },
      "execution_count": 7,
      "outputs": [
        {
          "output_type": "execute_result",
          "data": {
            "text/plain": [
              "7"
            ]
          },
          "metadata": {},
          "execution_count": 7
        }
      ]
    },
    {
      "cell_type": "markdown",
      "metadata": {
        "id": "Kd3r30rpZFRW"
      },
      "source": [
        ">  This markdown code provides an updated introduction on how to assign values to variables of different data types and check these values within a Python environment. It includes examples of valid variable names related to comparative literature.\n"
      ]
    },
    {
      "cell_type": "markdown",
      "source": [
        "## Exercise 1: Variable Assignment and Correction\n",
        "\n",
        "Objective: Create valid variable names and assign appropriate values of different data types, then correct the provided invalid variable names.\n",
        "\n",
        "    Valid Assignment:\n",
        "        Assign an integer value to a variable named century_FirstNovelPublished that represents the century when the first novel is believed to have been published.\n",
        "        Assign a floating-point value to averageWordCount_ShakespeareSonnet representing the average word count in a Shakespearean sonnet.\n",
        "        Assign a string to theme_CommonLitFiction that holds a common theme found in literature fiction.\n",
        "        Assign a boolean to isEpic_Gilgamesh indicating whether \"The Epic of Gilgamesh\" is considered an epic.\n",
        "\n",
        "    Write your Python code for the above tasks here:\n",
        "\n",
        "\n",
        "Invalid Correction:\n",
        "Below are some incorrectly named variables. Correct each variable name and assign a suitable value related to comparative literature.\n",
        "\n",
        "    19CenturyGenres = ?\n",
        "    total#Pages = ?\n",
        "    author-Name = ?\n",
        "    fiction Or Nonfiction = ?\n",
        "\n",
        "Write your corrected variable names and assignments here:"
      ],
      "metadata": {
        "id": "ruzRZaI6aFdi"
      }
    },
    {
      "cell_type": "markdown",
      "source": [],
      "metadata": {
        "id": "y_QWjIpJaRs3"
      }
    },
    {
      "cell_type": "code",
      "source": [],
      "metadata": {
        "id": "fxxxiNfAaRR9"
      },
      "execution_count": null,
      "outputs": []
    },
    {
      "cell_type": "markdown",
      "metadata": {
        "id": "63BaOVc4PMoB"
      },
      "source": [
        "## Data types\n",
        "Data comes in different types. For example, the newly created variables `x` and `mean` are numeric. `x` is a whole number, so its data type is `int`, or \"integer\"; `mean`, on the other hand, is a number with decimal places, so its data type is `float`.\n",
        "\n",
        "> These are similar to the \"integer\" and \"numeric\" data types in R, respectively.\n",
        "\n",
        "We can use the `type()` function to check what data type a given variable has."
      ]
    },
    {
      "cell_type": "code",
      "metadata": {
        "id": "JDKPk7l6PMoB"
      },
      "source": [
        "# Check the data type for 'x' and 'mean'\n"
      ],
      "execution_count": null,
      "outputs": []
    },
    {
      "cell_type": "markdown",
      "metadata": {
        "id": "N7BJ9miYPMoE"
      },
      "source": [
        "Another commonly used data type is `str`. String stores a sequence of characters, and can be created by enclosing characters inside single quotation marks `''` or double quotation marks `\"\"` .\n",
        "\n",
        "> This is similar to the \"character\" data type in R."
      ]
    },
    {
      "cell_type": "code",
      "metadata": {
        "id": "AkpcdOA7PMoE"
      },
      "source": [
        "# Generate a str variable called 'text', with the value 'hello world!'. Check its data type\n"
      ],
      "execution_count": null,
      "outputs": []
    },
    {
      "cell_type": "markdown",
      "metadata": {
        "id": "cBClvEuRPMoH"
      },
      "source": [
        "The last data type we introduce here is `bool`. The boolean data type can be either `True` or `False`. It is to specify if an expression is true or false. We will cover this data type in the conditional statement section.\n",
        "\n",
        "> This is similar to the \"logical\" data type in R."
      ]
    },
    {
      "cell_type": "code",
      "metadata": {
        "id": "RXFkI9x9PMoH"
      },
      "source": [
        "# Generate a boolean variable called 'test', which judges whether 10 is smaller than 8. Check its data type\n"
      ],
      "execution_count": null,
      "outputs": []
    },
    {
      "cell_type": "markdown",
      "metadata": {
        "id": "eXAv5w3UPMoJ"
      },
      "source": [
        "## Recap\n",
        "In this section, we introduced some basic terms in Python. We learned **how to assign variables**, and what rules to follow. We also described several important **data types** - `int`, `float`, `str`, `bool`. Hope it has been fun so far!\n",
        "\n",
        "| **Data type** | **Examples** |\n",
        "| :---: | :---: |\n",
        "| int (numeric) | 2 |\n",
        "| float (numeric) | 3.5 |\n",
        "| str | 'hello world!' |\n",
        "| bool | True, False|\n",
        "\n",
        "In the next section, we will focus on one important concept - Python lists. This will be something you use all the time in Python."
      ]
    },
    {
      "cell_type": "markdown",
      "metadata": {
        "id": "HE7482PePMoK"
      },
      "source": [
        "---\n",
        "\n",
        "# Section 3: Python List (40 min)"
      ]
    },
    {
      "cell_type": "markdown",
      "metadata": {
        "id": "BsBcL_stfya4"
      },
      "source": [
        "## Create a List\n",
        "Let's talk about data structures. In Python, data is stored in specific ways within variables. A frequently used \"data structure\" is `list`. A Python list is a collection of data stored within a square bracket `[]`.\n",
        "\n",
        "A list has the following features:\n",
        "- order of its elements matters\n",
        "- can store mixed data types that we introduced above\n",
        "- can even contain a sublist\n",
        "\n",
        "> Note: There are other Python data structures, including `tuple`, `dictionary`, `sets`. We will not cover those in this workshop, but they can be very useful in some situations. If you are interested in learning more about them, this [website](https://thomas-cokelaer.info/tutorials/python/data_structures.html) has more information."
      ]
    },
    {
      "cell_type": "code",
      "metadata": {
        "id": "t6gedZQUPMoK"
      },
      "source": [
        "# Create an empty list called 'empty'\n"
      ],
      "execution_count": null,
      "outputs": []
    },
    {
      "cell_type": "code",
      "metadata": {
        "id": "GWhrsGlxPMoM"
      },
      "source": [
        "# Create a list called 'species', containing three strings: ecoli, human, corn.\n"
      ],
      "execution_count": null,
      "outputs": []
    },
    {
      "cell_type": "code",
      "metadata": {
        "id": "fnBRFSXMPMoP"
      },
      "source": [
        "# Create a list called 'glengths', containing three numeric values that correponds to genome length (in Mb): 4.6, 3000, 2500\n"
      ],
      "execution_count": null,
      "outputs": []
    },
    {
      "cell_type": "code",
      "metadata": {
        "id": "UOlOW86_PMoR"
      },
      "source": [
        "# Create a list called 'combined', containing all three species and corresponding genome lengths as pairs\n"
      ],
      "execution_count": null,
      "outputs": []
    },
    {
      "cell_type": "code",
      "metadata": {
        "id": "jfm-2lHjPMoT"
      },
      "source": [
        "# Create a list called 'combined2', with each species and genome length pair as a sublist\n"
      ],
      "execution_count": null,
      "outputs": []
    },
    {
      "cell_type": "markdown",
      "metadata": {
        "id": "2hQbwlbNPMoV"
      },
      "source": [
        "## Subsetting a single element from a list\n",
        "Now that we created a list, how do we access the data from it?\n",
        "\n",
        "We can do so by specifying the \"index\" number - the location of the data within the list. **Python index starts from 0** (it is not intuitive, we know! Please just bear with it).\n",
        "\n",
        "The first element of a list is `list[0]`. Alternatively, we can also use `-` to access the data starting from the last element. The last element of a list is `list[-1]`. The image below illustrates the index for each elements.\n",
        "\n",
        "<p align=\"center\">\n",
        "<img src=\"https://github.com/hbctraining/Training-modules/blob/master/Python/img/list1.png?raw=true\" width=\"500\"/>\n",
        "</p>\n",
        "\n"
      ]
    },
    {
      "cell_type": "code",
      "metadata": {
        "id": "Jcx6ADYdPMoV"
      },
      "source": [
        "# Get the 3rd element from list 'combined'\n"
      ],
      "execution_count": null,
      "outputs": []
    },
    {
      "cell_type": "code",
      "metadata": {
        "id": "sqrK7FRwPMoX"
      },
      "source": [
        "# Get the 3rd element from list 'combined2'. Notice that the result is a sublist!\n"
      ],
      "execution_count": null,
      "outputs": []
    },
    {
      "cell_type": "code",
      "metadata": {
        "id": "i4PoJ2WVPMoZ"
      },
      "source": [
        "# Get the 3rd from the last element from the list 'combined'\n"
      ],
      "execution_count": null,
      "outputs": []
    },
    {
      "cell_type": "markdown",
      "metadata": {
        "id": "_Xdxp8HJPMob"
      },
      "source": [
        "## Subsetting multiple elements from a list\n",
        "Now, what if we want to access multiple elements in a list?\n",
        "\n",
        "Here we introduce the slicing `:` operator. The syntax of \"slicing\" is `[start:stop:step]`. *start* refers to the starting index of the slice. *stop* refers to the index of the first element just **after** the finish of our \"slice\". *step* refers to step value of the slice.\n",
        "> Note: You don't have to specify all slicing elements; when it is not specified, Python will use default value - **by default, it will start from the first element, stop at the last element, and use step of 1**.\n",
        "\n",
        "<p align=\"center\">\n",
        "<img src=\"https://github.com/hbctraining/Training-modules/blob/master/Python/img/list2.png?raw=true\" width=\"500\"/>\n",
        "</p>"
      ]
    },
    {
      "cell_type": "code",
      "metadata": {
        "id": "Z7NvuwFIPMob"
      },
      "source": [
        "# Get the first two elements from the list 'combined' - method 1: specify both start and stop position\n"
      ],
      "execution_count": null,
      "outputs": []
    },
    {
      "cell_type": "code",
      "metadata": {
        "id": "L73ZL1GPPMod"
      },
      "source": [
        "# Get the first two elements from the list 'combined' - method 2: specify only stop position\n"
      ],
      "execution_count": null,
      "outputs": []
    },
    {
      "cell_type": "code",
      "metadata": {
        "id": "PikkO1r0PMof"
      },
      "source": [
        "# Get the last two elements from the list 'combined' - method 1: use normal index\n"
      ],
      "execution_count": null,
      "outputs": []
    },
    {
      "cell_type": "code",
      "metadata": {
        "id": "wqZPi-ZAPMog"
      },
      "source": [
        "# Get the last two elements from the list 'combined' - method 2: use negative index\n"
      ],
      "execution_count": null,
      "outputs": []
    },
    {
      "cell_type": "code",
      "metadata": {
        "id": "U9JBRP8KPMoi"
      },
      "source": [
        "# Get every other element from the list 'combined'\n"
      ],
      "execution_count": null,
      "outputs": []
    },
    {
      "cell_type": "markdown",
      "metadata": {
        "id": "z5pYjZcDPMo7"
      },
      "source": [
        "## Recap\n",
        "In this section, we introduced **what is a list** and **how to create a list in Python**. We learned **how to access and manipulate one or more elements in a list**. Sometimes there are multiple ways to achieve this goal.\n",
        "\n",
        "In the next section, we are going to introduce tools that make Python programming truly powerful - functions."
      ]
    },
    {
      "cell_type": "markdown",
      "metadata": {
        "id": "SecRBV8EPMo7"
      },
      "source": [
        "---\n",
        "\n",
        "# Section 4: Functions (20 min)"
      ]
    },
    {
      "cell_type": "markdown",
      "metadata": {
        "id": "tl03J5Kw6BpS"
      },
      "source": [
        "## Built-in function\n",
        "A function is a collection of reusable code that performs a particular task. Python has a set of built-in [functions](https://docs.python.org/3/library/functions.html). For example, `max()` returns the maximum value of a list consisting of numeric numbers."
      ]
    },
    {
      "cell_type": "code",
      "metadata": {
        "id": "cMQ-ZQUzPMo7"
      },
      "source": [
        "# Use the max() function to return maximum value of the list 'glengths'\n"
      ],
      "execution_count": null,
      "outputs": []
    },
    {
      "cell_type": "markdown",
      "metadata": {
        "id": "Y0d2MRuBPMo9"
      },
      "source": [
        "Let's take another example - `round()` - this function rounds a numeric value to a certain decimal point. By default, the output will be a whole number."
      ]
    },
    {
      "cell_type": "code",
      "metadata": {
        "id": "E6QGrRxWPMo-"
      },
      "source": [
        "# define a variable with the value of pi, and then output the corresponding whole number using the round() function\n"
      ],
      "execution_count": null,
      "outputs": []
    },
    {
      "cell_type": "markdown",
      "metadata": {
        "id": "Dey3soYxPMpA"
      },
      "source": [
        "What if we want to round the value to specific number of decimal places? In that case, we would have to use additional *arguments* when using the function.\n",
        "\n",
        "To check the available arguments and usage information for a function, one can use the `help()` function. However, we would recommend that you search the web for the function you want to use. For instance, [this webpage](https://www.programiz.com/python-programming/methods/built-in/round) shows some nice examples for the `round()` function. You can easily find similar resources online for most other functions."
      ]
    },
    {
      "cell_type": "code",
      "metadata": {
        "id": "2wkU77wAPMpA"
      },
      "source": [
        "# Use the `help()` function to display the usage of the `round()` function\n"
      ],
      "execution_count": null,
      "outputs": []
    },
    {
      "cell_type": "markdown",
      "metadata": {
        "id": "LyhJL_N4PMpC"
      },
      "source": [
        "We now know that we can specify number of digits using the `ndigits` argument within `round()`. Let's try that with pi!"
      ]
    },
    {
      "cell_type": "code",
      "metadata": {
        "id": "PaeNiNP5PMpC"
      },
      "source": [
        "# round the value of pi to 2 decimal places\n"
      ],
      "execution_count": null,
      "outputs": []
    },
    {
      "cell_type": "markdown",
      "metadata": {
        "id": "c0LMXbMHPMpE"
      },
      "source": [
        "### Exercise\n",
        "Another useful base function is `sorted()` - it sorts the elements of a given list in a specific order. Use this function to reorder the `glengths` list in **descending** order. Check [here](https://www.programiz.com/python-programming/methods/built-in/sorted) if you are not sure what argument to use."
      ]
    },
    {
      "cell_type": "code",
      "metadata": {
        "id": "LXjGBA1iPMpE"
      },
      "source": [
        "# Sort the glengths list in descending order\n",
        "#### Insert your code below ####\n"
      ],
      "execution_count": null,
      "outputs": []
    },
    {
      "cell_type": "markdown",
      "metadata": {
        "id": "zoQz1NUQPMpG"
      },
      "source": [
        "## Object-specific function\n",
        "Python has a lot of functionality beyond the basic built-in functions. Recall the data types and data structures that we learned earlier? They are all called Python **objects**. Depending on the object type, there are functions to perform object-specific tasks.\n",
        "\n",
        "Let's take a concrete example. One function for a Python string is `count`. `count` searches the substring in the given string and returns how many times the substring is present within the object. The syntax is `string.count(substring)`."
      ]
    },
    {
      "cell_type": "code",
      "metadata": {
        "id": "HsVClRHLPMpG"
      },
      "source": [
        "# Count number of T in a DNA sequence 'ACTGAT'\n"
      ],
      "execution_count": null,
      "outputs": []
    },
    {
      "cell_type": "markdown",
      "metadata": {
        "id": "h7fTU9VqPMpK"
      },
      "source": [
        "Pretty handy, right? We have just touched the tip of the iceberg so far. There are many more [functions](https://docs.python.org/3/library/stdtypes.html#string-methods) for strings in Python. Below we list a few more functions that you will likely see or may use.\n",
        "\n",
        "| **Function** | **Description** | **Example** | **Output** |\n",
        "| :---: | :---: | :---: | :---: |\n",
        "| capitalize | Converts the first character to upper case | 'atgc'.capitalize() | 'Atgc' |\n",
        "| count | Returns the number of times a specified value occurs in a string | 'atgc'.count('c') | 1 |\n",
        "| islower | Returns True if all characters in the string are lower case | 'atgc'.islower() | True |\n",
        "| join | Joins the elements of an iterable to the end of the string | ''.join(['a', 't', 'g', 'c']) | 'atgc' |\n",
        "| replace | Returns a string where an old value is replaced with a new value | 'atgc'.replace('a', 'g') | 'gtgc' |\n",
        "| split | Splits the string at the specified separator, and returns a list | 'hello world'.split() | ['hello', 'world'] |"
      ]
    },
    {
      "cell_type": "markdown",
      "source": [
        "---\n",
        "\n",
        "# Section 5: Packages (10 min)"
      ],
      "metadata": {
        "id": "cqpM19zK7yqo"
      }
    },
    {
      "cell_type": "markdown",
      "source": [
        "A Python package contains a collection of pre-defined scripts for specific tasks. It allows us to directly use these scripts to accomplish a task of interest, without having to write everything from scratch.\n",
        "\n",
        "We need to install a Python package if it is not already present. [pip](https://pip.pypa.io/en/stable/) is the package installer for Python. To install a package, we could use `!pip install package_name` command. For example, to install [scanpy](https://scanpy.readthedocs.io/en/stable/), a popular package for single-cell RNAseq analysis, we could use `!pip install scanpy`.\n"
      ],
      "metadata": {
        "id": "igpx5q9R76X5"
      }
    },
    {
      "cell_type": "code",
      "source": [
        "# error when using numpy package without importing first\n",
        "numpy.array([2, 3, 4, 5]) + numpy.array([1, 10, 100, 1000])"
      ],
      "metadata": {
        "id": "IjBXl5Du-03j"
      },
      "execution_count": null,
      "outputs": []
    },
    {
      "cell_type": "markdown",
      "source": [
        "\n",
        "All major Python libraries are already installed on Colab, so we do not need to install any packages for now. However, we need to `import` a package before we could use it - this import step is required everytime we initiate a new Python environment. As a result, we usually place these `import` codes at the beginning of a script.\n",
        "\n",
        "Sometimes, we name an alias for a package, using the `import package_name as alias` syntax. This way, we just need to use the alias when citing a function from the package, which is convenient if we use the package often. For some popular packages, people set some conventions on what alias to use."
      ],
      "metadata": {
        "id": "auNikmCnn44z"
      }
    },
    {
      "cell_type": "code",
      "source": [
        "# import numpy library, and name it as np\n",
        "import numpy as np"
      ],
      "metadata": {
        "id": "FnvVgzki8x23"
      },
      "execution_count": null,
      "outputs": []
    },
    {
      "cell_type": "markdown",
      "source": [
        "How would you re-write the code from above (the one that caused an error)? Give it a try below."
      ],
      "metadata": {
        "id": "ahSfgB6ooD46"
      }
    },
    {
      "cell_type": "code",
      "source": [
        "# use numpy package after importing (note: you need to use \"np\", instead of \"numpy\", because np is the alias we set earlier)\n"
      ],
      "metadata": {
        "id": "qBCxhBJJ-HBY"
      },
      "execution_count": null,
      "outputs": []
    },
    {
      "cell_type": "markdown",
      "source": [
        "Python is unique in how you use functions from a specific package and also on specific data, it has a very specific syntax for anything that you bring into the Python environment that is not available by default."
      ],
      "metadata": {
        "id": "iWLYnevVodka"
      }
    },
    {
      "cell_type": "code",
      "source": [],
      "metadata": {
        "id": "axUh-WgF318m"
      },
      "execution_count": null,
      "outputs": []
    },
    {
      "cell_type": "markdown",
      "source": [
        "# Section 8 Exercise"
      ],
      "metadata": {
        "id": "6ze87USJ4V7D"
      }
    },
    {
      "cell_type": "code",
      "source": [],
      "metadata": {
        "id": "KPXaSXH74XPC"
      },
      "execution_count": null,
      "outputs": []
    }
  ]
}