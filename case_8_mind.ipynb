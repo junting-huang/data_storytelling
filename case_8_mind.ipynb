{
  "cells": [
    {
      "cell_type": "markdown",
      "metadata": {
        "colab_type": "text",
        "id": "view-in-github"
      },
      "source": [
        "<a href=\"https://colab.research.google.com/github/junting-huang/data_storytelling/blob/main/case_4_cognition.ipynb\" target=\"_parent\"><img src=\"https://colab.research.google.com/assets/colab-badge.svg\" alt=\"Open In Colab\"/></a>"
      ]
    },
    {
      "cell_type": "markdown",
      "metadata": {
        "id": "rhCi7SH85aeh"
      },
      "source": [
        "# case_8. mind"
      ]
    },
    {
      "cell_type": "markdown",
      "metadata": {},
      "source": [
        "\n",
        "A chatbot is a computer program designed to engage in natural language conversations with users, providing a conversational interface for interactions. These intelligent agents leverage artificial intelligence, machine learning, and natural language processing technologies to understand user inputs and generate appropriate responses. Chatbots can be implemented in various applications, including websites, messaging platforms, and mobile apps, offering users a seamless and interactive way to obtain information, perform tasks, or receive assistance. They can range from simple rule-based systems to sophisticated models that continuously learn and adapt from user interactions. Chatbots find widespread use in customer support, virtual assistants, e-commerce, and information retrieval, streamlining communication processes and enhancing user experiences by providing instant and personalized responses in a conversational manner.\n",
        "\n",
        "In recent years, advancements in artificial intelligence, particularly in the field of deep learning, have led to the development of more sophisticated conversational agents. These advanced chatbots can understand context, sentiment, and user intent, providing a more natural and engaging conversation experience. Many businesses and organizations leverage chatbots for tasks such as customer support, appointment scheduling, product recommendations, and more. The rise of messaging platforms and the popularity of virtual assistants like Siri, Google Assistant, and Amazon Alexa further emphasize the increasing role of chatbots in our daily lives. As technology continues to evolve, chatbots are expected to play a crucial role in reshaping how we interact with information and services in the digital landscape.\n",
        "\n",
        "In literature, chatbots are being explored as innovative tools for enhancing reader engagement, providing personalized recommendations, and creating interactive storytelling experiences. While traditional literature consumption is a solitary activity, chatbots bring a conversational dimension to the reading experience.\n",
        "\n",
        "* Reader Engagement and Interaction: Chatbots can be designed to engage readers in conversations about the book's characters, themes, and plot points. This interactive approach can deepen readers' understanding and immersion in the story.\n",
        "\n",
        "\n",
        "* Storytelling and Interactive Narratives: Some experimental chatbots are designed to deliver stories in a conversational format. Readers can interact with characters, make decisions that impact the plot, and experience a dynamic narrative tailored to their choices.\n",
        "\n",
        "* Literary Analysis and Discussions: Chatbots can facilitate discussions about literary works, providing insights into literary analysis, interpretations, and historical context. This can be particularly useful for students and book clubs seeking to deepen their understanding of literature.\n",
        "\n",
        "I am sure everyone is familiar with ChatGPT, which is the state-of-the-art chatbot in the present. In this lab, we are going to design a very simple chatbot."
      ]
    },
    {
      "cell_type": "markdown",
      "metadata": {
        "id": "3D128xwV5z9O"
      },
      "source": [
        "## 8.1 simple chatbot"
      ]
    },
    {
      "cell_type": "code",
      "execution_count": null,
      "metadata": {
        "colab": {
          "base_uri": "https://localhost:8080/"
        },
        "id": "uvJ4ltvG6PZt",
        "outputId": "b6690040-57b6-42ff-d299-ee3c9b31b578"
      },
      "outputs": [],
      "source": [
        "class SimpleChatBot:\n",
        "    def __init__(self):\n",
        "        self.rules = {\n",
        "            \"hello\": \"Hi there! How can I help you today?\",\n",
        "            \"how are you\": \"I'm just a program, but thanks for asking! How can I assist you?\",\n",
        "            \"bye\": \"Goodbye! If you have more questions, feel free to ask.\",\n",
        "        }\n",
        "        self.default_response = \"I'm sorry, I didn't understand that. Can you rephrase it?\"\n",
        "\n",
        "    def get_response(self, user_input):\n",
        "        # Normalize the user input to lower case to make the matching case-insensitive\n",
        "        user_input = user_input.lower().strip()\n",
        "\n",
        "        # Check if the user input matches any rule and return the corresponding response\n",
        "        return self.rules.get(user_input, self.default_response)\n",
        "\n",
        "    def start_chat(self):\n",
        "        print(\"Type 'bye' to end the chat.\")\n",
        "        while True:\n",
        "            user_input = input(\"You: \")\n",
        "            if user_input.lower().strip() == 'bye':\n",
        "                print(\"Bot: Goodbye! Have a nice day!\")\n",
        "                break\n",
        "            response = self.get_response(user_input)\n",
        "            print(\"Bot:\", response)\n",
        "\n",
        "\n",
        "if __name__ == \"__main__\":\n",
        "    bot = SimpleChatBot()\n",
        "    bot.start_chat()"
      ]
    },
    {
      "cell_type": "markdown",
      "metadata": {
        "id": "0Hy5mB1m6lco"
      },
      "source": [
        "## 8.2 application programming interface (APIs)"
      ]
    },
    {
      "cell_type": "markdown",
      "metadata": {},
      "source": [
        "You can interact with the API through HTTP requests from any language, via its official Python bindings, the official Node.js library, or a community-maintained library. See here for more information: https://platform.openai.com/docs/api-reference/authentication?lang=python.\n",
        "\n",
        "To install the official Python bindings, run the following command:"
      ]
    },
    {
      "cell_type": "code",
      "execution_count": null,
      "metadata": {
        "colab": {
          "base_uri": "https://localhost:8080/"
        },
        "id": "ANI6zJlqRCZ5",
        "outputId": "59e572a2-344b-4f24-ad29-d1d86a667c9f"
      },
      "outputs": [],
      "source": [
        "! pip install openai"
      ]
    },
    {
      "cell_type": "markdown",
      "metadata": {},
      "source": [
        "### Authentication\n",
        "\n",
        "The OpenAI API uses API keys for authentication. Visit your API Keys page to retrieve the API key you'll use in your requests.\n",
        "\n",
        "Remember that your API key is a secret! Do not share it with others or expose it in any client-side code (browsers, apps). Production requests must be routed through your own backend server where your API key can be securely loaded from an environment variable or key management service.\n",
        "\n",
        "All API requests should include your API key in an Authorization HTTP header as follows:"
      ]
    },
    {
      "cell_type": "markdown",
      "metadata": {},
      "source": [
        "### Calling OpenAI API "
      ]
    },
    {
      "cell_type": "code",
      "execution_count": 10,
      "metadata": {},
      "outputs": [],
      "source": [
        "import openai\n",
        "import time  # for measuring time duration of API calls\n",
        "import os\n",
        "\n",
        "client = openai.OpenAI(api_key='Your openai key')"
      ]
    },
    {
      "cell_type": "markdown",
      "metadata": {},
      "source": [
        "Feel free to replace the prompt and test chatgpt 3.5. You can make an UI for better user experience. Besides, this service costs you money so please be mindful to your usage: https://platform.openai.com/usage."
      ]
    },
    {
      "cell_type": "code",
      "execution_count": 15,
      "metadata": {},
      "outputs": [],
      "source": [
        "prompt = \"Can you tell me something about History of Milano?\""
      ]
    },
    {
      "cell_type": "code",
      "execution_count": 16,
      "metadata": {},
      "outputs": [
        {
          "name": "stdout",
          "output_type": "stream",
          "text": [
            "Full response received 3.91 seconds after request\n",
            "Chatbot: \n",
            "Milan, or Milano in Italian, has a rich and diverse history that dates back to ancient times. The city was founded by the Celts in the 6th century BC and later became a Roman settlement known as Mediolanum. During the Roman Empire, Milan was an important center of trade and commerce, as well as a strategic military outpost.\n",
            "\n",
            "In the Middle Ages, Milan became a powerful city-state ruled by the Visconti and Sforza families, who were known for their patronage of the arts and architecture. The city flourished during this time, becoming a major cultural and economic hub in Europe.\n",
            "\n",
            "In the 19th and 20th centuries, Milan played a key role in the unification of Italy and became an industrial powerhouse, known for its textile and manufacturing industries. The city also became a center of fashion and design, with famous designers such as Giorgio Armani and Versace establishing their brands in Milan.\n",
            "\n",
            "Today, Milan is a vibrant and cosmopolitan city that is known for its historic landmarks, such as the Duomo di Milano and the Sforza Castle, as well as its modern architecture and thriving cultural scene. It remains one of the most important cities in Italy and a major global hub for fashion, design, and finance.\n"
          ]
        }
      ],
      "source": [
        "start_time = time.time()\n",
        "\n",
        "# send a ChatCompletion request to count to 100\n",
        "response = client.chat.completions.create(\n",
        "    model='gpt-3.5-turbo',\n",
        "    messages=[\n",
        "        {'role': 'user', 'content': prompt}\n",
        "    ],\n",
        "    temperature=0,\n",
        ")\n",
        "# calculate the time it took to receive the response\n",
        "response_time = time.time() - start_time\n",
        "\n",
        "# print the time delay and text received\n",
        "print(f\"Full response received {response_time:.2f} seconds after request\")\n",
        "reply_content = response.choices[0].message.content\n",
        "print(f\"Chatbot: \\n{reply_content}\")"
      ]
    },
    {
      "cell_type": "markdown",
      "metadata": {
        "id": "t-gXJ54k7UPn"
      },
      "source": [
        "## 8.3 character-based chatbot"
      ]
    },
    {
      "cell_type": "markdown",
      "metadata": {
        "id": "e2IwnzmK7pm1"
      },
      "source": [
        "**OpenAI Rick and Morty ChatBot**\n",
        "\n",
        "Peter Martens\n",
        "\n",
        "This Python project employs pandas to process a Rick and Morty script from a CSV file. It then leverages OpenAI's Completion API to produce AI-generated replies. Morty offers ideas like going on adventures, tidying up the spaceship, selecting planets, picking music, and inviting Jessica. Rick's sharp comebacks add a comedic and lively exchange to the conversation.\n",
        "\n",
        "\n",
        "source: https://github.com/petermartens98/OpenAI-Rick-and-Morty-ChatBot-Jupyter-Notebook"
      ]
    },
    {
      "cell_type": "code",
      "execution_count": null,
      "metadata": {
        "id": "8WHwdp91DS4i"
      },
      "outputs": [],
      "source": [
        "import pandas as pd\n",
        "df =pd.read_csv(\"RickAndMortyScripts.csv\")"
      ]
    },
    {
      "cell_type": "code",
      "execution_count": null,
      "metadata": {
        "colab": {
          "base_uri": "https://localhost:8080/",
          "height": 677
        },
        "id": "ypGSP-HRRJTk",
        "outputId": "210b4814-7d1e-4261-96e7-75a23b02c2bd"
      },
      "outputs": [],
      "source": [
        "df.head(20)"
      ]
    },
    {
      "cell_type": "code",
      "execution_count": null,
      "metadata": {
        "id": "k0UT1fl1QGhY"
      },
      "outputs": [],
      "source": [
        "def model(prompt):\n",
        "      response = openai.Completion.create(\n",
        "      # model\n",
        "      engine=\"davinci\",\n",
        "      #text we want to complete\n",
        "      prompt=prompt,\n",
        "      #randomness\n",
        "      temperature=0.8,\n",
        "      #length of output we want\n",
        "      max_tokens=80,\n",
        "      top_p=1,\n",
        "      #how much to use a token based on its frequency in existing prompt\n",
        "      frequency_penalty=0.5,\n",
        "      #models likelyhood to talk about new topics\n",
        "      presence_penalty=0.6,\n",
        "      #ig the model stops when it encounter these words in stop list\n",
        "      stop=[\"\\n\\n\",\"Rick\",\"Morty\"]\n",
        "      )\n",
        "      return response.choices[0].text"
      ]
    },
    {
      "cell_type": "code",
      "execution_count": null,
      "metadata": {
        "id": "8MxtQ8avQL9T"
      },
      "outputs": [],
      "source": [
        "text='This is a conversation between galaxy famous scientist and alcaholic Rick Sanchez grandon Morty. Rick is an arrogant, alcaholic, rude, mad, intelligent, narcist, antisocial, athiest person with a secret soft side he masks with alcholic that takes time to get to. Morty is a kind, naive boy, secretly a genius, and craves the thrill of Ricks adventure, but may be losing patience.'"
      ]
    },
    {
      "cell_type": "code",
      "execution_count": null,
      "metadata": {
        "colab": {
          "base_uri": "https://localhost:8080/"
        },
        "id": "Bs1tibsJQP9A",
        "outputId": "432603f7-6fa3-4ed6-d906-f3e8ac900501"
      },
      "outputs": [],
      "source": [
        "for i,j in df.iterrows():\n",
        "    if j['name']=='Morty' or j['name']=='Rick':\n",
        "        text+=j['name']+':'+j['line']+'\\n'\n",
        "    if i==100:\n",
        "        break\n",
        "\n",
        "prompt=text\n",
        "t=True\n",
        "while t:\n",
        "    person=str(input('Morty:'))\n",
        "    prompt+='Morty:'+person+'\\n'\n",
        "    prompt+='Rick:'\n",
        "    output=model(prompt)\n",
        "    prompt+=output+'\\n'\n",
        "    print('Rick:',output)\n",
        "    if person=='bye':\n",
        "        print('Rick:ok I\\'m done, go away')\n",
        "        t=False"
      ]
    }
  ],
  "metadata": {
    "colab": {
      "authorship_tag": "ABX9TyN0P1W4MlT7ldbkRTMohmQd",
      "include_colab_link": true,
      "provenance": []
    },
    "kernelspec": {
      "display_name": "Python 3",
      "name": "python3"
    },
    "language_info": {
      "codemirror_mode": {
        "name": "ipython",
        "version": 3
      },
      "file_extension": ".py",
      "mimetype": "text/x-python",
      "name": "python",
      "nbconvert_exporter": "python",
      "pygments_lexer": "ipython3",
      "version": "3.8.17"
    }
  },
  "nbformat": 4,
  "nbformat_minor": 0
}
