{
  "nbformat": 4,
  "nbformat_minor": 0,
  "metadata": {
    "colab": {
      "provenance": [],
      "authorship_tag": "ABX9TyNNFYes1Z5ogzh7mnBReBac",
      "include_colab_link": true
    },
    "kernelspec": {
      "name": "python3",
      "display_name": "Python 3"
    },
    "language_info": {
      "name": "python"
    }
  },
  "cells": [
    {
      "cell_type": "markdown",
      "metadata": {
        "id": "view-in-github",
        "colab_type": "text"
      },
      "source": [
        "<a href=\"https://colab.research.google.com/github/junting-huang/data_storytelling/blob/main/case_2_number.ipynb\" target=\"_parent\"><img src=\"https://colab.research.google.com/assets/colab-badge.svg\" alt=\"Open In Colab\"/></a>"
      ]
    },
    {
      "cell_type": "markdown",
      "source": [
        "# number\n",
        "  - let's build a \"doomsday clock\"\n",
        "  - what is measurable? what is being mesaured?\n",
        "  - what does measurement represent? and how?\n",
        "  \n",
        "## first example (climate doomsday clock)\n",
        "  - define the threat\n",
        "  - identify a measurement\n",
        "  - create a scoring system\n",
        "  - set the time\n",
        "  - print the time\n",
        "\n",
        "### exercise 2.1\n",
        "create an alternative doomsday clock and scoring system for the climate\n",
        "\n",
        "## second example (nuclear doomsday clock)\n",
        "  - create a list of events\n",
        "  - score the list of events\n",
        "  - set the time\n",
        "  - print the historical change\n",
        "\n",
        "### exercise 2.2\n",
        "create a timeline of at least 5 recent events for your doomsday clock\n",
        "\n",
        "## third example (extended case)"
      ],
      "metadata": {
        "id": "SHp7Z9iKACoO"
      }
    }
  ]
}