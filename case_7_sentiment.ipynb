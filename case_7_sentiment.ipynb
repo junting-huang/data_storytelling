{
  "cells": [
    {
      "cell_type": "markdown",
      "metadata": {
        "colab_type": "text",
        "id": "view-in-github"
      },
      "source": [
        "<a href=\"https://colab.research.google.com/github/junting-huang/data_storytelling/blob/main/case_8_sentiment.ipynb\" target=\"_parent\"><img src=\"https://colab.research.google.com/assets/colab-badge.svg\" alt=\"Open In Colab\"/></a>"
      ]
    },
    {
      "cell_type": "markdown",
      "metadata": {
        "id": "PzYqdQZE9oNN"
      },
      "source": [
        "# case_7. sentiment"
      ]
    },
    {
      "cell_type": "markdown",
      "metadata": {},
      "source": [
        "Sentiment analysis is a natural language processing (NLP) technique aimed at determining and extracting the sentiment or emotional tone expressed in a piece of text. The primary objective is to understand whether the sentiment conveyed is positive, negative, or neutral. Sentiment analysis utilizes machine learning algorithms and linguistic techniques to analyze and interpret subjective information from various sources, such as social media, customer reviews, and news articles. This valuable tool has widespread applications, including gauging public opinion, brand monitoring, and customer feedback analysis. Businesses often employ sentiment analysis to gain insights into customer sentiments, allowing them to make informed decisions, enhance customer experiences, and adapt strategies based on the prevailing sentiment within a given context.\n",
        "\n",
        "\n",
        "Sentiment analysis applied to literature involves employing NLP techniques to assess and understand the emotional tone, opinions, and attitudes expressed within literary texts. By leveraging computational tools, sentiment analysis can unveil the sentiments embedded in characters' dialogues, narrative elements, and overall thematic content. This analytical approach allows researchers, scholars, and literary enthusiasts to gain deeper insights into the emotional nuances of literary works, identifying patterns in sentiment shifts, character dynamics, and thematic developments. Whether examining classical literature or contemporary novels, sentiment analysis provides a quantitative and systematic way to explore the emotional landscape of literary pieces, contributing to a more nuanced understanding of the subjective aspects conveyed by authors through their prose and characters."
      ]
    },
    {
      "cell_type": "markdown",
      "metadata": {
        "id": "e7QDtX1b9zqd"
      },
      "source": [
        "## 7.1 sentiment analysis\n",
        "\n",
        "\n",
        "The provided code uses the TextBlob library in Python to perform sentiment analysis on a user-inputted sentence. Feel free to input different sentences and compare their sentiment scores."
      ]
    },
    {
      "cell_type": "code",
      "execution_count": null,
      "metadata": {
        "colab": {
          "base_uri": "https://localhost:8080/"
        },
        "id": "Yhc86KjpKdP1",
        "outputId": "449d4aac-9998-4ae6-9f81-c8b9af00dfb9"
      },
      "outputs": [],
      "source": [
        "from textblob import TextBlob\n",
        "\n",
        "# Get a sentence from the user\n",
        "sentence = input('Please enter a sentence: ')\n",
        "\n",
        "# Create a TextBlob object\n",
        "blob = TextBlob(sentence)\n",
        "\n",
        "# Determine the polarity and subjectivity of the sentence\n",
        "polarity = blob.sentiment.polarity\n",
        "subjectivity = blob.sentiment.subjectivity\n",
        "\n",
        "# Print the results\n",
        "print(f'The polarity of this sentence is {polarity}.')\n",
        "print(f'The subjectivity of this sentence is {subjectivity}.')"
      ]
    },
    {
      "cell_type": "markdown",
      "metadata": {
        "id": "kVfSnIeH-Ea5"
      },
      "source": [
        "## 5.2 valence aware dictionary and sentiment reasoner (VADER)\n",
        "\n",
        "The Valence Aware Dictionary and sentiment Reasoner, or VADER, is a pre-built sentiment analysis tool designed specifically for social media text. Developed by researchers at the Georgia Institute of Technology, VADER excels at handling the unique linguistic characteristics of informal, colloquial language commonly found on platforms like Twitter and Facebook. What sets VADER apart is its ability to not only classify text as positive, negative, or neutral but also to capture the intensity or degree of sentiment expressed. It considers not only individual words but also their context, including negations and booster words, to provide a more nuanced understanding of sentiment. VADER assigns a compound score that represents the overall sentiment polarity and strength in a given piece of text. Its ease of use, accuracy, and adaptability make VADER a valuable tool in sentiment analysis applications, particularly in the realm of social media analytics and opinion mining.\n",
        "\n",
        "For more information about VADER, please see this medium post: https://medium.com/mlearning-ai/vader-valence-aware-dictionary-and-sentiment-reasoner-sentiment-analysis-28251536698."
      ]
    },
    {
      "cell_type": "code",
      "execution_count": null,
      "metadata": {
        "colab": {
          "base_uri": "https://localhost:8080/"
        },
        "id": "wzmoeXAikKPs",
        "outputId": "613149b4-3a86-4a34-a64d-6a7bad8896b3"
      },
      "outputs": [],
      "source": [
        "! pip install nltk"
      ]
    },
    {
      "cell_type": "code",
      "execution_count": null,
      "metadata": {
        "colab": {
          "base_uri": "https://localhost:8080/"
        },
        "id": "ed60qFfCkKuU",
        "outputId": "495ea868-b7b5-4c98-9b8c-692f91a37e0b"
      },
      "outputs": [],
      "source": [
        "import nltk\n",
        "nltk.download('vader_lexicon')"
      ]
    },
    {
      "cell_type": "markdown",
      "metadata": {},
      "source": [
        "The *polarity_scores* method from the *SentimentIntensityAnalyzer* is to obtain sentiment scores for a given line of text. The polarity_scores method returns a dictionary containing the positive, negative, neutral, and compound scores for the input text. The compound score is often used to represent the overall sentiment of the text."
      ]
    },
    {
      "cell_type": "code",
      "execution_count": null,
      "metadata": {
        "colab": {
          "base_uri": "https://localhost:8080/"
        },
        "id": "-BYingG0kPfy",
        "outputId": "7d18037c-7644-4a5a-f3a6-1817a39979a7"
      },
      "outputs": [],
      "source": [
        "from nltk.sentiment.vader import SentimentIntensityAnalyzer\n",
        "\n",
        "def analyze_sentiment(lyrics):\n",
        "    sid = SentimentIntensityAnalyzer()\n",
        "\n",
        "    # Split the lyrics into lines\n",
        "    lines = lyrics.split('\\n')\n",
        "\n",
        "    # Analyze the sentiment of each line and aggregate the results\n",
        "    total_scores = {'neg': 0, 'neu': 0, 'pos': 0, 'compound': 0}\n",
        "    for line in lines:\n",
        "        if line:  # Ignore empty lines\n",
        "            scores = sid.polarity_scores(line)\n",
        "            for key in scores:\n",
        "                total_scores[key] += scores[key]\n",
        "\n",
        "    # Calculate average scores\n",
        "    num_lines = len(lines)\n",
        "    avg_scores = {key: total_scores[key] / num_lines for key in total_scores}\n",
        "\n",
        "    sentiment = None\n",
        "    if avg_scores['compound'] > 0:\n",
        "        sentiment = 'Positive'\n",
        "    elif avg_scores['compound'] < 0:\n",
        "        sentiment = 'Negative'\n",
        "    else:\n",
        "        sentiment = 'Neutral'\n",
        "\n",
        "    return sentiment, avg_scores\n",
        "\n",
        "# Replace with your actual song lyrics\n",
        "lyrics = \"\"\"\n",
        "Shadows are fallin' and I've been here all day\n",
        "It's too hot to sleep and time is runnin' away\n",
        "I feel like my soul has turned into steel\n",
        "I've still got the scars that the sun didn't heal\n",
        "There's not even room enough to be anywhere\n",
        "It's not dark yet, but it's gettin' there\n",
        "Well, my sense of humanity has gone down the drain\n",
        "Behind every beautiful thing there's been some kind of pain\n",
        "She wrote me a letter and she wrote it so kind\n",
        "She put down in writin' what was in her mind\n",
        "I just don't see why I should even care\n",
        "It's not dark yet, but it's gettin' there\n",
        "Well, I've been to London and I been to gay Paris\n",
        "I've followed the river and I got to the sea\n",
        "I've been down on the bottom of the world full of lies\n",
        "I ain't lookin' for nothin' in anyone's eyes\n",
        "Sometimes my burden is more than I can bear\n",
        "It's not dark yet, but it's gettin' there\n",
        "I was born here and I'll die here against my will\n",
        "I know it looks like I'm movin' but I'm standin' still\n",
        "Every nerve in my body is so naked and numb\n",
        "I can't even remember what it was, I came here to get away from\n",
        "Don't even hear the murmur of a prayer\n",
        "It's not dark yet, but it's gettin' there\n",
        "\"\"\"\n",
        "\n",
        "sentiment, scores = analyze_sentiment(lyrics)\n",
        "\n",
        "print(f\"Sentiment: {sentiment}\")\n",
        "print(f\"Scores: {scores}\")"
      ]
    },
    {
      "cell_type": "markdown",
      "metadata": {},
      "source": [
        "Do you agree with the sentiment analysis result?"
      ]
    },
    {
      "cell_type": "markdown",
      "metadata": {
        "id": "gG31V3vf-5de"
      },
      "source": [
        "## 7.2 Application: bob dylan's saddest song"
      ]
    },
    {
      "cell_type": "markdown",
      "metadata": {},
      "source": [
        "The following code does a sentiment analysis to analyze the lyrics of Bob Dylan's songs and identify the \"saddest\" one based on sentiment polarity. "
      ]
    },
    {
      "cell_type": "code",
      "execution_count": null,
      "metadata": {
        "colab": {
          "base_uri": "https://localhost:8080/"
        },
        "id": "BL1ksoWTkRHU",
        "outputId": "67466119-5acb-4ed9-ae7e-395680244f94"
      },
      "outputs": [],
      "source": [
        "import pandas as pd\n",
        "from textblob import TextBlob\n",
        "from nltk.corpus import stopwords\n",
        "from nltk.tokenize import word_tokenize\n",
        "import nltk\n",
        "\n",
        "# You need to download the 'punkt' and 'stopwords' packages if you haven't done so already\n",
        "nltk.download('punkt')\n",
        "nltk.download('stopwords')\n",
        "\n",
        "# Load the data\n",
        "df = pd.read_csv('bob_dylan_songs.csv')  # replace with your csv file\n",
        "\n",
        "# Create a function to clean the lyrics\n",
        "def clean_lyrics(lyrics):\n",
        "    stop_words = set(stopwords.words('english'))\n",
        "    word_tokens = word_tokenize(lyrics)\n",
        "    filtered_lyrics = [w for w in word_tokens if not w in stop_words]\n",
        "    return \" \".join(filtered_lyrics)\n",
        "\n",
        "# Apply cleaning function to lyrics\n",
        "df['cleaned_lyrics'] = df['lyrics'].apply(clean_lyrics)\n",
        "\n",
        "# Get the polarity of each song\n",
        "df['polarity'] = df['cleaned_lyrics'].apply(lambda x: TextBlob(x).sentiment.polarity)\n",
        "\n",
        "# Sort the dataframe by polarity\n",
        "df = df.sort_values('polarity')\n",
        "\n",
        "# The first song in the sorted dataframe is the 'saddest' one\n",
        "saddest_song = df.iloc[0]\n",
        "\n",
        "print(\"The saddest Bob Dylan's song according to sentiment analysis is: \", saddest_song['title'])\n"
      ]
    },
    {
      "cell_type": "markdown",
      "metadata": {},
      "source": [
        "The top 20 saddest songs:"
      ]
    },
    {
      "cell_type": "code",
      "execution_count": null,
      "metadata": {
        "colab": {
          "base_uri": "https://localhost:8080/",
          "height": 1000
        },
        "id": "yT5zdVtwgfcj",
        "outputId": "adf8f740-de50-4f19-d511-a2e8ee9b4e0f"
      },
      "outputs": [],
      "source": [
        "df.head(20)"
      ]
    },
    {
      "cell_type": "markdown",
      "metadata": {
        "id": "yIbYkZIyAdxc"
      },
      "source": [
        "## 7.3 emotion analysis"
      ]
    },
    {
      "cell_type": "markdown",
      "metadata": {},
      "source": [
        "Emotion analysis is a branch of AI to discern and interpret emotions expressed in written or spoken language. This field of study involves using machine learning algorithms and linguistic analysis to identify and categorize emotions such as happiness, sadness, anger, fear, and more within a given text. Emotion analysis goes beyond simple sentiment analysis by delving into the nuanced expressions of emotions and their intensity. Techniques often include analyzing word choice, context, and linguistic patterns to infer emotional states accurately. In NLP applications, emotion analysis finds relevance in sentiment classification, chatbot interactions, social media monitoring, and mental health assessment, among others. The aim is to equip machines with the ability to recognize and respond to human emotions, fostering more empathetic and context-aware interactions in various domains.\n",
        "\n",
        "First, we create a pivot table where each row corresponds to a word, each column corresponds to an emotion. For example, the word abandon associates fear, negative, and sadness emotions."
      ]
    },
    {
      "cell_type": "code",
      "execution_count": null,
      "metadata": {
        "id": "ROTmvRuur8CV"
      },
      "outputs": [],
      "source": [
        "import pandas as pd\n",
        "\n",
        "filepath = 'data/NRC-emotion-lexicon-wordlevel-alphabetized-v0.92.txt' # replace with the path to your lexicon file\n",
        "emolex_df = pd.read_csv(filepath,  names=[\"word\", \"emotion\", \"association\"], sep='\\t')\n",
        "emolex_df = emolex_df.pivot(index='word', columns='emotion', values='association').reset_index() # this is like using pivot table in excel"
      ]
    },
    {
      "cell_type": "code",
      "execution_count": null,
      "metadata": {
        "colab": {
          "base_uri": "https://localhost:8080/",
          "height": 363
        },
        "id": "CogutsoN1Vp6",
        "outputId": "e0d697c0-0e07-4821-d088-d7633beb0b64"
      },
      "outputs": [],
      "source": [
        "emolex_df.head(10)"
      ]
    },
    {
      "cell_type": "markdown",
      "metadata": {},
      "source": [
        "Then, we calculate the sum of emotion values for the words in the text."
      ]
    },
    {
      "cell_type": "code",
      "execution_count": null,
      "metadata": {
        "id": "ihQeyUWGB3Wg"
      },
      "outputs": [],
      "source": [
        "def emotion_analyzer(text, df=emolex_df):\n",
        "  words_to_check = []\n",
        "\n",
        "  for word in text.split(' '):\n",
        "        word = word.lower()\n",
        "        words_to_check.append(word)\n",
        "\n",
        "  filtered_df = df[df[\"word\"].isin(words_to_check)]\n",
        "  sum_of_values = filtered_df.sum(numeric_only=True)\n",
        "\n",
        "  return sum_of_values"
      ]
    },
    {
      "cell_type": "code",
      "execution_count": null,
      "metadata": {
        "colab": {
          "base_uri": "https://localhost:8080/"
        },
        "id": "mSBl93n7D_bm",
        "outputId": "7d0ce2db-154f-498a-8d10-2cc1260003e5"
      },
      "outputs": [],
      "source": [
        "text = \"I am happy and excited about this great opportunity!\"\n",
        "emotion_analyzer(text)"
      ]
    },
    {
      "cell_type": "code",
      "execution_count": null,
      "metadata": {
        "colab": {
          "base_uri": "https://localhost:8080/"
        },
        "id": "a8p3jGtKEaV6",
        "outputId": "3d2d14ee-e8a4-4eb8-d155-254a28c1890d"
      },
      "outputs": [],
      "source": [
        "emotion_analyzer(lyrics)"
      ]
    },
    {
      "cell_type": "markdown",
      "metadata": {},
      "source": [
        "What does the result tell you about the emotions of the text?"
      ]
    }
  ],
  "metadata": {
    "colab": {
      "authorship_tag": "ABX9TyOYx2o5QKV9JpTE+x42F7TR",
      "include_colab_link": true,
      "provenance": []
    },
    "kernelspec": {
      "display_name": "Python 3",
      "name": "python3"
    },
    "language_info": {
      "codemirror_mode": {
        "name": "ipython",
        "version": 3
      },
      "file_extension": ".py",
      "mimetype": "text/x-python",
      "name": "python",
      "nbconvert_exporter": "python",
      "pygments_lexer": "ipython3",
      "version": "3.8.17"
    }
  },
  "nbformat": 4,
  "nbformat_minor": 0
}
