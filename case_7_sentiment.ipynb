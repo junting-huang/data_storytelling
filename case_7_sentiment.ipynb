{
  "cells": [
    {
      "cell_type": "markdown",
      "metadata": {
        "colab_type": "text",
        "id": "view-in-github"
      },
      "source": [
        "<a href=\"https://colab.research.google.com/github/junting-huang/data_storytelling/blob/main/case_8_sentiment.ipynb\" target=\"_parent\"><img src=\"https://colab.research.google.com/assets/colab-badge.svg\" alt=\"Open In Colab\"/></a>"
      ]
    },
    {
      "cell_type": "markdown",
      "metadata": {
        "id": "PzYqdQZE9oNN"
      },
      "source": [
        "# case_7. sentiment"
      ]
    },
    {
      "cell_type": "markdown",
      "metadata": {},
      "source": [
        "\n",
        "Sentiment analysis is a natural language processing task that involves determining the sentiment expressed in a piece of text. The sentiment can be positive, negative, or neutral. Sentiment analysis is commonly used to analyze customer reviews, social media content, and other textual data to understand the opinions or attitudes expressed."
      ]
    },
    {
      "cell_type": "markdown",
      "metadata": {
        "id": "e7QDtX1b9zqd"
      },
      "source": [
        "## 5.1 sentiment analysis"
      ]
    },
    {
      "cell_type": "code",
      "execution_count": null,
      "metadata": {
        "colab": {
          "base_uri": "https://localhost:8080/"
        },
        "id": "Yhc86KjpKdP1",
        "outputId": "449d4aac-9998-4ae6-9f81-c8b9af00dfb9"
      },
      "outputs": [
        {
          "name": "stdout",
          "output_type": "stream",
          "text": [
            "Please enter a sentence: this is painful\n",
            "The polarity of this sentence is -0.7.\n",
            "The subjectivity of this sentence is 0.9.\n"
          ]
        }
      ],
      "source": [
        "from textblob import TextBlob\n",
        "\n",
        "# Get a sentence from the user\n",
        "sentence = input('Please enter a sentence: ')\n",
        "\n",
        "# Create a TextBlob object\n",
        "blob = TextBlob(sentence)\n",
        "\n",
        "# Determine the polarity and subjectivity of the sentence\n",
        "polarity = blob.sentiment.polarity\n",
        "subjectivity = blob.sentiment.subjectivity\n",
        "\n",
        "# Print the results\n",
        "print(f'The polarity of this sentence is {polarity}.')\n",
        "print(f'The subjectivity of this sentence is {subjectivity}.')"
      ]
    },
    {
      "cell_type": "markdown",
      "metadata": {
        "id": "kVfSnIeH-Ea5"
      },
      "source": [
        "## 5.2 valence aware dictionary and sentiment reasoner (VADER)"
      ]
    },
    {
      "cell_type": "code",
      "execution_count": null,
      "metadata": {
        "colab": {
          "base_uri": "https://localhost:8080/"
        },
        "id": "wzmoeXAikKPs",
        "outputId": "613149b4-3a86-4a34-a64d-6a7bad8896b3"
      },
      "outputs": [
        {
          "name": "stdout",
          "output_type": "stream",
          "text": [
            "Requirement already satisfied: nltk in /usr/local/lib/python3.10/dist-packages (3.8.1)\n",
            "Requirement already satisfied: click in /usr/local/lib/python3.10/dist-packages (from nltk) (8.1.7)\n",
            "Requirement already satisfied: joblib in /usr/local/lib/python3.10/dist-packages (from nltk) (1.3.2)\n",
            "Requirement already satisfied: regex>=2021.8.3 in /usr/local/lib/python3.10/dist-packages (from nltk) (2023.6.3)\n",
            "Requirement already satisfied: tqdm in /usr/local/lib/python3.10/dist-packages (from nltk) (4.66.1)\n"
          ]
        }
      ],
      "source": [
        "! pip install nltk"
      ]
    },
    {
      "cell_type": "code",
      "execution_count": 1,
      "metadata": {
        "colab": {
          "base_uri": "https://localhost:8080/"
        },
        "id": "ed60qFfCkKuU",
        "outputId": "495ea868-b7b5-4c98-9b8c-692f91a37e0b"
      },
      "outputs": [
        {
          "name": "stderr",
          "output_type": "stream",
          "text": [
            "[nltk_data] Downloading package vader_lexicon to\n",
            "[nltk_data]     /Users/liyao/nltk_data...\n"
          ]
        },
        {
          "data": {
            "text/plain": [
              "True"
            ]
          },
          "execution_count": 1,
          "metadata": {},
          "output_type": "execute_result"
        }
      ],
      "source": [
        "import nltk\n",
        "nltk.download('vader_lexicon')"
      ]
    },
    {
      "cell_type": "markdown",
      "metadata": {},
      "source": [
        "The *polarity_scores* method from the *SentimentIntensityAnalyzer* is to obtain sentiment scores for a given line of text. The polarity_scores method returns a dictionary containing the positive, negative, neutral, and compound scores for the input text. The compound score is often used to represent the overall sentiment of the text."
      ]
    },
    {
      "cell_type": "code",
      "execution_count": 6,
      "metadata": {
        "colab": {
          "base_uri": "https://localhost:8080/"
        },
        "id": "-BYingG0kPfy",
        "outputId": "7d18037c-7644-4a5a-f3a6-1817a39979a7"
      },
      "outputs": [
        {
          "name": "stdout",
          "output_type": "stream",
          "text": [
            "Sentiment: Positive\n",
            "Scores: {'neg': 0.04838461538461539, 'neu': 0.8081153846153846, 'pos': 0.06657692307692308, 'compound': 0.018100000000000015}\n"
          ]
        }
      ],
      "source": [
        "from nltk.sentiment.vader import SentimentIntensityAnalyzer\n",
        "\n",
        "def analyze_sentiment(lyrics):\n",
        "    sid = SentimentIntensityAnalyzer()\n",
        "\n",
        "    # Split the lyrics into lines\n",
        "    lines = lyrics.split('\\n')\n",
        "\n",
        "    # Analyze the sentiment of each line and aggregate the results\n",
        "    total_scores = {'neg': 0, 'neu': 0, 'pos': 0, 'compound': 0}\n",
        "    for line in lines:\n",
        "        if line:  # Ignore empty lines\n",
        "            scores = sid.polarity_scores(line)\n",
        "            for key in scores:\n",
        "                total_scores[key] += scores[key]\n",
        "\n",
        "    # Calculate average scores\n",
        "    num_lines = len(lines)\n",
        "    avg_scores = {key: total_scores[key] / num_lines for key in total_scores}\n",
        "\n",
        "    sentiment = None\n",
        "    if avg_scores['compound'] > 0:\n",
        "        sentiment = 'Positive'\n",
        "    elif avg_scores['compound'] < 0:\n",
        "        sentiment = 'Negative'\n",
        "    else:\n",
        "        sentiment = 'Neutral'\n",
        "\n",
        "    return sentiment, avg_scores\n",
        "\n",
        "# Replace with your actual song lyrics\n",
        "lyrics = \"\"\"\n",
        "Shadows are fallin' and I've been here all day\n",
        "It's too hot to sleep and time is runnin' away\n",
        "I feel like my soul has turned into steel\n",
        "I've still got the scars that the sun didn't heal\n",
        "There's not even room enough to be anywhere\n",
        "It's not dark yet, but it's gettin' there\n",
        "Well, my sense of humanity has gone down the drain\n",
        "Behind every beautiful thing there's been some kind of pain\n",
        "She wrote me a letter and she wrote it so kind\n",
        "She put down in writin' what was in her mind\n",
        "I just don't see why I should even care\n",
        "It's not dark yet, but it's gettin' there\n",
        "Well, I've been to London and I been to gay Paris\n",
        "I've followed the river and I got to the sea\n",
        "I've been down on the bottom of the world full of lies\n",
        "I ain't lookin' for nothin' in anyone's eyes\n",
        "Sometimes my burden is more than I can bear\n",
        "It's not dark yet, but it's gettin' there\n",
        "I was born here and I'll die here against my will\n",
        "I know it looks like I'm movin' but I'm standin' still\n",
        "Every nerve in my body is so naked and numb\n",
        "I can't even remember what it was, I came here to get away from\n",
        "Don't even hear the murmur of a prayer\n",
        "It's not dark yet, but it's gettin' there\n",
        "\"\"\"\n",
        "\n",
        "sentiment, scores = analyze_sentiment(lyrics)\n",
        "\n",
        "print(f\"Sentiment: {sentiment}\")\n",
        "print(f\"Scores: {scores}\")"
      ]
    },
    {
      "cell_type": "markdown",
      "metadata": {
        "id": "gG31V3vf-5de"
      },
      "source": [
        "## 5.3 bob dylan's saddest song"
      ]
    },
    {
      "cell_type": "markdown",
      "metadata": {},
      "source": [
        "The following code does a sentiment analysis using TextBlob to analyze the lyrics of Bob Dylan's songs and identify the \"saddest\" one based on sentiment polarity. "
      ]
    },
    {
      "cell_type": "code",
      "execution_count": null,
      "metadata": {
        "colab": {
          "base_uri": "https://localhost:8080/"
        },
        "id": "BL1ksoWTkRHU",
        "outputId": "67466119-5acb-4ed9-ae7e-395680244f94"
      },
      "outputs": [
        {
          "name": "stderr",
          "output_type": "stream",
          "text": [
            "[nltk_data] Downloading package punkt to /root/nltk_data...\n",
            "[nltk_data]   Package punkt is already up-to-date!\n",
            "[nltk_data] Downloading package stopwords to /root/nltk_data...\n",
            "[nltk_data]   Package stopwords is already up-to-date!\n"
          ]
        },
        {
          "name": "stdout",
          "output_type": "stream",
          "text": [
            "The saddest Bob Dylan's song according to sentiment analysis is:  All the Tired Horses\n"
          ]
        }
      ],
      "source": [
        "import pandas as pd\n",
        "from textblob import TextBlob\n",
        "from nltk.corpus import stopwords\n",
        "from nltk.tokenize import word_tokenize\n",
        "import nltk\n",
        "\n",
        "# You need to download the 'punkt' and 'stopwords' packages if you haven't done so already\n",
        "nltk.download('punkt')\n",
        "nltk.download('stopwords')\n",
        "\n",
        "# Load the data\n",
        "df = pd.read_csv('bob_dylan_songs.csv')  # replace with your csv file\n",
        "\n",
        "# Create a function to clean the lyrics\n",
        "def clean_lyrics(lyrics):\n",
        "    stop_words = set(stopwords.words('english'))\n",
        "    word_tokens = word_tokenize(lyrics)\n",
        "    filtered_lyrics = [w for w in word_tokens if not w in stop_words]\n",
        "    return \" \".join(filtered_lyrics)\n",
        "\n",
        "# Apply cleaning function to lyrics\n",
        "df['cleaned_lyrics'] = df['lyrics'].apply(clean_lyrics)\n",
        "\n",
        "# Get the polarity of each song\n",
        "df['polarity'] = df['cleaned_lyrics'].apply(lambda x: TextBlob(x).sentiment.polarity)\n",
        "\n",
        "# Sort the dataframe by polarity\n",
        "df = df.sort_values('polarity')\n",
        "\n",
        "# The first song in the sorted dataframe is the 'saddest' one\n",
        "saddest_song = df.iloc[0]\n",
        "\n",
        "print(\"The saddest Bob Dylan's song according to sentiment analysis is: \", saddest_song['title'])\n"
      ]
    },
    {
      "cell_type": "markdown",
      "metadata": {},
      "source": [
        "The top 20 saddest songs:"
      ]
    },
    {
      "cell_type": "code",
      "execution_count": null,
      "metadata": {
        "colab": {
          "base_uri": "https://localhost:8080/",
          "height": 1000
        },
        "id": "yT5zdVtwgfcj",
        "outputId": "adf8f740-de50-4f19-d511-a2e8ee9b4e0f"
      },
      "outputs": [
        {
          "data": {
            "text/html": [
              "\n",
              "\n",
              "  <div id=\"df-a8bd0f11-0186-4173-9254-21d7b52e1881\">\n",
              "    <div class=\"colab-df-container\">\n",
              "      <div>\n",
              "<style scoped>\n",
              "    .dataframe tbody tr th:only-of-type {\n",
              "        vertical-align: middle;\n",
              "    }\n",
              "\n",
              "    .dataframe tbody tr th {\n",
              "        vertical-align: top;\n",
              "    }\n",
              "\n",
              "    .dataframe thead th {\n",
              "        text-align: right;\n",
              "    }\n",
              "</style>\n",
              "<table border=\"1\" class=\"dataframe\">\n",
              "  <thead>\n",
              "    <tr style=\"text-align: right;\">\n",
              "      <th></th>\n",
              "      <th>release_year</th>\n",
              "      <th>album</th>\n",
              "      <th>title</th>\n",
              "      <th>lyrics</th>\n",
              "      <th>cleaned_lyrics</th>\n",
              "      <th>polarity</th>\n",
              "    </tr>\n",
              "  </thead>\n",
              "  <tbody>\n",
              "    <tr>\n",
              "      <th>126</th>\n",
              "      <td>1970</td>\n",
              "      <td>Self Portrait</td>\n",
              "      <td>All the Tired Horses</td>\n",
              "      <td>All the tired horses in the sun\\n \\n How'm I s...</td>\n",
              "      <td>All tired horses sun How 'm I supposed get rid...</td>\n",
              "      <td>-0.400000</td>\n",
              "    </tr>\n",
              "    <tr>\n",
              "      <th>269</th>\n",
              "      <td>1989</td>\n",
              "      <td>Oh Mercy</td>\n",
              "      <td>Everything Is Broken</td>\n",
              "      <td>Broken lines, broken strings\\n\\nBroken threads...</td>\n",
              "      <td>Broken lines , broken strings Broken threads ,...</td>\n",
              "      <td>-0.366667</td>\n",
              "    </tr>\n",
              "    <tr>\n",
              "      <th>218</th>\n",
              "      <td>1980</td>\n",
              "      <td>Saved</td>\n",
              "      <td>Solid Rock</td>\n",
              "      <td>Well, I’m hangin’ on to a solid rock\\n\\nMade b...</td>\n",
              "      <td>Well , I ’ hangin ’ solid rock Made foundation...</td>\n",
              "      <td>-0.300000</td>\n",
              "    </tr>\n",
              "    <tr>\n",
              "      <th>63</th>\n",
              "      <td>1965</td>\n",
              "      <td>Highway 61 Revisited</td>\n",
              "      <td>Queen Jane Approximately</td>\n",
              "      <td>When your mother sends back all your invitatio...</td>\n",
              "      <td>When mother sends back invitations And father ...</td>\n",
              "      <td>-0.278571</td>\n",
              "    </tr>\n",
              "    <tr>\n",
              "      <th>40</th>\n",
              "      <td>1964</td>\n",
              "      <td>The Times They Are A-Changin'</td>\n",
              "      <td>Ballad of Hollis Brown</td>\n",
              "      <td>Hollis Brown\\n \\n He lived on the outside of t...</td>\n",
              "      <td>Hollis Brown He lived outside town Hollis Brow...</td>\n",
              "      <td>-0.264848</td>\n",
              "    </tr>\n",
              "    <tr>\n",
              "      <th>142</th>\n",
              "      <td>1974</td>\n",
              "      <td>Planet Waves</td>\n",
              "      <td>Dirge</td>\n",
              "      <td>I hate myself for lovin’ you and the weakness ...</td>\n",
              "      <td>I hate lovin ’ weakness showed You painted fac...</td>\n",
              "      <td>-0.226042</td>\n",
              "    </tr>\n",
              "    <tr>\n",
              "      <th>222</th>\n",
              "      <td>1981</td>\n",
              "      <td>Shot of Love</td>\n",
              "      <td>Trouble</td>\n",
              "      <td>Trouble in the city, trouble in the farm\\n\\nYo...</td>\n",
              "      <td>Trouble city , trouble farm You got rabbit ’ f...</td>\n",
              "      <td>-0.202778</td>\n",
              "    </tr>\n",
              "    <tr>\n",
              "      <th>137</th>\n",
              "      <td>1973</td>\n",
              "      <td>The Bootleg Series, Vol 1-3: Rare &amp; Unreleased...</td>\n",
              "      <td>Call Letter Blues</td>\n",
              "      <td>Well, I walked all night long\\n\\nListenin’ to ...</td>\n",
              "      <td>Well , I walked night long Listenin ’ church b...</td>\n",
              "      <td>-0.200000</td>\n",
              "    </tr>\n",
              "    <tr>\n",
              "      <th>78</th>\n",
              "      <td>1966</td>\n",
              "      <td>Blonde on Blonde</td>\n",
              "      <td>I Want You</td>\n",
              "      <td>The guilty undertaker sighs\\n \\n The lonesome ...</td>\n",
              "      <td>The guilty undertaker sighs The lonesome organ...</td>\n",
              "      <td>-0.200000</td>\n",
              "    </tr>\n",
              "    <tr>\n",
              "      <th>62</th>\n",
              "      <td>1965</td>\n",
              "      <td>Bringing It All Back Home</td>\n",
              "      <td>Mr. Tambourine Man</td>\n",
              "      <td>Hey! Mr. Tambourine Man, play a song for me\\n ...</td>\n",
              "      <td>Hey ! Mr. Tambourine Man , play song I ’ sleep...</td>\n",
              "      <td>-0.181366</td>\n",
              "    </tr>\n",
              "    <tr>\n",
              "      <th>33</th>\n",
              "      <td>1964</td>\n",
              "      <td>The Times They Are A-Changin'</td>\n",
              "      <td>Only a Pawn in Their Game</td>\n",
              "      <td>A bullet from the back of a bush took Medgar E...</td>\n",
              "      <td>A bullet back bush took Medgar Evers ’ blood A...</td>\n",
              "      <td>-0.178274</td>\n",
              "    </tr>\n",
              "    <tr>\n",
              "      <th>290</th>\n",
              "      <td>1997</td>\n",
              "      <td>Time out of Mind</td>\n",
              "      <td>Love Sick</td>\n",
              "      <td>I’m walking through streets that are dead\\n\\nW...</td>\n",
              "      <td>I ’ walking streets dead Walking , walking hea...</td>\n",
              "      <td>-0.175714</td>\n",
              "    </tr>\n",
              "    <tr>\n",
              "      <th>190</th>\n",
              "      <td>1978</td>\n",
              "      <td>Street-legal</td>\n",
              "      <td>Baby, Stop Crying</td>\n",
              "      <td>You been down to the bottom with a bad man, ba...</td>\n",
              "      <td>You bottom bad man , babe But ’ back belong Go...</td>\n",
              "      <td>-0.166165</td>\n",
              "    </tr>\n",
              "    <tr>\n",
              "      <th>24</th>\n",
              "      <td>1963</td>\n",
              "      <td>The Freewheelin'</td>\n",
              "      <td>Corrina, Corrina</td>\n",
              "      <td>Corrina, Corrina\\n \\n Gal, where you been so l...</td>\n",
              "      <td>Corrina , Corrina Gal , long ? Corrina , Corri...</td>\n",
              "      <td>-0.153125</td>\n",
              "    </tr>\n",
              "    <tr>\n",
              "      <th>120</th>\n",
              "      <td>1970</td>\n",
              "      <td>Self Portrait</td>\n",
              "      <td>Alberta # 2</td>\n",
              "      <td>Alberta let your hair hang low\\n \\n Alberta le...</td>\n",
              "      <td>Alberta let hair hang low Alberta let hair han...</td>\n",
              "      <td>-0.150000</td>\n",
              "    </tr>\n",
              "    <tr>\n",
              "      <th>125</th>\n",
              "      <td>1970</td>\n",
              "      <td>Self Portrait</td>\n",
              "      <td>Alberta # 1</td>\n",
              "      <td>Alberta let your hair hang low\\n \\n Alberta le...</td>\n",
              "      <td>Alberta let hair hang low Alberta let hair han...</td>\n",
              "      <td>-0.150000</td>\n",
              "    </tr>\n",
              "    <tr>\n",
              "      <th>164</th>\n",
              "      <td>1975</td>\n",
              "      <td>Blood on the Tracks</td>\n",
              "      <td>Idiot Wind</td>\n",
              "      <td>Someone’s got it in for me, they’re planting s...</td>\n",
              "      <td>Someone ’ got , ’ planting stories press Whoev...</td>\n",
              "      <td>-0.148327</td>\n",
              "    </tr>\n",
              "    <tr>\n",
              "      <th>9</th>\n",
              "      <td>1963</td>\n",
              "      <td>The Bootleg Series, Vol 1-3: Rare &amp; Unreleased...</td>\n",
              "      <td>Who Killed Davey Moore?</td>\n",
              "      <td>Who killed Davey Moore\\n\\nWhy an’ what’s the r...</td>\n",
              "      <td>Who killed Davey Moore Why ’ ’ reason ? “ Not ...</td>\n",
              "      <td>-0.147101</td>\n",
              "    </tr>\n",
              "    <tr>\n",
              "      <th>80</th>\n",
              "      <td>1966</td>\n",
              "      <td>Blonde on Blonde</td>\n",
              "      <td>Temporary Like Achilles</td>\n",
              "      <td>Standing on your window, honey\\n \\n Yes, I’ve ...</td>\n",
              "      <td>Standing window , honey Yes , I ’ Feeling harm...</td>\n",
              "      <td>-0.143519</td>\n",
              "    </tr>\n",
              "    <tr>\n",
              "      <th>258</th>\n",
              "      <td>1988</td>\n",
              "      <td>Death Is Not the End</td>\n",
              "      <td>Had a Dream About You, Baby</td>\n",
              "      <td>I got to see you baby, I don’t care\\n\\nIt may ...</td>\n",
              "      <td>I got see baby , I ’ care It may someplace , b...</td>\n",
              "      <td>-0.136667</td>\n",
              "    </tr>\n",
              "  </tbody>\n",
              "</table>\n",
              "</div>\n",
              "      <button class=\"colab-df-convert\" onclick=\"convertToInteractive('df-a8bd0f11-0186-4173-9254-21d7b52e1881')\"\n",
              "              title=\"Convert this dataframe to an interactive table.\"\n",
              "              style=\"display:none;\">\n",
              "\n",
              "  <svg xmlns=\"http://www.w3.org/2000/svg\" height=\"24px\"viewBox=\"0 0 24 24\"\n",
              "       width=\"24px\">\n",
              "    <path d=\"M0 0h24v24H0V0z\" fill=\"none\"/>\n",
              "    <path d=\"M18.56 5.44l.94 2.06.94-2.06 2.06-.94-2.06-.94-.94-2.06-.94 2.06-2.06.94zm-11 1L8.5 8.5l.94-2.06 2.06-.94-2.06-.94L8.5 2.5l-.94 2.06-2.06.94zm10 10l.94 2.06.94-2.06 2.06-.94-2.06-.94-.94-2.06-.94 2.06-2.06.94z\"/><path d=\"M17.41 7.96l-1.37-1.37c-.4-.4-.92-.59-1.43-.59-.52 0-1.04.2-1.43.59L10.3 9.45l-7.72 7.72c-.78.78-.78 2.05 0 2.83L4 21.41c.39.39.9.59 1.41.59.51 0 1.02-.2 1.41-.59l7.78-7.78 2.81-2.81c.8-.78.8-2.07 0-2.86zM5.41 20L4 18.59l7.72-7.72 1.47 1.35L5.41 20z\"/>\n",
              "  </svg>\n",
              "      </button>\n",
              "\n",
              "\n",
              "\n",
              "    <div id=\"df-1297ccbb-d802-4c69-9ffc-c84ca510f327\">\n",
              "      <button class=\"colab-df-quickchart\" onclick=\"quickchart('df-1297ccbb-d802-4c69-9ffc-c84ca510f327')\"\n",
              "              title=\"Suggest charts.\"\n",
              "              style=\"display:none;\">\n",
              "\n",
              "<svg xmlns=\"http://www.w3.org/2000/svg\" height=\"24px\"viewBox=\"0 0 24 24\"\n",
              "     width=\"24px\">\n",
              "    <g>\n",
              "        <path d=\"M19 3H5c-1.1 0-2 .9-2 2v14c0 1.1.9 2 2 2h14c1.1 0 2-.9 2-2V5c0-1.1-.9-2-2-2zM9 17H7v-7h2v7zm4 0h-2V7h2v10zm4 0h-2v-4h2v4z\"/>\n",
              "    </g>\n",
              "</svg>\n",
              "      </button>\n",
              "    </div>\n",
              "\n",
              "<style>\n",
              "  .colab-df-quickchart {\n",
              "    background-color: #E8F0FE;\n",
              "    border: none;\n",
              "    border-radius: 50%;\n",
              "    cursor: pointer;\n",
              "    display: none;\n",
              "    fill: #1967D2;\n",
              "    height: 32px;\n",
              "    padding: 0 0 0 0;\n",
              "    width: 32px;\n",
              "  }\n",
              "\n",
              "  .colab-df-quickchart:hover {\n",
              "    background-color: #E2EBFA;\n",
              "    box-shadow: 0px 1px 2px rgba(60, 64, 67, 0.3), 0px 1px 3px 1px rgba(60, 64, 67, 0.15);\n",
              "    fill: #174EA6;\n",
              "  }\n",
              "\n",
              "  [theme=dark] .colab-df-quickchart {\n",
              "    background-color: #3B4455;\n",
              "    fill: #D2E3FC;\n",
              "  }\n",
              "\n",
              "  [theme=dark] .colab-df-quickchart:hover {\n",
              "    background-color: #434B5C;\n",
              "    box-shadow: 0px 1px 3px 1px rgba(0, 0, 0, 0.15);\n",
              "    filter: drop-shadow(0px 1px 2px rgba(0, 0, 0, 0.3));\n",
              "    fill: #FFFFFF;\n",
              "  }\n",
              "</style>\n",
              "\n",
              "    <script>\n",
              "      async function quickchart(key) {\n",
              "        const containerElement = document.querySelector('#' + key);\n",
              "        const charts = await google.colab.kernel.invokeFunction(\n",
              "            'suggestCharts', [key], {});\n",
              "      }\n",
              "    </script>\n",
              "\n",
              "      <script>\n",
              "\n",
              "function displayQuickchartButton(domScope) {\n",
              "  let quickchartButtonEl =\n",
              "    domScope.querySelector('#df-1297ccbb-d802-4c69-9ffc-c84ca510f327 button.colab-df-quickchart');\n",
              "  quickchartButtonEl.style.display =\n",
              "    google.colab.kernel.accessAllowed ? 'block' : 'none';\n",
              "}\n",
              "\n",
              "        displayQuickchartButton(document);\n",
              "      </script>\n",
              "      <style>\n",
              "    .colab-df-container {\n",
              "      display:flex;\n",
              "      flex-wrap:wrap;\n",
              "      gap: 12px;\n",
              "    }\n",
              "\n",
              "    .colab-df-convert {\n",
              "      background-color: #E8F0FE;\n",
              "      border: none;\n",
              "      border-radius: 50%;\n",
              "      cursor: pointer;\n",
              "      display: none;\n",
              "      fill: #1967D2;\n",
              "      height: 32px;\n",
              "      padding: 0 0 0 0;\n",
              "      width: 32px;\n",
              "    }\n",
              "\n",
              "    .colab-df-convert:hover {\n",
              "      background-color: #E2EBFA;\n",
              "      box-shadow: 0px 1px 2px rgba(60, 64, 67, 0.3), 0px 1px 3px 1px rgba(60, 64, 67, 0.15);\n",
              "      fill: #174EA6;\n",
              "    }\n",
              "\n",
              "    [theme=dark] .colab-df-convert {\n",
              "      background-color: #3B4455;\n",
              "      fill: #D2E3FC;\n",
              "    }\n",
              "\n",
              "    [theme=dark] .colab-df-convert:hover {\n",
              "      background-color: #434B5C;\n",
              "      box-shadow: 0px 1px 3px 1px rgba(0, 0, 0, 0.15);\n",
              "      filter: drop-shadow(0px 1px 2px rgba(0, 0, 0, 0.3));\n",
              "      fill: #FFFFFF;\n",
              "    }\n",
              "  </style>\n",
              "\n",
              "      <script>\n",
              "        const buttonEl =\n",
              "          document.querySelector('#df-a8bd0f11-0186-4173-9254-21d7b52e1881 button.colab-df-convert');\n",
              "        buttonEl.style.display =\n",
              "          google.colab.kernel.accessAllowed ? 'block' : 'none';\n",
              "\n",
              "        async function convertToInteractive(key) {\n",
              "          const element = document.querySelector('#df-a8bd0f11-0186-4173-9254-21d7b52e1881');\n",
              "          const dataTable =\n",
              "            await google.colab.kernel.invokeFunction('convertToInteractive',\n",
              "                                                     [key], {});\n",
              "          if (!dataTable) return;\n",
              "\n",
              "          const docLinkHtml = 'Like what you see? Visit the ' +\n",
              "            '<a target=\"_blank\" href=https://colab.research.google.com/notebooks/data_table.ipynb>data table notebook</a>'\n",
              "            + ' to learn more about interactive tables.';\n",
              "          element.innerHTML = '';\n",
              "          dataTable['output_type'] = 'display_data';\n",
              "          await google.colab.output.renderOutput(dataTable, element);\n",
              "          const docLink = document.createElement('div');\n",
              "          docLink.innerHTML = docLinkHtml;\n",
              "          element.appendChild(docLink);\n",
              "        }\n",
              "      </script>\n",
              "    </div>\n",
              "  </div>\n"
            ],
            "text/plain": [
              "     release_year                                              album  \\\n",
              "126          1970                                      Self Portrait   \n",
              "269          1989                                           Oh Mercy   \n",
              "218          1980                                              Saved   \n",
              "63           1965                               Highway 61 Revisited   \n",
              "40           1964                      The Times They Are A-Changin'   \n",
              "142          1974                                       Planet Waves   \n",
              "222          1981                                       Shot of Love   \n",
              "137          1973  The Bootleg Series, Vol 1-3: Rare & Unreleased...   \n",
              "78           1966                                   Blonde on Blonde   \n",
              "62           1965                          Bringing It All Back Home   \n",
              "33           1964                      The Times They Are A-Changin'   \n",
              "290          1997                                   Time out of Mind   \n",
              "190          1978                                       Street-legal   \n",
              "24           1963                                   The Freewheelin'   \n",
              "120          1970                                      Self Portrait   \n",
              "125          1970                                      Self Portrait   \n",
              "164          1975                                Blood on the Tracks   \n",
              "9            1963  The Bootleg Series, Vol 1-3: Rare & Unreleased...   \n",
              "80           1966                                   Blonde on Blonde   \n",
              "258          1988                               Death Is Not the End   \n",
              "\n",
              "                           title  \\\n",
              "126         All the Tired Horses   \n",
              "269         Everything Is Broken   \n",
              "218                   Solid Rock   \n",
              "63      Queen Jane Approximately   \n",
              "40        Ballad of Hollis Brown   \n",
              "142                        Dirge   \n",
              "222                      Trouble   \n",
              "137            Call Letter Blues   \n",
              "78                    I Want You   \n",
              "62            Mr. Tambourine Man   \n",
              "33     Only a Pawn in Their Game   \n",
              "290                    Love Sick   \n",
              "190            Baby, Stop Crying   \n",
              "24              Corrina, Corrina   \n",
              "120                  Alberta # 2   \n",
              "125                  Alberta # 1   \n",
              "164                   Idiot Wind   \n",
              "9        Who Killed Davey Moore?   \n",
              "80       Temporary Like Achilles   \n",
              "258  Had a Dream About You, Baby   \n",
              "\n",
              "                                                lyrics  \\\n",
              "126  All the tired horses in the sun\\n \\n How'm I s...   \n",
              "269  Broken lines, broken strings\\n\\nBroken threads...   \n",
              "218  Well, I’m hangin’ on to a solid rock\\n\\nMade b...   \n",
              "63   When your mother sends back all your invitatio...   \n",
              "40   Hollis Brown\\n \\n He lived on the outside of t...   \n",
              "142  I hate myself for lovin’ you and the weakness ...   \n",
              "222  Trouble in the city, trouble in the farm\\n\\nYo...   \n",
              "137  Well, I walked all night long\\n\\nListenin’ to ...   \n",
              "78   The guilty undertaker sighs\\n \\n The lonesome ...   \n",
              "62   Hey! Mr. Tambourine Man, play a song for me\\n ...   \n",
              "33   A bullet from the back of a bush took Medgar E...   \n",
              "290  I’m walking through streets that are dead\\n\\nW...   \n",
              "190  You been down to the bottom with a bad man, ba...   \n",
              "24   Corrina, Corrina\\n \\n Gal, where you been so l...   \n",
              "120  Alberta let your hair hang low\\n \\n Alberta le...   \n",
              "125  Alberta let your hair hang low\\n \\n Alberta le...   \n",
              "164  Someone’s got it in for me, they’re planting s...   \n",
              "9    Who killed Davey Moore\\n\\nWhy an’ what’s the r...   \n",
              "80   Standing on your window, honey\\n \\n Yes, I’ve ...   \n",
              "258  I got to see you baby, I don’t care\\n\\nIt may ...   \n",
              "\n",
              "                                        cleaned_lyrics  polarity  \n",
              "126  All tired horses sun How 'm I supposed get rid... -0.400000  \n",
              "269  Broken lines , broken strings Broken threads ,... -0.366667  \n",
              "218  Well , I ’ hangin ’ solid rock Made foundation... -0.300000  \n",
              "63   When mother sends back invitations And father ... -0.278571  \n",
              "40   Hollis Brown He lived outside town Hollis Brow... -0.264848  \n",
              "142  I hate lovin ’ weakness showed You painted fac... -0.226042  \n",
              "222  Trouble city , trouble farm You got rabbit ’ f... -0.202778  \n",
              "137  Well , I walked night long Listenin ’ church b... -0.200000  \n",
              "78   The guilty undertaker sighs The lonesome organ... -0.200000  \n",
              "62   Hey ! Mr. Tambourine Man , play song I ’ sleep... -0.181366  \n",
              "33   A bullet back bush took Medgar Evers ’ blood A... -0.178274  \n",
              "290  I ’ walking streets dead Walking , walking hea... -0.175714  \n",
              "190  You bottom bad man , babe But ’ back belong Go... -0.166165  \n",
              "24   Corrina , Corrina Gal , long ? Corrina , Corri... -0.153125  \n",
              "120  Alberta let hair hang low Alberta let hair han... -0.150000  \n",
              "125  Alberta let hair hang low Alberta let hair han... -0.150000  \n",
              "164  Someone ’ got , ’ planting stories press Whoev... -0.148327  \n",
              "9    Who killed Davey Moore Why ’ ’ reason ? “ Not ... -0.147101  \n",
              "80   Standing window , honey Yes , I ’ Feeling harm... -0.143519  \n",
              "258  I got see baby , I ’ care It may someplace , b... -0.136667  "
            ]
          },
          "execution_count": 23,
          "metadata": {},
          "output_type": "execute_result"
        }
      ],
      "source": [
        "df.head(20)"
      ]
    },
    {
      "cell_type": "markdown",
      "metadata": {
        "id": "yIbYkZIyAdxc"
      },
      "source": [
        "## 5.4 emotion analysis"
      ]
    },
    {
      "cell_type": "markdown",
      "metadata": {},
      "source": [
        "First, we create a pivot table where each row corresponds to a word, each column corresponds to an emotion. For example, the word abandon associates fear, negative, and sadness emotions."
      ]
    },
    {
      "cell_type": "code",
      "execution_count": 13,
      "metadata": {
        "id": "ROTmvRuur8CV"
      },
      "outputs": [],
      "source": [
        "import pandas as pd\n",
        "\n",
        "filepath = 'data/NRC-emotion-lexicon-wordlevel-alphabetized-v0.92.txt' # replace with the path to your lexicon file\n",
        "emolex_df = pd.read_csv(filepath,  names=[\"word\", \"emotion\", \"association\"], sep='\\t')\n",
        "emolex_df = emolex_df.pivot(index='word', columns='emotion', values='association').reset_index() # this is like using pivot table in excel"
      ]
    },
    {
      "cell_type": "code",
      "execution_count": 17,
      "metadata": {
        "colab": {
          "base_uri": "https://localhost:8080/",
          "height": 363
        },
        "id": "CogutsoN1Vp6",
        "outputId": "e0d697c0-0e07-4821-d088-d7633beb0b64"
      },
      "outputs": [
        {
          "data": {
            "text/html": [
              "<div>\n",
              "<style scoped>\n",
              "    .dataframe tbody tr th:only-of-type {\n",
              "        vertical-align: middle;\n",
              "    }\n",
              "\n",
              "    .dataframe tbody tr th {\n",
              "        vertical-align: top;\n",
              "    }\n",
              "\n",
              "    .dataframe thead th {\n",
              "        text-align: right;\n",
              "    }\n",
              "</style>\n",
              "<table border=\"1\" class=\"dataframe\">\n",
              "  <thead>\n",
              "    <tr style=\"text-align: right;\">\n",
              "      <th>emotion</th>\n",
              "      <th>word</th>\n",
              "      <th>anger</th>\n",
              "      <th>anticipation</th>\n",
              "      <th>disgust</th>\n",
              "      <th>fear</th>\n",
              "      <th>joy</th>\n",
              "      <th>negative</th>\n",
              "      <th>positive</th>\n",
              "      <th>sadness</th>\n",
              "      <th>surprise</th>\n",
              "      <th>trust</th>\n",
              "    </tr>\n",
              "  </thead>\n",
              "  <tbody>\n",
              "    <tr>\n",
              "      <th>0</th>\n",
              "      <td>NaN</td>\n",
              "      <td>0</td>\n",
              "      <td>0</td>\n",
              "      <td>0</td>\n",
              "      <td>0</td>\n",
              "      <td>0</td>\n",
              "      <td>0</td>\n",
              "      <td>0</td>\n",
              "      <td>0</td>\n",
              "      <td>0</td>\n",
              "      <td>0</td>\n",
              "    </tr>\n",
              "    <tr>\n",
              "      <th>1</th>\n",
              "      <td>aback</td>\n",
              "      <td>0</td>\n",
              "      <td>0</td>\n",
              "      <td>0</td>\n",
              "      <td>0</td>\n",
              "      <td>0</td>\n",
              "      <td>0</td>\n",
              "      <td>0</td>\n",
              "      <td>0</td>\n",
              "      <td>0</td>\n",
              "      <td>0</td>\n",
              "    </tr>\n",
              "    <tr>\n",
              "      <th>2</th>\n",
              "      <td>abacus</td>\n",
              "      <td>0</td>\n",
              "      <td>0</td>\n",
              "      <td>0</td>\n",
              "      <td>0</td>\n",
              "      <td>0</td>\n",
              "      <td>0</td>\n",
              "      <td>0</td>\n",
              "      <td>0</td>\n",
              "      <td>0</td>\n",
              "      <td>1</td>\n",
              "    </tr>\n",
              "    <tr>\n",
              "      <th>3</th>\n",
              "      <td>abandon</td>\n",
              "      <td>0</td>\n",
              "      <td>0</td>\n",
              "      <td>0</td>\n",
              "      <td>1</td>\n",
              "      <td>0</td>\n",
              "      <td>1</td>\n",
              "      <td>0</td>\n",
              "      <td>1</td>\n",
              "      <td>0</td>\n",
              "      <td>0</td>\n",
              "    </tr>\n",
              "    <tr>\n",
              "      <th>4</th>\n",
              "      <td>abandoned</td>\n",
              "      <td>1</td>\n",
              "      <td>0</td>\n",
              "      <td>0</td>\n",
              "      <td>1</td>\n",
              "      <td>0</td>\n",
              "      <td>1</td>\n",
              "      <td>0</td>\n",
              "      <td>1</td>\n",
              "      <td>0</td>\n",
              "      <td>0</td>\n",
              "    </tr>\n",
              "    <tr>\n",
              "      <th>5</th>\n",
              "      <td>abandonment</td>\n",
              "      <td>1</td>\n",
              "      <td>0</td>\n",
              "      <td>0</td>\n",
              "      <td>1</td>\n",
              "      <td>0</td>\n",
              "      <td>1</td>\n",
              "      <td>0</td>\n",
              "      <td>1</td>\n",
              "      <td>1</td>\n",
              "      <td>0</td>\n",
              "    </tr>\n",
              "    <tr>\n",
              "      <th>6</th>\n",
              "      <td>abate</td>\n",
              "      <td>0</td>\n",
              "      <td>0</td>\n",
              "      <td>0</td>\n",
              "      <td>0</td>\n",
              "      <td>0</td>\n",
              "      <td>0</td>\n",
              "      <td>0</td>\n",
              "      <td>0</td>\n",
              "      <td>0</td>\n",
              "      <td>0</td>\n",
              "    </tr>\n",
              "    <tr>\n",
              "      <th>7</th>\n",
              "      <td>abatement</td>\n",
              "      <td>0</td>\n",
              "      <td>0</td>\n",
              "      <td>0</td>\n",
              "      <td>0</td>\n",
              "      <td>0</td>\n",
              "      <td>0</td>\n",
              "      <td>0</td>\n",
              "      <td>0</td>\n",
              "      <td>0</td>\n",
              "      <td>0</td>\n",
              "    </tr>\n",
              "    <tr>\n",
              "      <th>8</th>\n",
              "      <td>abba</td>\n",
              "      <td>0</td>\n",
              "      <td>0</td>\n",
              "      <td>0</td>\n",
              "      <td>0</td>\n",
              "      <td>0</td>\n",
              "      <td>0</td>\n",
              "      <td>1</td>\n",
              "      <td>0</td>\n",
              "      <td>0</td>\n",
              "      <td>0</td>\n",
              "    </tr>\n",
              "    <tr>\n",
              "      <th>9</th>\n",
              "      <td>abbot</td>\n",
              "      <td>0</td>\n",
              "      <td>0</td>\n",
              "      <td>0</td>\n",
              "      <td>0</td>\n",
              "      <td>0</td>\n",
              "      <td>0</td>\n",
              "      <td>0</td>\n",
              "      <td>0</td>\n",
              "      <td>0</td>\n",
              "      <td>1</td>\n",
              "    </tr>\n",
              "  </tbody>\n",
              "</table>\n",
              "</div>"
            ],
            "text/plain": [
              "emotion         word  anger  anticipation  disgust  fear  joy  negative  \\\n",
              "0                NaN      0             0        0     0    0         0   \n",
              "1              aback      0             0        0     0    0         0   \n",
              "2             abacus      0             0        0     0    0         0   \n",
              "3            abandon      0             0        0     1    0         1   \n",
              "4          abandoned      1             0        0     1    0         1   \n",
              "5        abandonment      1             0        0     1    0         1   \n",
              "6              abate      0             0        0     0    0         0   \n",
              "7          abatement      0             0        0     0    0         0   \n",
              "8               abba      0             0        0     0    0         0   \n",
              "9              abbot      0             0        0     0    0         0   \n",
              "\n",
              "emotion  positive  sadness  surprise  trust  \n",
              "0               0        0         0      0  \n",
              "1               0        0         0      0  \n",
              "2               0        0         0      1  \n",
              "3               0        1         0      0  \n",
              "4               0        1         0      0  \n",
              "5               0        1         1      0  \n",
              "6               0        0         0      0  \n",
              "7               0        0         0      0  \n",
              "8               1        0         0      0  \n",
              "9               0        0         0      1  "
            ]
          },
          "execution_count": 17,
          "metadata": {},
          "output_type": "execute_result"
        }
      ],
      "source": [
        "emolex_df.head(10)"
      ]
    },
    {
      "cell_type": "markdown",
      "metadata": {},
      "source": [
        "Then, we calculate the sum of emotion values for the words in the text."
      ]
    },
    {
      "cell_type": "code",
      "execution_count": 18,
      "metadata": {
        "id": "ihQeyUWGB3Wg"
      },
      "outputs": [],
      "source": [
        "def emotion_analyzer(text, df=emolex_df):\n",
        "  words_to_check = []\n",
        "\n",
        "  for word in text.split(' '):\n",
        "        word = word.lower()\n",
        "        words_to_check.append(word)\n",
        "\n",
        "  filtered_df = df[df[\"word\"].isin(words_to_check)]\n",
        "  sum_of_values = filtered_df.sum(numeric_only=True)\n",
        "\n",
        "  return sum_of_values"
      ]
    },
    {
      "cell_type": "code",
      "execution_count": 19,
      "metadata": {
        "colab": {
          "base_uri": "https://localhost:8080/"
        },
        "id": "mSBl93n7D_bm",
        "outputId": "7d0ce2db-154f-498a-8d10-2cc1260003e5"
      },
      "outputs": [
        {
          "data": {
            "text/plain": [
              "emotion\n",
              "anger           0\n",
              "anticipation    2\n",
              "disgust         0\n",
              "fear            0\n",
              "joy             2\n",
              "negative        0\n",
              "positive        2\n",
              "sadness         0\n",
              "surprise        1\n",
              "trust           2\n",
              "dtype: int64"
            ]
          },
          "execution_count": 19,
          "metadata": {},
          "output_type": "execute_result"
        }
      ],
      "source": [
        "text = \"I am happy and excited about this great opportunity!\"\n",
        "emotion_analyzer(text)"
      ]
    },
    {
      "cell_type": "code",
      "execution_count": 20,
      "metadata": {
        "colab": {
          "base_uri": "https://localhost:8080/"
        },
        "id": "a8p3jGtKEaV6",
        "outputId": "3d2d14ee-e8a4-4eb8-d155-254a28c1890d"
      },
      "outputs": [
        {
          "data": {
            "text/plain": [
              "emotion\n",
              "anger           1\n",
              "anticipation    3\n",
              "disgust         0\n",
              "fear            1\n",
              "joy             4\n",
              "negative        2\n",
              "positive        7\n",
              "sadness         3\n",
              "surprise        1\n",
              "trust           3\n",
              "dtype: int64"
            ]
          },
          "execution_count": 20,
          "metadata": {},
          "output_type": "execute_result"
        }
      ],
      "source": [
        "emotion_analyzer(lyrics)"
      ]
    },
    {
      "cell_type": "markdown",
      "metadata": {},
      "source": [
        "\n",
        "In the following code, we create a function *plot_sentiment_arc* that reads a text file, tokenizes it into sentences, performs sentiment analysis on each sentence using TextBlob, and then plots the sentiment scores over the narrative arc. What can you conclude from the following plot?"
      ]
    },
    {
      "cell_type": "code",
      "execution_count": null,
      "metadata": {
        "colab": {
          "base_uri": "https://localhost:8080/",
          "height": 488
        },
        "id": "5H7gBt_kW6Sa",
        "outputId": "13ac3b93-aa04-48c5-e6f4-56f1091534b8"
      },
      "outputs": [
        {
          "name": "stderr",
          "output_type": "stream",
          "text": [
            "[nltk_data] Downloading package punkt to /root/nltk_data...\n",
            "[nltk_data]   Package punkt is already up-to-date!\n"
          ]
        },
        {
          "data": {
            "image/png": "[encoded data removed]",
            "text/plain": [
              "<Figure size 640x480 with 1 Axes>"
            ]
          },
          "metadata": {},
          "output_type": "display_data"
        }
      ],
      "source": [
        "import matplotlib.pyplot as plt\n",
        "from textblob import TextBlob\n",
        "from nltk.tokenize import sent_tokenize\n",
        "import nltk\n",
        "\n",
        "nltk.download('punkt')\n",
        "\n",
        "def plot_sentiment_arc(file_path):\n",
        "    # Open and read the file\n",
        "    with open(file_path, 'r') as file:\n",
        "        text = file.read()\n",
        "\n",
        "    # Tokenize the text into sentences\n",
        "    sentences = sent_tokenize(text)\n",
        "\n",
        "    # Run sentiment analysis on each sentence\n",
        "    sentiment_scores = []\n",
        "    for sentence in sentences:\n",
        "        blob = TextBlob(sentence)\n",
        "        sentiment_scores.append(blob.sentiment.polarity)\n",
        "\n",
        "    # Plot the sentiment scores\n",
        "    plt.plot(sentiment_scores)\n",
        "    plt.title('Narrative Arc based on Sentiment Analysis')\n",
        "    plt.ylabel('Sentiment Polarity')\n",
        "    plt.show()\n",
        "\n",
        "# Use the function on your text file\n",
        "plot_sentiment_arc('snow_white.txt')"
      ]
    }
  ],
  "metadata": {
    "colab": {
      "authorship_tag": "ABX9TyOYx2o5QKV9JpTE+x42F7TR",
      "include_colab_link": true,
      "provenance": []
    },
    "kernelspec": {
      "display_name": "Python 3",
      "name": "python3"
    },
    "language_info": {
      "codemirror_mode": {
        "name": "ipython",
        "version": 3
      },
      "file_extension": ".py",
      "mimetype": "text/x-python",
      "name": "python",
      "nbconvert_exporter": "python",
      "pygments_lexer": "ipython3",
      "version": "3.8.17"
    }
  },
  "nbformat": 4,
  "nbformat_minor": 0
}
