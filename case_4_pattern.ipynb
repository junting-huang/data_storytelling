{
  "cells": [
    {
      "cell_type": "markdown",
      "metadata": {
        "colab_type": "text",
        "id": "view-in-github"
      },
      "source": [
        "<a href=\"https://colab.research.google.com/github/junting-huang/data_storytelling/blob/main/case_4_pattern.ipynb\" target=\"_parent\"><img src=\"https://colab.research.google.com/assets/colab-badge.svg\" alt=\"Open In Colab\"/></a>"
      ]
    },
    {
      "cell_type": "markdown",
      "metadata": {
        "id": "xUlcdeaghvrO"
      },
      "source": [
        "# case_4. pattern"
      ]
    },
    {
      "cell_type": "markdown",
      "metadata": {
        "id": "n1GJBJQrYUCB"
      },
      "source": [
        "## 4.1 rule-based text generation\n",
        "\n",
        "\n",
        "Rule-based text generation involves creating texts based on a set of predefined rules or patterns. These rules can range from simple templates to more complex grammatical structures. This approach is often used when you have specific requirements or constraints for generating text. In the following example, we predefine three sentence structures and dictionary of words for each part of speech."
      ]
    },
    {
      "cell_type": "markdown",
      "metadata": {},
      "source": [
        "The random module provides functions for generating pseudorandom numbers. This module is commonly used when you need to introduce randomness or make random choices in your code."
      ]
    },
    {
      "cell_type": "code",
      "execution_count": 9,
      "metadata": {
        "id": "VX-ZPXfqQuGU"
      },
      "outputs": [],
      "source": [
        "import random"
      ]
    },
    {
      "cell_type": "code",
      "execution_count": 10,
      "metadata": {
        "id": "2QwUChT5Oal4"
      },
      "outputs": [],
      "source": [
        "# Dictionary of words for each part of speech\n",
        "word_dict = {\n",
        "    'adjectives': ['bright', 'dark', 'colorful', 'dreary', 'vibrant', 'lifeless'],\n",
        "    'nouns': ['sun', 'moon', 'forest', 'desert', 'sky', 'ocean'],\n",
        "    'verbs': ['shines', 'sings', 'whispers', 'screams', 'glistens', 'cries'],\n",
        "    'adverbs': ['loudly', 'softly', 'brightly', 'painfully', 'carefully', 'joyfully']\n",
        "}"
      ]
    },
    {
      "cell_type": "code",
      "execution_count": 3,
      "metadata": {
        "id": "LmH4_CHIOhxx"
      },
      "outputs": [],
      "source": [
        "# Sentence structures that the program can choose from\n",
        "sentence_structures = [\n",
        "    ['The', 'adjectives', 'nouns', 'verbs', 'adverbs'],\n",
        "    ['adjectives', 'nouns', 'verbs', 'adverbs', 'in the', 'adjectives', 'nouns'],\n",
        "    ['The', 'nouns', 'verbs', 'adverbs', 'under the', 'adjectives', 'nouns']\n",
        "]"
      ]
    },
    {
      "cell_type": "code",
      "execution_count": 4,
      "metadata": {
        "id": "zvQRPyvxPliA"
      },
      "outputs": [],
      "source": [
        "# Returns a random word of the given part of speech\n",
        "def get_word(part_of_speech):\n",
        "    return random.choice(word_dict[part_of_speech])"
      ]
    },
    {
      "cell_type": "code",
      "execution_count": 35,
      "metadata": {
        "id": "cYtZC_kdQZO8"
      },
      "outputs": [],
      "source": [
        "# Returns a sentence generated according to a random sentence structure\n",
        "def get_sentence():\n",
        "    sentence_structure = random.choice(sentence_structures)\n",
        "    sentence = ' '.join(get_word(part_of_speech) if part_of_speech in word_dict else part_of_speech for part_of_speech in sentence_structure)\n",
        "    return sentence.capitalize() + '.'"
      ]
    },
    {
      "cell_type": "code",
      "execution_count": 11,
      "metadata": {
        "id": "rOBmnEVUQzr6"
      },
      "outputs": [],
      "source": [
        "# Generates a 4-line poem\n",
        "def generate_poem():\n",
        "    for _ in range(4):\n",
        "        print(get_sentence())"
      ]
    },
    {
      "cell_type": "code",
      "execution_count": 12,
      "metadata": {
        "colab": {
          "base_uri": "https://localhost:8080/"
        },
        "id": "lmhDGIveQ-qN",
        "outputId": "2804e840-6b12-41a4-d639-e351e1f91ac6"
      },
      "outputs": [
        {
          "name": "stdout",
          "output_type": "stream",
          "text": [
            "Bright forest screams carefully in the bright sky.\n",
            "The lifeless ocean whispers painfully.\n",
            "Dark ocean glistens brightly in the dreary sky.\n",
            "The colorful desert screams painfully.\n"
          ]
        }
      ],
      "source": [
        "generate_poem()"
      ]
    },
    {
      "cell_type": "markdown",
      "metadata": {
        "id": "apa7nXDZPmGb"
      },
      "source": [
        "## 4.2 regulated verse generation\n",
        "\n",
        "\n",
        "Regulated verse generation involves generating poetic or verse-like text according to specific rules or patterns. These rules may include rhyme schemes, syllable counts, meter, or other constraints commonly found in traditional poetic forms. Creating regulated verses often requires a combination of linguistic and creative considerations. Feel free to change seed_words, adjectives, nouns lists, and length of poem to create a more complicated poem."
      ]
    },
    {
      "cell_type": "code",
      "execution_count": 1,
      "metadata": {
        "colab": {
          "base_uri": "https://localhost:8080/"
        },
        "id": "WUXTiyCRR0br",
        "outputId": "fc7d983d-e929-4597-c513-899fe74e4537"
      },
      "outputs": [],
      "source": [
        "from textblob import Word\n",
        "import random\n",
        "import requests\n",
        "\n",
        "seed_words = ['love', 'moon', 'star', 'dream']\n",
        "adjectives = ['bright', 'dark', 'sweet', 'silent']\n",
        "nouns = ['night', 'sky', 'heart', 'light']"
      ]
    },
    {
      "cell_type": "markdown",
      "metadata": {},
      "source": [
        "The provided code defines a function called generate_line that takes a seed_word as input and generates a random phrase using a randomly chosen adjective, noun, and the provided seed word. The adjective and noun are selected from predefined lists (adjectives and nouns). The resulting line is formatted as \"The [adjective] [seed_word] of [noun]\". The use of the random.choice function ensures variability in the generated phrases, providing a playful way to construct imaginative sentences."
      ]
    },
    {
      "cell_type": "code",
      "execution_count": null,
      "metadata": {},
      "outputs": [],
      "source": [
        "def generate_line(seed_word):\n",
        "    adjective = random.choice(adjectives)\n",
        "    noun = random.choice(nouns)\n",
        "    return f\"The {adjective} {seed_word} of {noun}\""
      ]
    },
    {
      "cell_type": "markdown",
      "metadata": {},
      "source": [
        "The provided code defines a function named *find_rhyme* that searches for words that rhyme with a given word based on the specified part of speech (POS) using the Datamuse API. The function takes two parameters: word (the target word for which rhymes are sought) and pos (the desired part of speech for the rhyming words).\n",
        "\n",
        "The function constructs a URL for the Datamuse API by incorporating the target word and the specified part of speech. It then sends an HTTP GET request to the API and checks if the response status code is 200 (indicating a successful request). If successful, it parses the JSON response, retrieves the first rhyming word, and returns it. If no rhyming words are found, the function returns the original word."
      ]
    },
    {
      "cell_type": "code",
      "execution_count": null,
      "metadata": {},
      "outputs": [],
      "source": [
        "def find_rhyme(word, pos):\n",
        "    url = f\"https://api.datamuse.com/words?rel_rhy={word}&tags={pos}\"\n",
        "    response = requests.get(url)\n",
        "    if response.status_code == 200:\n",
        "        words = response.json()\n",
        "        if words:\n",
        "            return words[0]['word']\n",
        "    return word  # return the original word if no rhyme is found"
      ]
    },
    {
      "cell_type": "markdown",
      "metadata": {},
      "source": [
        "\n",
        "The provided code defines a function named *generate_poem* that creates a short poem consisting of four lines. The poem is constructed by iteratively selecting a random seed word from a list (seed_words) and generating a line using the function *generate_line(seed_word)* for each iteration.\n",
        "\n",
        "For every second line (i.e., when i is odd), the code identifies the last word of the previous line, finds a rhyming noun using the *find_rhyme* function, and substitutes the last word of the current line with the identified rhyming noun. This rhyme scheme contributes to the coherence and structure of the poem."
      ]
    },
    {
      "cell_type": "code",
      "execution_count": null,
      "metadata": {},
      "outputs": [],
      "source": [
        "def generate_poem():\n",
        "    poem = []\n",
        "    for i in range(4):  # Generate 4 lines\n",
        "        seed_word = random.choice(seed_words)\n",
        "        line = generate_line(seed_word)\n",
        "        if i % 2 != 0:  # For every second line, find a rhyme for the last word of the previous line\n",
        "            last_word = poem[i - 1].split()[-1]\n",
        "            rhyme_word = find_rhyme(last_word, 'nn')  # Find a noun that rhymes\n",
        "            line = line.rsplit(' ', 1)[0] + ' ' + rhyme_word  # Replace the last word with the rhyming word\n",
        "        poem.append(line)\n",
        "    return '\\n'.join(poem)"
      ]
    },
    {
      "cell_type": "markdown",
      "metadata": {},
      "source": [
        "The final poem is a concatenation of the generated lines, forming a coherent and creatively constructed verse. Note that this code assumes the availability of the *generate_line* and *find_rhyme* functions, as they are referenced within the *generate_poem* function."
      ]
    },
    {
      "cell_type": "code",
      "execution_count": null,
      "metadata": {},
      "outputs": [],
      "source": [
        "# Generate and print the poem\n",
        "print(generate_poem())"
      ]
    }
  ],
  "metadata": {
    "colab": {
      "authorship_tag": "ABX9TyPHHMjAY/nmLTdrKCCHTc8Z",
      "include_colab_link": true,
      "provenance": []
    },
    "kernelspec": {
      "display_name": "Python 3",
      "name": "python3"
    },
    "language_info": {
      "codemirror_mode": {
        "name": "ipython",
        "version": 3
      },
      "file_extension": ".py",
      "mimetype": "text/x-python",
      "name": "python",
      "nbconvert_exporter": "python",
      "pygments_lexer": "ipython3",
      "version": "3.8.17"
    }
  },
  "nbformat": 4,
  "nbformat_minor": 0
}
