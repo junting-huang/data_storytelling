{
  "nbformat": 4,
  "nbformat_minor": 0,
  "metadata": {
    "colab": {
      "provenance": [],
      "authorship_tag": "ABX9TyPHHMjAY/nmLTdrKCCHTc8Z",
      "include_colab_link": true
    },
    "kernelspec": {
      "name": "python3",
      "display_name": "Python 3"
    },
    "language_info": {
      "name": "python"
    }
  },
  "cells": [
    {
      "cell_type": "markdown",
      "metadata": {
        "id": "view-in-github",
        "colab_type": "text"
      },
      "source": [
        "<a href=\"https://colab.research.google.com/github/junting-huang/data_storytelling/blob/main/case_4_pattern.ipynb\" target=\"_parent\"><img src=\"https://colab.research.google.com/assets/colab-badge.svg\" alt=\"Open In Colab\"/></a>"
      ]
    },
    {
      "cell_type": "markdown",
      "source": [
        "# case_4. pattern"
      ],
      "metadata": {
        "id": "xUlcdeaghvrO"
      }
    },
    {
      "cell_type": "markdown",
      "source": [
        "## 1.3 rule-based text generation"
      ],
      "metadata": {
        "id": "n1GJBJQrYUCB"
      }
    },
    {
      "cell_type": "code",
      "source": [
        "import random"
      ],
      "metadata": {
        "id": "VX-ZPXfqQuGU"
      },
      "execution_count": null,
      "outputs": []
    },
    {
      "cell_type": "code",
      "source": [
        "# Dictionary of words for each part of speech\n",
        "word_dict = {\n",
        "    'adjectives': ['bright', 'dark', 'colorful', 'dreary', 'vibrant', 'lifeless'],\n",
        "    'nouns': ['sun', 'moon', 'forest', 'desert', 'sky', 'ocean'],\n",
        "    'verbs': ['shines', 'sings', 'whispers', 'screams', 'glistens', 'cries'],\n",
        "    'adverbs': ['loudly', 'softly', 'brightly', 'painfully', 'carefully', 'joyfully']\n",
        "}"
      ],
      "metadata": {
        "id": "2QwUChT5Oal4"
      },
      "execution_count": null,
      "outputs": []
    },
    {
      "cell_type": "code",
      "source": [
        "# Sentence structures that the program can choose from\n",
        "sentence_structures = [\n",
        "    ['The', 'adjectives', 'nouns', 'verbs', 'adverbs'],\n",
        "    ['adjectives', 'nouns', 'verbs', 'adverbs', 'in the', 'adjectives', 'nouns'],\n",
        "    ['The', 'nouns', 'verbs', 'adverbs', 'under the', 'adjectives', 'nouns']\n",
        "]"
      ],
      "metadata": {
        "id": "LmH4_CHIOhxx"
      },
      "execution_count": null,
      "outputs": []
    },
    {
      "cell_type": "code",
      "source": [
        "# Returns a random word of the given part of speech\n",
        "def get_word(part_of_speech):\n",
        "    return random.choice(word_dict[part_of_speech])"
      ],
      "metadata": {
        "id": "zvQRPyvxPliA"
      },
      "execution_count": null,
      "outputs": []
    },
    {
      "cell_type": "code",
      "source": [
        "# Returns a sentence generated according to a random sentence structure\n",
        "def get_sentence():\n",
        "    sentence_structure = random.choice(sentence_structures)\n",
        "    sentence = ' '.join(get_word(part_of_speech) if part_of_speech in word_dict else part_of_speech for part_of_speech in sentence_structure)\n",
        "    return sentence.capitalize() + '.'"
      ],
      "metadata": {
        "id": "cYtZC_kdQZO8"
      },
      "execution_count": null,
      "outputs": []
    },
    {
      "cell_type": "code",
      "source": [
        "# Generates a 4-line poem\n",
        "def generate_poem():\n",
        "    for _ in range(4):\n",
        "        print(get_sentence())"
      ],
      "metadata": {
        "id": "rOBmnEVUQzr6"
      },
      "execution_count": null,
      "outputs": []
    },
    {
      "cell_type": "code",
      "source": [
        "generate_poem()"
      ],
      "metadata": {
        "id": "lmhDGIveQ-qN",
        "colab": {
          "base_uri": "https://localhost:8080/"
        },
        "outputId": "2804e840-6b12-41a4-d639-e351e1f91ac6"
      },
      "execution_count": null,
      "outputs": [
        {
          "output_type": "stream",
          "name": "stdout",
          "text": [
            "The lifeless desert glistens brightly.\n",
            "Vibrant sun glistens softly in the bright desert.\n",
            "Dreary moon whispers painfully in the colorful ocean.\n",
            "Dark sky shines softly in the vibrant desert.\n"
          ]
        }
      ]
    },
    {
      "cell_type": "markdown",
      "source": [
        "## 1.4 regulated verse generation"
      ],
      "metadata": {
        "id": "apa7nXDZPmGb"
      }
    },
    {
      "cell_type": "code",
      "source": [
        "from textblob import Word\n",
        "import random\n",
        "import requests\n",
        "\n",
        "seed_words = ['love', 'moon', 'star', 'dream']\n",
        "adjectives = ['bright', 'dark', 'sweet', 'silent']\n",
        "nouns = ['night', 'sky', 'heart', 'light']\n",
        "\n",
        "def generate_line(seed_word):\n",
        "    adjective = random.choice(adjectives)\n",
        "    noun = random.choice(nouns)\n",
        "    return f\"The {adjective} {seed_word} of {noun}\"\n",
        "\n",
        "def find_rhyme(word, pos):\n",
        "    url = f\"https://api.datamuse.com/words?rel_rhy={word}&tags={pos}\"\n",
        "    response = requests.get(url)\n",
        "    if response.status_code == 200:\n",
        "        words = response.json()\n",
        "        if words:\n",
        "            return words[0]['word']\n",
        "    return word  # return the original word if no rhyme is found\n",
        "\n",
        "def generate_poem():\n",
        "    poem = []\n",
        "    for i in range(4):  # Generate 4 lines\n",
        "        seed_word = random.choice(seed_words)\n",
        "        line = generate_line(seed_word)\n",
        "        if i % 2 != 0:  # For every second line, find a rhyme for the last word of the previous line\n",
        "            last_word = poem[i - 1].split()[-1]\n",
        "            rhyme_word = find_rhyme(last_word, 'nn')  # Find a noun that rhymes\n",
        "            line = line.rsplit(' ', 1)[0] + ' ' + rhyme_word  # Replace the last word with the rhyming word\n",
        "        poem.append(line)\n",
        "    return '\\n'.join(poem)\n",
        "\n",
        "# Generate and print the poem\n",
        "print(generate_poem())"
      ],
      "metadata": {
        "colab": {
          "base_uri": "https://localhost:8080/"
        },
        "id": "WUXTiyCRR0br",
        "outputId": "fc7d983d-e929-4597-c513-899fe74e4537"
      },
      "execution_count": null,
      "outputs": [
        {
          "output_type": "stream",
          "name": "stdout",
          "text": [
            "The bright moon of light\n",
            "The silent moon of bite\n",
            "The dark love of sky\n",
            "The silent star of lie\n"
          ]
        }
      ]
    }
  ]
}