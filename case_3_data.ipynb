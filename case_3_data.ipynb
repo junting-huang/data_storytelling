{
 "cells": [
  {
   "cell_type": "markdown",
   "metadata": {},
   "source": [
    "# case_3. data"
   ]
  },
  {
   "cell_type": "markdown",
   "metadata": {},
   "source": [
    "In last lab, we introduced exploratory data analysis (EDA) on textual data using popular python packages such as pandas, matplotlib, and NLTK. However, real-world textual data often comes in messy and unstructured formats, presenting challenges for analysis and interpretation. This lab serves as an introductory guide, demonstrating how to preprocess raw textual data obtained from the internet, scraped from websites, or sourced from other data repositories.\n",
    "\n",
    "Text preprocessing is an essential step in natural language processing (NLP) that involves cleaning and transforming unstructured text data to prepare it for analysis. It includes tokenization, stemming, lemmatization, stop-word and punctuation removal, and part-of-speech tagging. The goal is to enhance the quality of the textual data, reduce noise, and standardize its structure. In this lab, we will introduce the basics of text preprocessing and provide Python code examples to illustrate how to implement these tasks using the NLTK library. By the end of the lab, readers will better understand how to prepare text data for many NLP tasks."
   ]
  },
  {
   "cell_type": "markdown",
   "metadata": {},
   "source": [
    "## 3.1 Import packages and dataset\n",
    "\n",
    "As always, we need to import packages and raw dataset. In Python's scikit-learn library, the *sklearn.datasets* module provides a collection of functions and utilities for loading and fetching standard datasets for machine learning. This module is particularly useful for quickly experimenting with algorithms and performing initial data exploration. It includes functions to download and load various well-known datasets, such as the iris dataset, digits dataset, and breast cancer dataset, among others. These datasets cover a range of problem types, including classification, regression, and clustering. The sklearn.datasets module simplifies the process of acquiring sample datasets, making it convenient for practitioners to test and prototype machine learning models without the need for external data sources. This functionality is beneficial for both beginners learning machine learning concepts and experienced practitioners who want to quickly assess the performance of algorithms on standard datasets.\n",
    "\n",
    "\n",
    "The 20newsgroups dataset in Python, commonly used in the field of text classification and information retrieval. This dataset consists of approximately 20,000 newsgroup documents, covering 20 different newsgroups or topics. These topics span a diverse range of subjects, including politics, sports, technology, and more. The 20newsgroups dataset serves as a benchmark for text classification algorithms, allowing researchers and practitioners to evaluate the performance of models in distinguishing between various news categories. Each document in the dataset is labeled with its corresponding newsgroup, making it suitable for supervised learning tasks. The dataset is often utilized to test and develop algorithms for document classification, topic modeling, and text clustering, making it a valuable resource for the evaluation of natural language processing and machine learning techniques. In this lab, we use 20newsgroups dataset to demonstrate common text preprocessing tasks. Please feel free to replace this corpus to any text of your interest. "
   ]
  },
  {
   "cell_type": "code",
   "execution_count": null,
   "metadata": {},
   "outputs": [],
   "source": [
    "from nltk.corpus import stopwords\n",
    "from sklearn.datasets import fetch_20newsgroups\n",
    "\n",
    "from nltk.tokenize import word_tokenize\n",
    "\n",
    "import spacy\n",
    "\n",
    "documents, _ = fetch_20newsgroups(\n",
    "    shuffle=True,\n",
    "    random_state=1,\n",
    "    remove=(\"headers\", \"footers\", \"quotes\"),\n",
    "    return_X_y=True,\n",
    ")\n"
   ]
  },
  {
   "cell_type": "markdown",
   "metadata": {},
   "source": [
    "Let's take a look of the first document in this corpus:"
   ]
  },
  {
   "cell_type": "code",
   "execution_count": null,
   "metadata": {},
   "outputs": [],
   "source": [
    "text = documents[0]\n",
    "print(text)"
   ]
  },
  {
   "cell_type": "markdown",
   "metadata": {},
   "source": [
    "## 3.2 Stopwords Removal\n",
    "\n",
    "In NLP, stopwords refer to common words that are often removed from text data during preprocessing because they are considered to carry little meaningful information. These words typically include common grammatical terms, such as articles (e.g., \"the,\" \"a,\" \"an\"), prepositions (e.g., \"in,\" \"on,\" \"under\"), conjunctions (e.g., \"and,\" \"but,\" \"or\"), and other frequently occurring words. The purpose of removing stopwords is to focus on the more significant and distinctive words in a document, improving the efficiency of text analysis and reducing noise in the data."
   ]
  },
  {
   "cell_type": "code",
   "execution_count": null,
   "metadata": {},
   "outputs": [],
   "source": [
    "print(list(stopwords.words(\"english\")))"
   ]
  },
  {
   "cell_type": "code",
   "execution_count": null,
   "metadata": {},
   "outputs": [],
   "source": [
    "# Tokenize the text\n",
    "words = word_tokenize(text)\n",
    "\n",
    "# Filter the stopwords\n",
    "filtered_words = [word for word in words if word.lower() not in stopwords.words(\"english\")]"
   ]
  },
  {
   "cell_type": "markdown",
   "metadata": {},
   "source": [
    "Print the preprocessed text,"
   ]
  },
  {
   "cell_type": "code",
   "execution_count": null,
   "metadata": {},
   "outputs": [],
   "source": [
    "print(' '.join(filtered_words))"
   ]
  },
  {
   "cell_type": "markdown",
   "metadata": {},
   "source": [
    "## 3.3 Punctuation Removal\n",
    "\n",
    "Punctuation removal is a preprocessing step that involves eliminating punctuation marks from text data. Punctuation, such as periods, commas, exclamation points, and question marks, often doesn't contribute directly to the meaning of words and can introduce noise during text analysis.This process can be implemented using string manipulation techniques or regular expressions, where each character is examined, and punctuation marks are selectively excluded. The resulting text without punctuation is cleaner, making it more suitable for subsequent language processing tasks that rely on the semantic content of the text rather than its grammatical structure."
   ]
  },
  {
   "cell_type": "code",
   "execution_count": null,
   "metadata": {},
   "outputs": [],
   "source": [
    "import string\n",
    "\n",
    "# Remove punctuation using string manipulation\n",
    "text_no_punct = [char for char in filtered_words if char not in string.punctuation]\n"
   ]
  },
  {
   "cell_type": "markdown",
   "metadata": {},
   "source": [
    "Print the preprocessed text,"
   ]
  },
  {
   "cell_type": "code",
   "execution_count": null,
   "metadata": {},
   "outputs": [],
   "source": [
    "print(' '.join(text_no_punct))"
   ]
  },
  {
   "cell_type": "markdown",
   "metadata": {},
   "source": [
    "## 3.4 lemmatization\n",
    "\n",
    "Lemmatization is an another fundamental technique that involves reducing words to their base or root forms, known as lemmas. Unlike stemming, which simply removes prefixes or suffixes to approximate the root form, lemmatization ensures that the transformed words are valid in the language. The process considers the context and grammatical structure of words, producing linguistically accurate lemmas. For instance, the lemmatization of words like \"running\" or \"ran\" would be \"run.\" This normalization step is crucial in NLP tasks where maintaining the semantic integrity of words is essential, such as in information retrieval, text mining, and sentiment analysis. Lemmatization helps unify variations of words, reducing dimensionality and improving the accuracy of language processing algorithms by focusing on the essential meaning carried by words in their canonical forms."
   ]
  },
  {
   "cell_type": "code",
   "execution_count": null,
   "metadata": {},
   "outputs": [],
   "source": [
    "def lemmatization(texts, allowed_postags=[\"NOUN\", \"ADJ\", \"VERB\", \"ADV\"]):\n",
    "    nlp = spacy.load(\"en_core_web_sm\", disable=[\"parser\", \"ner\"])\n",
    "    texts_out = []\n",
    "    for text in texts:\n",
    "        doc = nlp(text)\n",
    "        new_text = []\n",
    "        for token in doc:\n",
    "            if token.pos_ in allowed_postags:\n",
    "                new_text.append(token.lemma_)\n",
    "        final = \" \".join(new_text)\n",
    "        texts_out.append(final)\n",
    "    return (texts_out)"
   ]
  },
  {
   "cell_type": "code",
   "execution_count": null,
   "metadata": {},
   "outputs": [],
   "source": [
    "lemmatized_text = lemmatization(text_no_punct)\n",
    "print(lemmatized_text)"
   ]
  },
  {
   "cell_type": "markdown",
   "metadata": {},
   "source": [
    "## 3.5 gensim.utils.simple_preprocess function\n",
    "\n",
    "The *gensim.utils.simple_preprocess* function is part of the Gensim library, specifically in the gensim.utils module. It is a utility function designed for simple text preprocessing. The main purpose of this function is to tokenize and preprocess a text by performing the following operations:\n",
    "\n",
    "* Tokenization: It breaks down the input text into individual words or tokens.\n",
    "\n",
    "* Lowercasing: It converts all tokens to lowercase. This helps in standardizing the text and avoids treating the same word in different cases as different entities.\n",
    "\n",
    "* Removing Accent Marks (deacc=True): By default, the function removes accent marks from characters. This is useful for normalizing text, especially in scenarios where accent marks might not be relevant to the analysis."
   ]
  },
  {
   "cell_type": "code",
   "execution_count": null,
   "metadata": {},
   "outputs": [],
   "source": [
    "import gensim\n",
    "\n",
    "# Note that the input text cannot be a list type\n",
    "processed_text = gensim.utils.simple_preprocess(\" \".join(lemmatized_text), deacc=True)"
   ]
  },
  {
   "cell_type": "code",
   "execution_count": null,
   "metadata": {},
   "outputs": [],
   "source": [
    "print(processed_text)\n"
   ]
  },
  {
   "cell_type": "markdown",
   "metadata": {},
   "source": [
    "## 3.6 Topic Modeling\n",
    "\n",
    "\n",
    "Imagine you have a massive collection of documents, like articles, blog posts, or research papers. The challenge is to understand what these documents are about without reading each one individually. This is where topic modeling comes in. In the context of text, a topic is a set of words that tend to occur together. For example, if you're reading about cars, words like \"engine,\" \"speed,\" and \"fuel efficiency\" might frequently appear together, indicating the topic is related to automobiles. Topic modeling is a technique in the field of natural language processing (NLP) that helps us automatically discover hidden themes or topics in a large collection of text documents. Instead of reading every document, the idea is to let the computer analyze the words and find patterns, grouping them into topics.\n",
    "\n",
    "Topic models find useful applications in literature study by providing sophisticated tools to analyze, categorize, and derive insights from vast collections of texts. One significant application is in literature reviews, where researchers can employ topic modeling to efficiently identify and synthesize key themes across numerous academic papers, streamlining the process of understanding existing work on a particular subject. Moreover, topic modeling facilitates genre and style analysis, helping scholars discern distinguishing features of different literary genres or track the evolving styles of specific authors. It aids in character and plot analysis, unraveling the thematic intricacies within novels or plays. Comparative literature studies benefit from topic modeling by identifying common themes across different cultures and languages, fostering cross-cultural literary analysis. Additionally, the technique is instrumental in recognizing literary movements, mapping the evolution of trends within the field.\n",
    "\n",
    "The most common method for topic modeling is Latent Dirichlet Allocation (LDA). In the following section, we are going to show you how to run a simple LDA on a given corpus."
   ]
  },
  {
   "cell_type": "code",
   "execution_count": null,
   "metadata": {},
   "outputs": [],
   "source": [
    "import gensim.corpora as corpora\n",
    "import spacy\n",
    "\n",
    "import warnings\n",
    "warnings.filterwarnings(\"ignore\", category=DeprecationWarning)"
   ]
  },
  {
   "cell_type": "code",
   "execution_count": null,
   "metadata": {},
   "outputs": [],
   "source": [
    "lemmatized_texts = lemmatization(documents)\n",
    "\n",
    "def gen_words(texts):\n",
    "    final = []\n",
    "    for text in texts:\n",
    "        new = gensim.utils.simple_preprocess(text, deacc=True)\n",
    "        final.append(new)\n",
    "    return (final)\n",
    "\n",
    "data_words = gen_words(lemmatized_texts)\n"
   ]
  },
  {
   "cell_type": "code",
   "execution_count": null,
   "metadata": {},
   "outputs": [],
   "source": [
    "id2word = corpora.Dictionary(data_words)\n",
    "\n",
    "corpus = []\n",
    "for text in data_words:\n",
    "    new = id2word.doc2bow(text)\n",
    "    corpus.append(new)\n",
    "\n",
    "print(corpus[0][0:20])\n",
    "\n",
    "word = id2word[[0][:1][0]]\n",
    "print(word)\n",
    "print(len(corpus))"
   ]
  },
  {
   "cell_type": "code",
   "execution_count": null,
   "metadata": {},
   "outputs": [],
   "source": [
    "lda_model = gensim.models.ldamodel.LdaModel(corpus=corpus,\n",
    "                                           id2word=id2word,\n",
    "                                           num_topics=8,\n",
    "                                           random_state=100,\n",
    "                                           update_every=1,\n",
    "                                           chunksize=100,\n",
    "                                           passes=10,\n",
    "                                           alpha=\"auto\")"
   ]
  },
  {
   "cell_type": "code",
   "execution_count": null,
   "metadata": {},
   "outputs": [],
   "source": [
    "lda_model.print_topics(num_topics=8, num_words=10)"
   ]
  },
  {
   "cell_type": "markdown",
   "metadata": {},
   "source": [
    "Does LDA provides coherent topics? What insights do the results provide regarding the corpus?"
   ]
  }
 ],
 "metadata": {
  "kernelspec": {
   "display_name": "py38",
   "language": "python",
   "name": "python3"
  },
  "language_info": {
   "codemirror_mode": {
    "name": "ipython",
    "version": 3
   },
   "file_extension": ".py",
   "mimetype": "text/x-python",
   "name": "python",
   "nbconvert_exporter": "python",
   "pygments_lexer": "ipython3",
   "version": "3.8.17"
  },
  "orig_nbformat": 4
 },
 "nbformat": 4,
 "nbformat_minor": 2
}
