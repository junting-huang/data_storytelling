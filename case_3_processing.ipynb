{
  "nbformat": 4,
  "nbformat_minor": 0,
  "metadata": {
    "colab": {
      "provenance": [],
      "authorship_tag": "ABX9TyM4cYUclOmi29chNp5PhQ0P",
      "include_colab_link": true
    },
    "kernelspec": {
      "name": "python3",
      "display_name": "Python 3"
    },
    "language_info": {
      "name": "python"
    }
  },
  "cells": [
    {
      "cell_type": "markdown",
      "metadata": {
        "id": "view-in-github",
        "colab_type": "text"
      },
      "source": [
        "<a href=\"https://colab.research.google.com/github/junting-huang/data_storytelling/blob/main/case_3_processing.ipynb\" target=\"_parent\"><img src=\"https://colab.research.google.com/assets/colab-badge.svg\" alt=\"Open In Colab\"/></a>"
      ]
    },
    {
      "cell_type": "markdown",
      "source": [
        "# processing\n",
        "- what is the difference between \"raw\" and \"processed\" data?\n",
        "- how does data transform from one mode of representation to another?\n",
        "- how does meaningful information emerge from such transformation?\n",
        "\n",
        "## case 3.1 data collection\n",
        "- number\n",
        "- image\n",
        "- audio\n",
        "- print\n",
        "- narrative\n",
        "\n",
        "## exercise 3.1\n",
        "organize the data above by time, type, theme, and/or level of abstraction\n",
        "\n",
        "## case 3.2 data transformation\n",
        "- data cleaning\n",
        "- data imputation\n",
        "- data standardization\n",
        "- data transformation\n",
        "\n",
        "## exercise 3.2\n",
        "generate a piece of music about climate change using numeric data of global temperature\n",
        "\n",
        "## exampe 3.1 (two trains)\n",
        "[Brian Foo: Two Trains Sonification of Income Inequality on the NYC Subway](https://datadrivendj.com/tracks/subway/)\n",
        "\n",
        "## case 3.3 statistical modeling\n",
        " - mathematical models\n",
        " - machine learning models"
      ],
      "metadata": {
        "id": "DrKVmRaw6isS"
      }
    },
    {
      "cell_type": "code",
      "execution_count": null,
      "metadata": {
        "colab": {
          "base_uri": "https://localhost:8080/"
        },
        "id": "CWbxzoUM6gBH",
        "outputId": "6176e044-f464-4a0b-ad1e-1cab427a91a6"
      },
      "outputs": [
        {
          "output_type": "stream",
          "name": "stdout",
          "text": [
            "Collecting MIDIUtil\n",
            "  Downloading MIDIUtil-1.2.1.tar.gz (1.0 MB)\n",
            "\u001b[?25l     \u001b[90m━━━━━━━━━━━━━━━━━━━━━━━━━━━━━━━━━━━━━━━━\u001b[0m \u001b[32m0.0/1.0 MB\u001b[0m \u001b[31m?\u001b[0m eta \u001b[36m-:--:--\u001b[0m\r\u001b[2K     \u001b[91m━━━━━━━━━━━━━━━━━━━━━━━━━━━━━━━━━━━━━━━\u001b[0m\u001b[91m╸\u001b[0m \u001b[32m1.0/1.0 MB\u001b[0m \u001b[31m49.8 MB/s\u001b[0m eta \u001b[36m0:00:01\u001b[0m\r\u001b[2K     \u001b[90m━━━━━━━━━━━━━━━━━━━━━━━━━━━━━━━━━━━━━━━━\u001b[0m \u001b[32m1.0/1.0 MB\u001b[0m \u001b[31m25.2 MB/s\u001b[0m eta \u001b[36m0:00:00\u001b[0m\n",
            "\u001b[?25h  Preparing metadata (setup.py) ... \u001b[?25l\u001b[?25hdone\n",
            "Building wheels for collected packages: MIDIUtil\n",
            "  Building wheel for MIDIUtil (setup.py) ... \u001b[?25l\u001b[?25hdone\n",
            "  Created wheel for MIDIUtil: filename=MIDIUtil-1.2.1-py3-none-any.whl size=54567 sha256=10c09cc1f62cd4407c9b669c4a978701fc956ba5a1d7d315e7a71d732c55edca\n",
            "  Stored in directory: /root/.cache/pip/wheels/af/43/4a/00b5e4f2fe5e2cd6e92b461995a3a97a2cebb30ab5783501b0\n",
            "Successfully built MIDIUtil\n",
            "Installing collected packages: MIDIUtil\n",
            "Successfully installed MIDIUtil-1.2.1\n"
          ]
        }
      ],
      "source": [
        "pip install MIDIUtil"
      ]
    },
    {
      "cell_type": "code",
      "source": [
        "from midiutil import MIDIFile\n",
        "\n",
        "# Your data to be sonified\n",
        "data = [60, 62, 64, 65, 67, 69, 71, 72, 74, 76, 77, 79]\n",
        "\n",
        "# Create a new MIDI file with one track\n",
        "midi = MIDIFile(1)\n",
        "\n",
        "# Set up the track\n",
        "track = 0\n",
        "time = 0\n",
        "midi.addTrackName(track, time, \"Data Sonification\")\n",
        "midi.addTempo(track, time, 120)  # Set tempo to 120 beats per minute\n",
        "\n",
        "# Convert each data point into a note\n",
        "for i, value in enumerate(data):\n",
        "    note = value  # MIDI note number\n",
        "    duration = 1  # duration of note in beats\n",
        "    volume = 100  # volume (0-127)\n",
        "    midi.addNote(track, 0, note, time + i, duration, volume)\n",
        "\n",
        "# Write the MIDI file to disk\n",
        "with open(\"data_sonification.mid\", \"wb\") as output_file:\n",
        "    midi.writeFile(output_file)"
      ],
      "metadata": {
        "id": "CwxBBVMH-0yP"
      },
      "execution_count": null,
      "outputs": []
    }
  ]
}